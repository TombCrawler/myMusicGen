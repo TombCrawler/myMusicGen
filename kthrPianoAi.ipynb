{
 "cells": [
  {
   "cell_type": "code",
   "execution_count": 140,
   "metadata": {},
   "outputs": [],
   "source": [
    "from IPython import display\n",
    "import collections\n",
    "import datetime\n",
    "import fluidsynth\n",
    "import glob\n",
    "import numpy as np\n",
    "import pathlib\n",
    "import pandas as pd\n",
    "import pretty_midi\n",
    "import seaborn as sns\n",
    "import tensorflow as tf\n",
    "\n",
    "from matplotlib import pyplot as plt\n",
    "from typing import Dict, List, Optional, Sequence, Tuple\n",
    "\n",
    "# Tomb added\n",
    "import random"
   ]
  },
  {
   "cell_type": "code",
   "execution_count": 141,
   "metadata": {},
   "outputs": [
    {
     "name": "stdout",
     "output_type": "stream",
     "text": [
      "['/Volumes/MAGIC1/CS50/myMusicGen/data/chorales/midi/000101b_.mid', '/Volumes/MAGIC1/CS50/myMusicGen/data/chorales/midi/000106b_.mid', '/Volumes/MAGIC1/CS50/myMusicGen/data/chorales/midi/000106trio.mid', '/Volumes/MAGIC1/CS50/myMusicGen/data/chorales/midi/000206b_.mid', '/Volumes/MAGIC1/CS50/myMusicGen/data/chorales/midi/000306b_.mid', '/Volumes/MAGIC1/CS50/myMusicGen/data/chorales/midi/000408b_.mid', '/Volumes/MAGIC1/CS50/myMusicGen/data/chorales/midi/000504b_.mid', '/Volumes/MAGIC1/CS50/myMusicGen/data/chorales/midi/000507b_.mid', '/Volumes/MAGIC1/CS50/myMusicGen/data/chorales/midi/000603b_.mid', '/Volumes/MAGIC1/CS50/myMusicGen/data/chorales/midi/000606b_.mid', '/Volumes/MAGIC1/CS50/myMusicGen/data/chorales/midi/000707b_.mid', '/Volumes/MAGIC1/CS50/myMusicGen/data/chorales/midi/000806b_.mid', '/Volumes/MAGIC1/CS50/myMusicGen/data/chorales/midi/000907b_.mid', '/Volumes/MAGIC1/CS50/myMusicGen/data/chorales/midi/001007b_.mid', '/Volumes/MAGIC1/CS50/myMusicGen/data/chorales/midi/001106b_.mid', '/Volumes/MAGIC1/CS50/myMusicGen/data/chorales/midi/001207b_.mid', '/Volumes/MAGIC1/CS50/myMusicGen/data/chorales/midi/001306b_.mid', '/Volumes/MAGIC1/CS50/myMusicGen/data/chorales/midi/001405b_.mid', '/Volumes/MAGIC1/CS50/myMusicGen/data/chorales/midi/001606b_.mid', '/Volumes/MAGIC1/CS50/myMusicGen/data/chorales/midi/001707b_.mid', '/Volumes/MAGIC1/CS50/myMusicGen/data/chorales/midi/001805blz.mid', '/Volumes/MAGIC1/CS50/myMusicGen/data/chorales/midi/001805bw.mid', '/Volumes/MAGIC1/CS50/myMusicGen/data/chorales/midi/001907b_.mid', '/Volumes/MAGIC1/CS50/myMusicGen/data/chorales/midi/001907ch.mid', '/Volumes/MAGIC1/CS50/myMusicGen/data/chorales/midi/002007b_.mid', '/Volumes/MAGIC1/CS50/myMusicGen/data/chorales/midi/002011b_.mid', '/Volumes/MAGIC1/CS50/myMusicGen/data/chorales/midi/002406b_.mid', '/Volumes/MAGIC1/CS50/myMusicGen/data/chorales/midi/002506b_.mid', '/Volumes/MAGIC1/CS50/myMusicGen/data/chorales/midi/002606b_.mid', '/Volumes/MAGIC1/CS50/myMusicGen/data/chorales/midi/002706b_.mid', '/Volumes/MAGIC1/CS50/myMusicGen/data/chorales/midi/002806b_.mid', '/Volumes/MAGIC1/CS50/myMusicGen/data/chorales/midi/002908b_.mid', '/Volumes/MAGIC1/CS50/myMusicGen/data/chorales/midi/002908ch.mid', '/Volumes/MAGIC1/CS50/myMusicGen/data/chorales/midi/003006b_.mid', '/Volumes/MAGIC1/CS50/myMusicGen/data/chorales/midi/003109b_.mid', '/Volumes/MAGIC1/CS50/myMusicGen/data/chorales/midi/003206b_.mid', '/Volumes/MAGIC1/CS50/myMusicGen/data/chorales/midi/003306b_.mid', '/Volumes/MAGIC1/CS50/myMusicGen/data/chorales/midi/003604b2.mid', '/Volumes/MAGIC1/CS50/myMusicGen/data/chorales/midi/003608b2.mid', '/Volumes/MAGIC1/CS50/myMusicGen/data/chorales/midi/003706b_.mid', '/Volumes/MAGIC1/CS50/myMusicGen/data/chorales/midi/003806b_.mid', '/Volumes/MAGIC1/CS50/myMusicGen/data/chorales/midi/003907b_.mid', '/Volumes/MAGIC1/CS50/myMusicGen/data/chorales/midi/004003b_.mid', '/Volumes/MAGIC1/CS50/myMusicGen/data/chorales/midi/004006b_.mid', '/Volumes/MAGIC1/CS50/myMusicGen/data/chorales/midi/004008b_.mid', '/Volumes/MAGIC1/CS50/myMusicGen/data/chorales/midi/004106b_.mid', '/Volumes/MAGIC1/CS50/myMusicGen/data/chorales/midi/004106bs.mid', '/Volumes/MAGIC1/CS50/myMusicGen/data/chorales/midi/004207b_.mid', '/Volumes/MAGIC1/CS50/myMusicGen/data/chorales/midi/004311b_.mid', '/Volumes/MAGIC1/CS50/myMusicGen/data/chorales/midi/004407b_.mid', '/Volumes/MAGIC1/CS50/myMusicGen/data/chorales/midi/004507b_.mid', '/Volumes/MAGIC1/CS50/myMusicGen/data/chorales/midi/004606b_.mid', '/Volumes/MAGIC1/CS50/myMusicGen/data/chorales/midi/004606bs.mid', '/Volumes/MAGIC1/CS50/myMusicGen/data/chorales/midi/004705b_.mid', '/Volumes/MAGIC1/CS50/myMusicGen/data/chorales/midi/004803b_.mid', '/Volumes/MAGIC1/CS50/myMusicGen/data/chorales/midi/004807b_.mid', '/Volumes/MAGIC1/CS50/myMusicGen/data/chorales/midi/005206b_.mid', '/Volumes/MAGIC1/CS50/myMusicGen/data/chorales/midi/005505b_.mid', '/Volumes/MAGIC1/CS50/myMusicGen/data/chorales/midi/005605b_.mid', '/Volumes/MAGIC1/CS50/myMusicGen/data/chorales/midi/005708b_.mid', '/Volumes/MAGIC1/CS50/myMusicGen/data/chorales/midi/005903b_.mid', '/Volumes/MAGIC1/CS50/myMusicGen/data/chorales/midi/006005b_.mid', '/Volumes/MAGIC1/CS50/myMusicGen/data/chorales/midi/006106b_.mid', '/Volumes/MAGIC1/CS50/myMusicGen/data/chorales/midi/006206b_.mid', '/Volumes/MAGIC1/CS50/myMusicGen/data/chorales/midi/006402b_.mid', '/Volumes/MAGIC1/CS50/myMusicGen/data/chorales/midi/006404b_.mid', '/Volumes/MAGIC1/CS50/myMusicGen/data/chorales/midi/006408b_.mid', '/Volumes/MAGIC1/CS50/myMusicGen/data/chorales/midi/006502b_.mid', '/Volumes/MAGIC1/CS50/myMusicGen/data/chorales/midi/006507b_.mid', '/Volumes/MAGIC1/CS50/myMusicGen/data/chorales/midi/006606b_.mid', '/Volumes/MAGIC1/CS50/myMusicGen/data/chorales/midi/006704b_.mid', '/Volumes/MAGIC1/CS50/myMusicGen/data/chorales/midi/006707b_.mid', '/Volumes/MAGIC1/CS50/myMusicGen/data/chorales/midi/006906b_.mid', '/Volumes/MAGIC1/CS50/myMusicGen/data/chorales/midi/006906ba.mid', '/Volumes/MAGIC1/CS50/myMusicGen/data/chorales/midi/007007b_.mid', '/Volumes/MAGIC1/CS50/myMusicGen/data/chorales/midi/007011b_.mid', '/Volumes/MAGIC1/CS50/myMusicGen/data/chorales/midi/007011ch.mid', '/Volumes/MAGIC1/CS50/myMusicGen/data/chorales/midi/007206b_.mid', '/Volumes/MAGIC1/CS50/myMusicGen/data/chorales/midi/007305b_.mid', '/Volumes/MAGIC1/CS50/myMusicGen/data/chorales/midi/007408b_.mid', '/Volumes/MAGIC1/CS50/myMusicGen/data/chorales/midi/007507b_.mid', '/Volumes/MAGIC1/CS50/myMusicGen/data/chorales/midi/007514b_.mid', '/Volumes/MAGIC1/CS50/myMusicGen/data/chorales/midi/007607b_.mid', '/Volumes/MAGIC1/CS50/myMusicGen/data/chorales/midi/007614b_.mid', '/Volumes/MAGIC1/CS50/myMusicGen/data/chorales/midi/007706b_.mid', '/Volumes/MAGIC1/CS50/myMusicGen/data/chorales/midi/007807b_.mid', '/Volumes/MAGIC1/CS50/myMusicGen/data/chorales/midi/007903b_.mid', '/Volumes/MAGIC1/CS50/myMusicGen/data/chorales/midi/007903bs.mid', '/Volumes/MAGIC1/CS50/myMusicGen/data/chorales/midi/007906b_.mid', '/Volumes/MAGIC1/CS50/myMusicGen/data/chorales/midi/008008b_.mid', '/Volumes/MAGIC1/CS50/myMusicGen/data/chorales/midi/008107b_.mid', '/Volumes/MAGIC1/CS50/myMusicGen/data/chorales/midi/008305b_.mid', '/Volumes/MAGIC1/CS50/myMusicGen/data/chorales/midi/008405b_.mid', '/Volumes/MAGIC1/CS50/myMusicGen/data/chorales/midi/008506b_.mid', '/Volumes/MAGIC1/CS50/myMusicGen/data/chorales/midi/008606b_.mid', '/Volumes/MAGIC1/CS50/myMusicGen/data/chorales/midi/008707b_.mid', '/Volumes/MAGIC1/CS50/myMusicGen/data/chorales/midi/008807b_.mid', '/Volumes/MAGIC1/CS50/myMusicGen/data/chorales/midi/008906b_.mid', '/Volumes/MAGIC1/CS50/myMusicGen/data/chorales/midi/009005b_.mid', '/Volumes/MAGIC1/CS50/myMusicGen/data/chorales/midi/009106b_.mid', '/Volumes/MAGIC1/CS50/myMusicGen/data/chorales/midi/009106ch.mid', '/Volumes/MAGIC1/CS50/myMusicGen/data/chorales/midi/009207b_.mid', '/Volumes/MAGIC1/CS50/myMusicGen/data/chorales/midi/009209b_.mid', '/Volumes/MAGIC1/CS50/myMusicGen/data/chorales/midi/009307b_.mid', '/Volumes/MAGIC1/CS50/myMusicGen/data/chorales/midi/009408b_.mid', '/Volumes/MAGIC1/CS50/myMusicGen/data/chorales/midi/009507b_.mid', '/Volumes/MAGIC1/CS50/myMusicGen/data/chorales/midi/009606b_.mid', '/Volumes/MAGIC1/CS50/myMusicGen/data/chorales/midi/009709b_.mid', '/Volumes/MAGIC1/CS50/myMusicGen/data/chorales/midi/009709ch.mid', '/Volumes/MAGIC1/CS50/myMusicGen/data/chorales/midi/009801b_.mid', '/Volumes/MAGIC1/CS50/myMusicGen/data/chorales/midi/009906b_.mid', '/Volumes/MAGIC1/CS50/myMusicGen/data/chorales/midi/010006b_.mid', '/Volumes/MAGIC1/CS50/myMusicGen/data/chorales/midi/010107b_.mid', '/Volumes/MAGIC1/CS50/myMusicGen/data/chorales/midi/010207b_.mid', '/Volumes/MAGIC1/CS50/myMusicGen/data/chorales/midi/010306b_.mid', '/Volumes/MAGIC1/CS50/myMusicGen/data/chorales/midi/010406b_.mid', '/Volumes/MAGIC1/CS50/myMusicGen/data/chorales/midi/010506b_.mid', '/Volumes/MAGIC1/CS50/myMusicGen/data/chorales/midi/010602b_.mid', '/Volumes/MAGIC1/CS50/myMusicGen/data/chorales/midi/010707b_.mid', '/Volumes/MAGIC1/CS50/myMusicGen/data/chorales/midi/010806b_.mid', '/Volumes/MAGIC1/CS50/myMusicGen/data/chorales/midi/011007b_.mid', '/Volumes/MAGIC1/CS50/myMusicGen/data/chorales/midi/011106b_.mid', '/Volumes/MAGIC1/CS50/myMusicGen/data/chorales/midi/011205b_.mid', '/Volumes/MAGIC1/CS50/myMusicGen/data/chorales/midi/011308b_.mid', '/Volumes/MAGIC1/CS50/myMusicGen/data/chorales/midi/011407b_.mid', '/Volumes/MAGIC1/CS50/myMusicGen/data/chorales/midi/011506b_.mid', '/Volumes/MAGIC1/CS50/myMusicGen/data/chorales/midi/011606b_.mid', '/Volumes/MAGIC1/CS50/myMusicGen/data/chorales/midi/011704b_.mid', '/Volumes/MAGIC1/CS50/myMusicGen/data/chorales/midi/011709b_.mid', '/Volumes/MAGIC1/CS50/myMusicGen/data/chorales/midi/011909b_.mid', '/Volumes/MAGIC1/CS50/myMusicGen/data/chorales/midi/012006b_.mid', '/Volumes/MAGIC1/CS50/myMusicGen/data/chorales/midi/012008ba.mid', '/Volumes/MAGIC1/CS50/myMusicGen/data/chorales/midi/012106b_.mid', '/Volumes/MAGIC1/CS50/myMusicGen/data/chorales/midi/012206b_.mid', '/Volumes/MAGIC1/CS50/myMusicGen/data/chorales/midi/012306b_.mid', '/Volumes/MAGIC1/CS50/myMusicGen/data/chorales/midi/012406b_.mid', '/Volumes/MAGIC1/CS50/myMusicGen/data/chorales/midi/012506b_.mid', '/Volumes/MAGIC1/CS50/myMusicGen/data/chorales/midi/012606b_.mid', '/Volumes/MAGIC1/CS50/myMusicGen/data/chorales/midi/012705b_.mid', '/Volumes/MAGIC1/CS50/myMusicGen/data/chorales/midi/012805b_.mid', '/Volumes/MAGIC1/CS50/myMusicGen/data/chorales/midi/012905b_.mid', '/Volumes/MAGIC1/CS50/myMusicGen/data/chorales/midi/013006b_.mid', '/Volumes/MAGIC1/CS50/myMusicGen/data/chorales/midi/013306b_.mid', '/Volumes/MAGIC1/CS50/myMusicGen/data/chorales/midi/013506b_.mid', '/Volumes/MAGIC1/CS50/myMusicGen/data/chorales/midi/013606b_.mid', '/Volumes/MAGIC1/CS50/myMusicGen/data/chorales/midi/013701b_.mid', '/Volumes/MAGIC1/CS50/myMusicGen/data/chorales/midi/013702b_.mid', '/Volumes/MAGIC1/CS50/myMusicGen/data/chorales/midi/013703b_.mid', '/Volumes/MAGIC1/CS50/myMusicGen/data/chorales/midi/013704b_.mid', '/Volumes/MAGIC1/CS50/myMusicGen/data/chorales/midi/013705b_.mid', '/Volumes/MAGIC1/CS50/myMusicGen/data/chorales/midi/013705ch.mid', '/Volumes/MAGIC1/CS50/myMusicGen/data/chorales/midi/013806b_.mid', '/Volumes/MAGIC1/CS50/myMusicGen/data/chorales/midi/013906b_.mid', '/Volumes/MAGIC1/CS50/myMusicGen/data/chorales/midi/014001b_.mid', '/Volumes/MAGIC1/CS50/myMusicGen/data/chorales/midi/014004b_.mid', '/Volumes/MAGIC1/CS50/myMusicGen/data/chorales/midi/014007b_.mid', '/Volumes/MAGIC1/CS50/myMusicGen/data/chorales/midi/014403b_.mid', '/Volumes/MAGIC1/CS50/myMusicGen/data/chorales/midi/014406b_.mid', '/Volumes/MAGIC1/CS50/myMusicGen/data/chorales/midi/014500ba.mid', '/Volumes/MAGIC1/CS50/myMusicGen/data/chorales/midi/014505b_.mid', '/Volumes/MAGIC1/CS50/myMusicGen/data/chorales/midi/014608b_.mid', '/Volumes/MAGIC1/CS50/myMusicGen/data/chorales/midi/014706b_.mid', '/Volumes/MAGIC1/CS50/myMusicGen/data/chorales/midi/014710b_.mid', '/Volumes/MAGIC1/CS50/myMusicGen/data/chorales/midi/014806b_.mid', '/Volumes/MAGIC1/CS50/myMusicGen/data/chorales/midi/014907b_.mid', '/Volumes/MAGIC1/CS50/myMusicGen/data/chorales/midi/014907ch.mid', '/Volumes/MAGIC1/CS50/myMusicGen/data/chorales/midi/015105b_.mid', '/Volumes/MAGIC1/CS50/myMusicGen/data/chorales/midi/015301b_.mid', '/Volumes/MAGIC1/CS50/myMusicGen/data/chorales/midi/015305b_.mid', '/Volumes/MAGIC1/CS50/myMusicGen/data/chorales/midi/015309b_.mid', '/Volumes/MAGIC1/CS50/myMusicGen/data/chorales/midi/015403b_.mid', '/Volumes/MAGIC1/CS50/myMusicGen/data/chorales/midi/015408b_.mid', '/Volumes/MAGIC1/CS50/myMusicGen/data/chorales/midi/015505b_.mid', '/Volumes/MAGIC1/CS50/myMusicGen/data/chorales/midi/015606b_.mid', '/Volumes/MAGIC1/CS50/myMusicGen/data/chorales/midi/015705b_.mid', '/Volumes/MAGIC1/CS50/myMusicGen/data/chorales/midi/015804b_.mid', '/Volumes/MAGIC1/CS50/myMusicGen/data/chorales/midi/015905b_.mid', '/Volumes/MAGIC1/CS50/myMusicGen/data/chorales/midi/016106b_.mid', '/Volumes/MAGIC1/CS50/myMusicGen/data/chorales/midi/016206blpz.mid', '/Volumes/MAGIC1/CS50/myMusicGen/data/chorales/midi/016406b_.mid', '/Volumes/MAGIC1/CS50/myMusicGen/data/chorales/midi/016506b_.mid', '/Volumes/MAGIC1/CS50/myMusicGen/data/chorales/midi/016606b_.mid', '/Volumes/MAGIC1/CS50/myMusicGen/data/chorales/midi/016806b_.mid', '/Volumes/MAGIC1/CS50/myMusicGen/data/chorales/midi/016907b_.mid', '/Volumes/MAGIC1/CS50/myMusicGen/data/chorales/midi/017106b_.mid', '/Volumes/MAGIC1/CS50/myMusicGen/data/chorales/midi/017206b_.mid', '/Volumes/MAGIC1/CS50/myMusicGen/data/chorales/midi/017206ch.mid', '/Volumes/MAGIC1/CS50/myMusicGen/data/chorales/midi/017206vn.mid', '/Volumes/MAGIC1/CS50/myMusicGen/data/chorales/midi/017405b_.mid', '/Volumes/MAGIC1/CS50/myMusicGen/data/chorales/midi/017507b_.mid', '/Volumes/MAGIC1/CS50/myMusicGen/data/chorales/midi/017507ch.mid', '/Volumes/MAGIC1/CS50/myMusicGen/data/chorales/midi/017606b_.mid', '/Volumes/MAGIC1/CS50/myMusicGen/data/chorales/midi/017705b_.mid', '/Volumes/MAGIC1/CS50/myMusicGen/data/chorales/midi/017807b_.mid', '/Volumes/MAGIC1/CS50/myMusicGen/data/chorales/midi/017906b_.mid', '/Volumes/MAGIC1/CS50/myMusicGen/data/chorales/midi/018007b_.mid', '/Volumes/MAGIC1/CS50/myMusicGen/data/chorales/midi/018305b_.mid', '/Volumes/MAGIC1/CS50/myMusicGen/data/chorales/midi/018405b_.mid', '/Volumes/MAGIC1/CS50/myMusicGen/data/chorales/midi/018405unk.mid', '/Volumes/MAGIC1/CS50/myMusicGen/data/chorales/midi/018506b_.mid', '/Volumes/MAGIC1/CS50/myMusicGen/data/chorales/midi/018707b_.mid', '/Volumes/MAGIC1/CS50/myMusicGen/data/chorales/midi/018806b_.mid', '/Volumes/MAGIC1/CS50/myMusicGen/data/chorales/midi/019007b_.mid', '/Volumes/MAGIC1/CS50/myMusicGen/data/chorales/midi/019007binst.mid', '/Volumes/MAGIC1/CS50/myMusicGen/data/chorales/midi/019406b_.mid', '/Volumes/MAGIC1/CS50/myMusicGen/data/chorales/midi/019412b_.mid', '/Volumes/MAGIC1/CS50/myMusicGen/data/chorales/midi/019506b_.mid', '/Volumes/MAGIC1/CS50/myMusicGen/data/chorales/midi/019705b_.mid', '/Volumes/MAGIC1/CS50/myMusicGen/data/chorales/midi/019707ba.mid', '/Volumes/MAGIC1/CS50/myMusicGen/data/chorales/midi/019710b_.mid', '/Volumes/MAGIC1/CS50/myMusicGen/data/chorales/midi/022602b_.mid', '/Volumes/MAGIC1/CS50/myMusicGen/data/chorales/midi/022701b_.mid', '/Volumes/MAGIC1/CS50/myMusicGen/data/chorales/midi/022703b_.mid', '/Volumes/MAGIC1/CS50/myMusicGen/data/chorales/midi/022707b_.mid', '/Volumes/MAGIC1/CS50/myMusicGen/data/chorales/midi/022709b_.mid', '/Volumes/MAGIC1/CS50/myMusicGen/data/chorales/midi/022711b_.mid', '/Volumes/MAGIC1/CS50/myMusicGen/data/chorales/midi/022902b_.mid', '/Volumes/MAGIC1/CS50/myMusicGen/data/chorales/midi/024310b_.mid', '/Volumes/MAGIC1/CS50/myMusicGen/data/chorales/midi/024403b_.mid', '/Volumes/MAGIC1/CS50/myMusicGen/data/chorales/midi/024410b_.mid', '/Volumes/MAGIC1/CS50/myMusicGen/data/chorales/midi/024415b_.mid', '/Volumes/MAGIC1/CS50/myMusicGen/data/chorales/midi/024417b_.mid', '/Volumes/MAGIC1/CS50/myMusicGen/data/chorales/midi/024425b_.mid', '/Volumes/MAGIC1/CS50/myMusicGen/data/chorales/midi/024429ba.mid', '/Volumes/MAGIC1/CS50/myMusicGen/data/chorales/midi/024432b_.mid', '/Volumes/MAGIC1/CS50/myMusicGen/data/chorales/midi/024437b_.mid', '/Volumes/MAGIC1/CS50/myMusicGen/data/chorales/midi/024440b_.mid', '/Volumes/MAGIC1/CS50/myMusicGen/data/chorales/midi/024444b_.mid', '/Volumes/MAGIC1/CS50/myMusicGen/data/chorales/midi/024446b_.mid', '/Volumes/MAGIC1/CS50/myMusicGen/data/chorales/midi/024454b_.mid', '/Volumes/MAGIC1/CS50/myMusicGen/data/chorales/midi/024462b_.mid', '/Volumes/MAGIC1/CS50/myMusicGen/data/chorales/midi/024503b_.mid', '/Volumes/MAGIC1/CS50/myMusicGen/data/chorales/midi/024505b_.mid', '/Volumes/MAGIC1/CS50/myMusicGen/data/chorales/midi/024511b_.mid', '/Volumes/MAGIC1/CS50/myMusicGen/data/chorales/midi/024514b_.mid', '/Volumes/MAGIC1/CS50/myMusicGen/data/chorales/midi/024515b_.mid', '/Volumes/MAGIC1/CS50/myMusicGen/data/chorales/midi/024517b_.mid', '/Volumes/MAGIC1/CS50/myMusicGen/data/chorales/midi/024522b_.mid', '/Volumes/MAGIC1/CS50/myMusicGen/data/chorales/midi/024526b_.mid', '/Volumes/MAGIC1/CS50/myMusicGen/data/chorales/midi/024528b_.mid', '/Volumes/MAGIC1/CS50/myMusicGen/data/chorales/midi/024537b_.mid', '/Volumes/MAGIC1/CS50/myMusicGen/data/chorales/midi/024540b_.mid', '/Volumes/MAGIC1/CS50/myMusicGen/data/chorales/midi/024805b1.mid', '/Volumes/MAGIC1/CS50/myMusicGen/data/chorales/midi/024809b1.mid', '/Volumes/MAGIC1/CS50/myMusicGen/data/chorales/midi/024809bs.mid', '/Volumes/MAGIC1/CS50/myMusicGen/data/chorales/midi/024812b2.mid', '/Volumes/MAGIC1/CS50/myMusicGen/data/chorales/midi/024817b2.mid', '/Volumes/MAGIC1/CS50/myMusicGen/data/chorales/midi/024823b2.mid', '/Volumes/MAGIC1/CS50/myMusicGen/data/chorales/midi/024823bs.mid', '/Volumes/MAGIC1/CS50/myMusicGen/data/chorales/midi/024828b3.mid', '/Volumes/MAGIC1/CS50/myMusicGen/data/chorales/midi/024833b3.mid', '/Volumes/MAGIC1/CS50/myMusicGen/data/chorales/midi/024835b3.mid', '/Volumes/MAGIC1/CS50/myMusicGen/data/chorales/midi/024842b4.mid', '/Volumes/MAGIC1/CS50/myMusicGen/data/chorales/midi/024842bs.mid', '/Volumes/MAGIC1/CS50/myMusicGen/data/chorales/midi/024846b5.mid', '/Volumes/MAGIC1/CS50/myMusicGen/data/chorales/midi/024853b5.mid', '/Volumes/MAGIC1/CS50/myMusicGen/data/chorales/midi/024859b6.mid', '/Volumes/MAGIC1/CS50/myMusicGen/data/chorales/midi/024864b6.mid', '/Volumes/MAGIC1/CS50/myMusicGen/data/chorales/midi/024864bs.mid', '/Volumes/MAGIC1/CS50/myMusicGen/data/chorales/midi/025000b_.mid', '/Volumes/MAGIC1/CS50/myMusicGen/data/chorales/midi/025100b_.mid', '/Volumes/MAGIC1/CS50/myMusicGen/data/chorales/midi/025200b_.mid', '/Volumes/MAGIC1/CS50/myMusicGen/data/chorales/midi/025300b_.mid', '/Volumes/MAGIC1/CS50/myMusicGen/data/chorales/midi/025400b_.mid', '/Volumes/MAGIC1/CS50/myMusicGen/data/chorales/midi/025500b_.mid', '/Volumes/MAGIC1/CS50/myMusicGen/data/chorales/midi/025600b_.mid', '/Volumes/MAGIC1/CS50/myMusicGen/data/chorales/midi/025700b_.mid', '/Volumes/MAGIC1/CS50/myMusicGen/data/chorales/midi/025800b_.mid', '/Volumes/MAGIC1/CS50/myMusicGen/data/chorales/midi/025900b_.mid', '/Volumes/MAGIC1/CS50/myMusicGen/data/chorales/midi/026000b_.mid', '/Volumes/MAGIC1/CS50/myMusicGen/data/chorales/midi/026100b_.mid', '/Volumes/MAGIC1/CS50/myMusicGen/data/chorales/midi/026200b_.mid', '/Volumes/MAGIC1/CS50/myMusicGen/data/chorales/midi/026300b_.mid', '/Volumes/MAGIC1/CS50/myMusicGen/data/chorales/midi/026400b_.mid', '/Volumes/MAGIC1/CS50/myMusicGen/data/chorales/midi/026500b_.mid', '/Volumes/MAGIC1/CS50/myMusicGen/data/chorales/midi/026600b_.mid', '/Volumes/MAGIC1/CS50/myMusicGen/data/chorales/midi/026700b_.mid', '/Volumes/MAGIC1/CS50/myMusicGen/data/chorales/midi/026700ba.mid', '/Volumes/MAGIC1/CS50/myMusicGen/data/chorales/midi/026800b_.mid', '/Volumes/MAGIC1/CS50/myMusicGen/data/chorales/midi/026900b_.mid', '/Volumes/MAGIC1/CS50/myMusicGen/data/chorales/midi/027000b_.mid', '/Volumes/MAGIC1/CS50/myMusicGen/data/chorales/midi/027100b_.mid', '/Volumes/MAGIC1/CS50/myMusicGen/data/chorales/midi/027200b_.mid', '/Volumes/MAGIC1/CS50/myMusicGen/data/chorales/midi/027300b_.mid', '/Volumes/MAGIC1/CS50/myMusicGen/data/chorales/midi/027400b_.mid', '/Volumes/MAGIC1/CS50/myMusicGen/data/chorales/midi/027500b_.mid', '/Volumes/MAGIC1/CS50/myMusicGen/data/chorales/midi/027600b_.mid', '/Volumes/MAGIC1/CS50/myMusicGen/data/chorales/midi/027700b_.mid', '/Volumes/MAGIC1/CS50/myMusicGen/data/chorales/midi/027800b_.mid', '/Volumes/MAGIC1/CS50/myMusicGen/data/chorales/midi/027900b_.mid', '/Volumes/MAGIC1/CS50/myMusicGen/data/chorales/midi/028000b_.mid', '/Volumes/MAGIC1/CS50/myMusicGen/data/chorales/midi/028100b_.mid', '/Volumes/MAGIC1/CS50/myMusicGen/data/chorales/midi/028200b_.mid', '/Volumes/MAGIC1/CS50/myMusicGen/data/chorales/midi/028300b_.mid', '/Volumes/MAGIC1/CS50/myMusicGen/data/chorales/midi/028400b_.mid', '/Volumes/MAGIC1/CS50/myMusicGen/data/chorales/midi/028500b_.mid', '/Volumes/MAGIC1/CS50/myMusicGen/data/chorales/midi/028600b_.mid', '/Volumes/MAGIC1/CS50/myMusicGen/data/chorales/midi/028700b_.mid', '/Volumes/MAGIC1/CS50/myMusicGen/data/chorales/midi/028800b_.mid', '/Volumes/MAGIC1/CS50/myMusicGen/data/chorales/midi/028900b_.mid', '/Volumes/MAGIC1/CS50/myMusicGen/data/chorales/midi/029000b_.mid', '/Volumes/MAGIC1/CS50/myMusicGen/data/chorales/midi/029100b_.mid', '/Volumes/MAGIC1/CS50/myMusicGen/data/chorales/midi/029200b_.mid', '/Volumes/MAGIC1/CS50/myMusicGen/data/chorales/midi/029300b_.mid', '/Volumes/MAGIC1/CS50/myMusicGen/data/chorales/midi/029400b_.mid', '/Volumes/MAGIC1/CS50/myMusicGen/data/chorales/midi/029500b_.mid', '/Volumes/MAGIC1/CS50/myMusicGen/data/chorales/midi/029600b_.mid', '/Volumes/MAGIC1/CS50/myMusicGen/data/chorales/midi/029700b_.mid', '/Volumes/MAGIC1/CS50/myMusicGen/data/chorales/midi/029800b_.mid', '/Volumes/MAGIC1/CS50/myMusicGen/data/chorales/midi/029900b_.mid', '/Volumes/MAGIC1/CS50/myMusicGen/data/chorales/midi/030000b_.mid', '/Volumes/MAGIC1/CS50/myMusicGen/data/chorales/midi/030100b_.mid', '/Volumes/MAGIC1/CS50/myMusicGen/data/chorales/midi/030200b_.mid', '/Volumes/MAGIC1/CS50/myMusicGen/data/chorales/midi/030300b_.mid', '/Volumes/MAGIC1/CS50/myMusicGen/data/chorales/midi/030400b_.mid', '/Volumes/MAGIC1/CS50/myMusicGen/data/chorales/midi/030500b_.mid', '/Volumes/MAGIC1/CS50/myMusicGen/data/chorales/midi/030600b_.mid', '/Volumes/MAGIC1/CS50/myMusicGen/data/chorales/midi/030700b_.mid', '/Volumes/MAGIC1/CS50/myMusicGen/data/chorales/midi/030800b_.mid', '/Volumes/MAGIC1/CS50/myMusicGen/data/chorales/midi/030900b_.mid', '/Volumes/MAGIC1/CS50/myMusicGen/data/chorales/midi/031000b_.mid', '/Volumes/MAGIC1/CS50/myMusicGen/data/chorales/midi/031100b_.mid', '/Volumes/MAGIC1/CS50/myMusicGen/data/chorales/midi/031200b_.mid', '/Volumes/MAGIC1/CS50/myMusicGen/data/chorales/midi/031300b_.mid', '/Volumes/MAGIC1/CS50/myMusicGen/data/chorales/midi/031400b_.mid', '/Volumes/MAGIC1/CS50/myMusicGen/data/chorales/midi/031500b_.mid', '/Volumes/MAGIC1/CS50/myMusicGen/data/chorales/midi/031600b_.mid', '/Volumes/MAGIC1/CS50/myMusicGen/data/chorales/midi/031700b_.mid', '/Volumes/MAGIC1/CS50/myMusicGen/data/chorales/midi/031800b_.mid', '/Volumes/MAGIC1/CS50/myMusicGen/data/chorales/midi/031900b_.mid', '/Volumes/MAGIC1/CS50/myMusicGen/data/chorales/midi/032000b_.mid', '/Volumes/MAGIC1/CS50/myMusicGen/data/chorales/midi/032100b_.mid', '/Volumes/MAGIC1/CS50/myMusicGen/data/chorales/midi/032200b_.mid', '/Volumes/MAGIC1/CS50/myMusicGen/data/chorales/midi/032300b_.mid', '/Volumes/MAGIC1/CS50/myMusicGen/data/chorales/midi/032400b_.mid', '/Volumes/MAGIC1/CS50/myMusicGen/data/chorales/midi/032500b_.mid', '/Volumes/MAGIC1/CS50/myMusicGen/data/chorales/midi/032600b_.mid', '/Volumes/MAGIC1/CS50/myMusicGen/data/chorales/midi/032700b_.mid', '/Volumes/MAGIC1/CS50/myMusicGen/data/chorales/midi/032800b_.mid', '/Volumes/MAGIC1/CS50/myMusicGen/data/chorales/midi/032900b_.mid', '/Volumes/MAGIC1/CS50/myMusicGen/data/chorales/midi/033000b_.mid', '/Volumes/MAGIC1/CS50/myMusicGen/data/chorales/midi/033100b_.mid', '/Volumes/MAGIC1/CS50/myMusicGen/data/chorales/midi/033200b_.mid', '/Volumes/MAGIC1/CS50/myMusicGen/data/chorales/midi/033300b_.mid', '/Volumes/MAGIC1/CS50/myMusicGen/data/chorales/midi/033400b_.mid', '/Volumes/MAGIC1/CS50/myMusicGen/data/chorales/midi/033500b_.mid', '/Volumes/MAGIC1/CS50/myMusicGen/data/chorales/midi/033600b_.mid', '/Volumes/MAGIC1/CS50/myMusicGen/data/chorales/midi/033700b_.mid', '/Volumes/MAGIC1/CS50/myMusicGen/data/chorales/midi/033800b_.mid', '/Volumes/MAGIC1/CS50/myMusicGen/data/chorales/midi/033900b_.mid', '/Volumes/MAGIC1/CS50/myMusicGen/data/chorales/midi/034000b_.mid', '/Volumes/MAGIC1/CS50/myMusicGen/data/chorales/midi/034100b_.mid', '/Volumes/MAGIC1/CS50/myMusicGen/data/chorales/midi/034200b_.mid', '/Volumes/MAGIC1/CS50/myMusicGen/data/chorales/midi/034300b_.mid', '/Volumes/MAGIC1/CS50/myMusicGen/data/chorales/midi/034400b_.mid', '/Volumes/MAGIC1/CS50/myMusicGen/data/chorales/midi/034500b_.mid', '/Volumes/MAGIC1/CS50/myMusicGen/data/chorales/midi/034600b_.mid', '/Volumes/MAGIC1/CS50/myMusicGen/data/chorales/midi/034700b_.mid', '/Volumes/MAGIC1/CS50/myMusicGen/data/chorales/midi/034800b_.mid', '/Volumes/MAGIC1/CS50/myMusicGen/data/chorales/midi/034900b_.mid', '/Volumes/MAGIC1/CS50/myMusicGen/data/chorales/midi/035000b_.mid', '/Volumes/MAGIC1/CS50/myMusicGen/data/chorales/midi/035100b_.mid', '/Volumes/MAGIC1/CS50/myMusicGen/data/chorales/midi/035200b_.mid', '/Volumes/MAGIC1/CS50/myMusicGen/data/chorales/midi/035300b_.mid', '/Volumes/MAGIC1/CS50/myMusicGen/data/chorales/midi/035400b_.mid', '/Volumes/MAGIC1/CS50/myMusicGen/data/chorales/midi/035500b_.mid', '/Volumes/MAGIC1/CS50/myMusicGen/data/chorales/midi/035600b_.mid', '/Volumes/MAGIC1/CS50/myMusicGen/data/chorales/midi/035700b_.mid', '/Volumes/MAGIC1/CS50/myMusicGen/data/chorales/midi/035800b_.mid', '/Volumes/MAGIC1/CS50/myMusicGen/data/chorales/midi/035900b_.mid', '/Volumes/MAGIC1/CS50/myMusicGen/data/chorales/midi/036000b_.mid', '/Volumes/MAGIC1/CS50/myMusicGen/data/chorales/midi/036100b_.mid', '/Volumes/MAGIC1/CS50/myMusicGen/data/chorales/midi/036200b_.mid', '/Volumes/MAGIC1/CS50/myMusicGen/data/chorales/midi/036300b_.mid', '/Volumes/MAGIC1/CS50/myMusicGen/data/chorales/midi/036400b_.mid', '/Volumes/MAGIC1/CS50/myMusicGen/data/chorales/midi/036500B_.mid', '/Volumes/MAGIC1/CS50/myMusicGen/data/chorales/midi/036600b_.mid', '/Volumes/MAGIC1/CS50/myMusicGen/data/chorales/midi/036700b_.mid', '/Volumes/MAGIC1/CS50/myMusicGen/data/chorales/midi/036800b_.mid', '/Volumes/MAGIC1/CS50/myMusicGen/data/chorales/midi/036900b_.mid', '/Volumes/MAGIC1/CS50/myMusicGen/data/chorales/midi/037000b_.mid', '/Volumes/MAGIC1/CS50/myMusicGen/data/chorales/midi/037100b_.mid', '/Volumes/MAGIC1/CS50/myMusicGen/data/chorales/midi/037200b_.mid', '/Volumes/MAGIC1/CS50/myMusicGen/data/chorales/midi/037300b_.mid', '/Volumes/MAGIC1/CS50/myMusicGen/data/chorales/midi/037300bv.mid', '/Volumes/MAGIC1/CS50/myMusicGen/data/chorales/midi/037400b_.mid', '/Volumes/MAGIC1/CS50/myMusicGen/data/chorales/midi/037500b_.mid', '/Volumes/MAGIC1/CS50/myMusicGen/data/chorales/midi/037600b_.mid', '/Volumes/MAGIC1/CS50/myMusicGen/data/chorales/midi/037700b_.mid', '/Volumes/MAGIC1/CS50/myMusicGen/data/chorales/midi/037800b_.mid', '/Volumes/MAGIC1/CS50/myMusicGen/data/chorales/midi/037900b_.mid', '/Volumes/MAGIC1/CS50/myMusicGen/data/chorales/midi/038000b_.mid', '/Volumes/MAGIC1/CS50/myMusicGen/data/chorales/midi/038100b_.mid', '/Volumes/MAGIC1/CS50/myMusicGen/data/chorales/midi/038200b_.mid', '/Volumes/MAGIC1/CS50/myMusicGen/data/chorales/midi/038300b_.mid', '/Volumes/MAGIC1/CS50/myMusicGen/data/chorales/midi/038400b_.mid', '/Volumes/MAGIC1/CS50/myMusicGen/data/chorales/midi/038500b_.mid', '/Volumes/MAGIC1/CS50/myMusicGen/data/chorales/midi/038600b_.mid', '/Volumes/MAGIC1/CS50/myMusicGen/data/chorales/midi/038700b_.mid', '/Volumes/MAGIC1/CS50/myMusicGen/data/chorales/midi/038800b_.mid', '/Volumes/MAGIC1/CS50/myMusicGen/data/chorales/midi/038900b_.mid', '/Volumes/MAGIC1/CS50/myMusicGen/data/chorales/midi/039000b_.mid', '/Volumes/MAGIC1/CS50/myMusicGen/data/chorales/midi/039100b_.mid', '/Volumes/MAGIC1/CS50/myMusicGen/data/chorales/midi/039200b_.mid', '/Volumes/MAGIC1/CS50/myMusicGen/data/chorales/midi/039300b_.mid', '/Volumes/MAGIC1/CS50/myMusicGen/data/chorales/midi/039400b_.mid', '/Volumes/MAGIC1/CS50/myMusicGen/data/chorales/midi/039500b_.mid', '/Volumes/MAGIC1/CS50/myMusicGen/data/chorales/midi/039600b_.mid', '/Volumes/MAGIC1/CS50/myMusicGen/data/chorales/midi/039700b_.mid', '/Volumes/MAGIC1/CS50/myMusicGen/data/chorales/midi/039800b_.mid', '/Volumes/MAGIC1/CS50/myMusicGen/data/chorales/midi/039900b_.mid', '/Volumes/MAGIC1/CS50/myMusicGen/data/chorales/midi/040000b_.mid', '/Volumes/MAGIC1/CS50/myMusicGen/data/chorales/midi/040100b_.mid', '/Volumes/MAGIC1/CS50/myMusicGen/data/chorales/midi/040200b_.mid', '/Volumes/MAGIC1/CS50/myMusicGen/data/chorales/midi/040300b_.mid', '/Volumes/MAGIC1/CS50/myMusicGen/data/chorales/midi/040400b_.mid', '/Volumes/MAGIC1/CS50/myMusicGen/data/chorales/midi/040500b_.mid', '/Volumes/MAGIC1/CS50/myMusicGen/data/chorales/midi/040600b_.mid', '/Volumes/MAGIC1/CS50/myMusicGen/data/chorales/midi/040700b_.mid', '/Volumes/MAGIC1/CS50/myMusicGen/data/chorales/midi/040800b_.mid', '/Volumes/MAGIC1/CS50/myMusicGen/data/chorales/midi/040900b_.mid', '/Volumes/MAGIC1/CS50/myMusicGen/data/chorales/midi/040900bv.mid', '/Volumes/MAGIC1/CS50/myMusicGen/data/chorales/midi/041000b_.mid', '/Volumes/MAGIC1/CS50/myMusicGen/data/chorales/midi/041100B_.mid', '/Volumes/MAGIC1/CS50/myMusicGen/data/chorales/midi/041200b_.mid', '/Volumes/MAGIC1/CS50/myMusicGen/data/chorales/midi/041300b_.mid', '/Volumes/MAGIC1/CS50/myMusicGen/data/chorales/midi/041400b_.mid', '/Volumes/MAGIC1/CS50/myMusicGen/data/chorales/midi/041500b_.mid', '/Volumes/MAGIC1/CS50/myMusicGen/data/chorales/midi/041600b_.mid', '/Volumes/MAGIC1/CS50/myMusicGen/data/chorales/midi/041700b_.mid', '/Volumes/MAGIC1/CS50/myMusicGen/data/chorales/midi/041800b_.mid', '/Volumes/MAGIC1/CS50/myMusicGen/data/chorales/midi/041900B_.mid', '/Volumes/MAGIC1/CS50/myMusicGen/data/chorales/midi/042000b_.mid', '/Volumes/MAGIC1/CS50/myMusicGen/data/chorales/midi/042100b_.mid', '/Volumes/MAGIC1/CS50/myMusicGen/data/chorales/midi/042200b_.mid', '/Volumes/MAGIC1/CS50/myMusicGen/data/chorales/midi/042300b_.mid', '/Volumes/MAGIC1/CS50/myMusicGen/data/chorales/midi/042400b_.mid', '/Volumes/MAGIC1/CS50/myMusicGen/data/chorales/midi/042500b_.mid', '/Volumes/MAGIC1/CS50/myMusicGen/data/chorales/midi/042600b_.mid', '/Volumes/MAGIC1/CS50/myMusicGen/data/chorales/midi/042700b_.mid', '/Volumes/MAGIC1/CS50/myMusicGen/data/chorales/midi/042800b_.mid', '/Volumes/MAGIC1/CS50/myMusicGen/data/chorales/midi/042900b_.mid', '/Volumes/MAGIC1/CS50/myMusicGen/data/chorales/midi/043000b_.mid', '/Volumes/MAGIC1/CS50/myMusicGen/data/chorales/midi/043100b_.mid', '/Volumes/MAGIC1/CS50/myMusicGen/data/chorales/midi/043200b_.mid', '/Volumes/MAGIC1/CS50/myMusicGen/data/chorales/midi/043300b_.mid', '/Volumes/MAGIC1/CS50/myMusicGen/data/chorales/midi/043400b_.mid', '/Volumes/MAGIC1/CS50/myMusicGen/data/chorales/midi/043500b_.mid', '/Volumes/MAGIC1/CS50/myMusicGen/data/chorales/midi/043600b_.mid', '/Volumes/MAGIC1/CS50/myMusicGen/data/chorales/midi/043700B_.mid', '/Volumes/MAGIC1/CS50/myMusicGen/data/chorales/midi/043800B_.mid', '/Volumes/MAGIC1/CS50/myMusicGen/data/chorales/midi/051000b_.mid', '/Volumes/MAGIC1/CS50/myMusicGen/data/chorales/midi/060600b_.mid', '/Volumes/MAGIC1/CS50/myMusicGen/data/chorales/midi/060800b_.mid', '/Volumes/MAGIC1/CS50/myMusicGen/data/chorales/midi/061500b_.mid', '/Volumes/MAGIC1/CS50/myMusicGen/data/chorales/midi/064200b_.mid', '/Volumes/MAGIC1/CS50/myMusicGen/data/chorales/midi/064500b_.mid', '/Volumes/MAGIC1/CS50/myMusicGen/data/chorales/midi/064600b_.mid', '/Volumes/MAGIC1/CS50/myMusicGen/data/chorales/midi/064700b_.mid', '/Volumes/MAGIC1/CS50/myMusicGen/data/chorales/midi/064800b_.mid', '/Volumes/MAGIC1/CS50/myMusicGen/data/chorales/midi/064900b_.mid', '/Volumes/MAGIC1/CS50/myMusicGen/data/chorales/midi/065000b_.mid', '/Volumes/MAGIC1/CS50/myMusicGen/data/chorales/midi/065000t.mid', '/Volumes/MAGIC1/CS50/myMusicGen/data/chorales/midi/065100b_.mid', '/Volumes/MAGIC1/CS50/myMusicGen/data/chorales/midi/065200b_.mid', '/Volumes/MAGIC1/CS50/myMusicGen/data/chorales/midi/065300b_.mid', '/Volumes/MAGIC1/CS50/myMusicGen/data/chorales/midi/065400b_.mid', '/Volumes/MAGIC1/CS50/myMusicGen/data/chorales/midi/065500b_.mid', '/Volumes/MAGIC1/CS50/myMusicGen/data/chorales/midi/065600b_.mid', '/Volumes/MAGIC1/CS50/myMusicGen/data/chorales/midi/065700b_.mid', '/Volumes/MAGIC1/CS50/myMusicGen/data/chorales/midi/065800b_.mid', '/Volumes/MAGIC1/CS50/myMusicGen/data/chorales/midi/065900b_.mid', '/Volumes/MAGIC1/CS50/myMusicGen/data/chorales/midi/066000b_.mid', '/Volumes/MAGIC1/CS50/myMusicGen/data/chorales/midi/066100b_.mid', '/Volumes/MAGIC1/CS50/myMusicGen/data/chorales/midi/066200b_.mid', '/Volumes/MAGIC1/CS50/myMusicGen/data/chorales/midi/066300b_.mid', '/Volumes/MAGIC1/CS50/myMusicGen/data/chorales/midi/066400b_.mid', '/Volumes/MAGIC1/CS50/myMusicGen/data/chorales/midi/066500b_.mid', '/Volumes/MAGIC1/CS50/myMusicGen/data/chorales/midi/066600b_.mid', '/Volumes/MAGIC1/CS50/myMusicGen/data/chorales/midi/066700b_.mid', '/Volumes/MAGIC1/CS50/myMusicGen/data/chorales/midi/066800b_.mid', '/Volumes/MAGIC1/CS50/myMusicGen/data/chorales/midi/066800com.mid', '/Volumes/MAGIC1/CS50/myMusicGen/data/chorales/midi/069000b_.mid', '/Volumes/MAGIC1/CS50/myMusicGen/data/chorales/midi/069100b_.mid', '/Volumes/MAGIC1/CS50/myMusicGen/data/chorales/midi/069100orn.mid', '/Volumes/MAGIC1/CS50/myMusicGen/data/chorales/midi/069400b_.mid', '/Volumes/MAGIC1/CS50/myMusicGen/data/chorales/midi/070000b_.mid', '/Volumes/MAGIC1/CS50/myMusicGen/data/chorales/midi/070100b_.mid', '/Volumes/MAGIC1/CS50/myMusicGen/data/chorales/midi/073300b_.mid', '/Volumes/MAGIC1/CS50/myMusicGen/data/chorales/midi/073800b_.mid', '/Volumes/MAGIC1/CS50/myMusicGen/data/chorales/midi/076901b_.mid', '/Volumes/MAGIC1/CS50/myMusicGen/data/chorales/midi/076902b_.mid', '/Volumes/MAGIC1/CS50/myMusicGen/data/chorales/midi/076903b_.mid', '/Volumes/MAGIC1/CS50/myMusicGen/data/chorales/midi/076904b_.mid', '/Volumes/MAGIC1/CS50/myMusicGen/data/chorales/midi/076905b_.mid', '/Volumes/MAGIC1/CS50/myMusicGen/data/chorales/midi/109100b_.mid', '/Volumes/MAGIC1/CS50/myMusicGen/data/chorales/midi/111800b_.mid', '/Volumes/MAGIC1/CS50/myMusicGen/data/chorales/midi/hallelujah.mid']\n",
      "Number of files: 498\n"
     ]
    }
   ],
   "source": [
    "#Download Chorales\n",
    "data_dir = pathlib.Path('/Volumes/MAGIC1/CS50/myMusicGen/data/chorales')\n",
    "if not data_dir.exists():\n",
    "  tf.keras.utils.get_file(\n",
    "      'midi',\n",
    "      origin='https://github.com/jamesrobertlloyd/infinite-bach/tree/master/data/chorales/midi',\n",
    "      extract=True,\n",
    "      cache_dir='.', cache_subdir='data',\n",
    "  )\n",
    "filenames = glob.glob(str(data_dir/'**/*.mid*'))\n",
    "print(filenames)\n",
    "print('Number of files:', len(filenames))"
   ]
  },
  {
   "cell_type": "code",
   "execution_count": 142,
   "metadata": {},
   "outputs": [],
   "source": [
    "class UnsupportedMidiFileException(Exception):\n",
    "  \"Unsupported MIDI File\""
   ]
  },
  {
   "cell_type": "code",
   "execution_count": 143,
   "metadata": {},
   "outputs": [],
   "source": [
    "seqlen = 64\n",
    "vocab_size = 128"
   ]
  },
  {
   "cell_type": "code",
   "execution_count": 144,
   "metadata": {},
   "outputs": [],
   "source": [
    "def get_pianoroll(midi, nn_from, nn_thru, seqlen, tempo):\n",
    "    pianoroll = midi.get_piano_roll(fs=2*tempo/60) # This is the core line which makes this matrix based on 8th note\n",
    "\n",
    "    # print(f\"piano_roll.shape[1] a.k.a song length!{pianoroll.shape[1]}\")\n",
    "\n",
    "    if pianoroll.shape[1] < seqlen:\n",
    "        raise UnsupportedMidiFileException\n",
    "\n",
    "    pianoroll = pianoroll[nn_from:nn_thru, 0:seqlen] # Pinoroll's value still NOT binary since it has velocity\n",
    "    binary_pianoroll = np.heaviside(pianoroll, 0) # converting as a binary matrix\n",
    "    transposed_pianoroll = np.transpose(binary_pianoroll)\n",
    "\n",
    "\n",
    "    def check_pianoroll_dim(pianoroll):\n",
    "        rows = len(pianoroll)  # This gives the number of rows\n",
    "        columns = len(pianoroll[0])  # This assumes all rows have the same length\n",
    "\n",
    "        print(\"Number of rows:\", rows) # represents sequence length\n",
    "        print(\"Number of columns:\", columns) # represents the 4 octave range in midi 36-83\n",
    "        print(\"Total dimesions of pianoroll is\", rows*columns)\n",
    "    \n",
    "    # check_pianoroll_dim(transposed_pianoroll)\n",
    "    \n",
    "    # return binary_pianoroll\n",
    "    return transposed_pianoroll"
   ]
  },
  {
   "cell_type": "markdown",
   "metadata": {},
   "source": [
    "#### Read_Midi Explanation\n",
    "\n",
    "Get Major key(keymode=0) or Minor key(keymode=1)<br>\n",
    "key_number has values ​​from 0 to 11 for major keys and for minor keys,\n",
    "12~23 is included, <br> so by **dividing it by 12** and converting it to an integer,<br> \n",
    "\n",
    "it will be 0 if it is a major key,<br>\n",
    "it will be 1 if it is a minor key,<br>\n",
    "\n",
    "and assign it accordingly to keymode."
   ]
  },
  {
   "cell_type": "code",
   "execution_count": 145,
   "metadata": {},
   "outputs": [],
   "source": [
    "def read_midi(filename, sop_alto, seqlen):\n",
    "  \n",
    "  def add_rest_nodes(pianoroll):  # If all the elemets are zero, the rest node says 1, else 0\n",
    "    rests = 1 - np.sum(pianoroll, axis=1)\n",
    "    rests = np.expand_dims(rests, 1)\n",
    "    return np.concatenate([pianoroll, rests], axis=1)\n",
    "  \n",
    "  \n",
    "  # read midi file\n",
    "  midi = pretty_midi.PrettyMIDI(filename)\n",
    "\n",
    "  # An Exception error is thrown if there is a modulation(key change)\n",
    "  if len(midi.key_signature_changes) !=1:\n",
    "    raise UnsupportedMidiFileException\n",
    "\n",
    "  # Modulate the given key to C major or C minor\n",
    "  key_number = midi.key_signature_changes[0].key_number\n",
    "  # transpose_to_c(midi, key_number)\n",
    "\n",
    "  # Get Major key(keynode=0) or Minor key(keynode=1)\n",
    "  keymode = np.array([int(key_number / 12)])\n",
    "\n",
    "  # The Exception error thrown when tempo changes\n",
    "  tempo_time, tempo = midi.get_tempo_changes()\n",
    "  if len(tempo) != 1:\n",
    "    raise UnsupportedMidiFileException\n",
    "  if sop_alto:\n",
    "    # The exception thrown if there are less than 2 parts\n",
    "    if len(midi.instruments) < 2:\n",
    "      raise UnsupportedMidiFileException\n",
    "    # Get pianoRoll binary Matrix for each of Soprano and alto parts\n",
    "    pr_s = get_pianoroll(midi.instruments[0], 36, 84, seqlen, tempo[0])\n",
    "    pr_a = get_pianoroll(midi.instruments[1], 36, 84, seqlen, tempo[0])\n",
    "    pr_b = get_pianoroll(midi.instruments[2], 36, 84, seqlen, tempo[0])\n",
    "    \n",
    "    sop_w_rest = add_rest_nodes(pr_s)\n",
    "    alt_w_rest = add_rest_nodes(pr_a)\n",
    "    bass_w_rest = add_rest_nodes(pr_b)\n",
    "    \n",
    "    # return pr_s, pr_a, pr_b, keymode\n",
    "    return sop_w_rest, alt_w_rest, bass_w_rest, keymode\n",
    "\n",
    "  else:\n",
    "    # Get a pianoroll which gathered all the parts\n",
    "    pr = get_pianoroll(midi, 36, 84, seqlen, tempo[0])\n",
    "    return pr, keymode"
   ]
  },
  {
   "cell_type": "markdown",
   "metadata": {},
   "source": [
    "#### Make the training data"
   ]
  },
  {
   "cell_type": "code",
   "execution_count": 146,
   "metadata": {},
   "outputs": [
    {
     "name": "stdout",
     "output_type": "stream",
     "text": [
      "nah\n",
      "nah\n",
      "nah\n",
      "495\n",
      "49\n"
     ]
    }
   ],
   "source": [
    "\"\"\"Get the ingredients\"\"\"\n",
    "np.set_printoptions(threshold=np.inf) # Show the entire print, esp Matrix\n",
    "\n",
    "x_all = [] # shape will be (495, 64, 49) the list which stores inputs of soprano melodies\n",
    "y_all = [] # shape will be (495, 64, 49) the list which stores outputs of alto melodies\n",
    "keymodes = [] # the list which stores the key whether it is major or minor\n",
    "files = [] # stores the filenames of the MIDI files\n",
    "\n",
    "# repeat the process with all the midi files\n",
    "for f in glob.glob(str(data_dir/\"**/*.mid*\")):\n",
    "  # print(f)\n",
    "  try:\n",
    "    sop, alt, bass, keymode = read_midi(f, True, 64)\n",
    "\n",
    "    # add pianorolls which have been added rest elements to the lists\n",
    "    x_all.append(sop)\n",
    "    y_all.append(alt)\n",
    "    keymodes.append(keymode)\n",
    "    files.append(f)\n",
    "  # throw exception for midi data which can not be used\n",
    "  except UnsupportedMidiFileException:\n",
    "    print(\"nah\")\n",
    "\n",
    "n_notes = len(x_all) # Not sure if it is correct\n",
    "print(n_notes)\n",
    "\n",
    "# convert x_all and y_all into NumPy array to make them more useful later\n",
    "\n",
    "# Tomb added. These three lines of code is for getting the number of pitch range\n",
    "# The pitch range is 49 at this point as rest_node dim is added, refer to prof's docu\n",
    "x_all_np = np.array(x_all)\n",
    "print(x_all_np.shape[2])\n",
    "pitch_range = x_all_np.shape[2]\n",
    "\n",
    "# x_all = np.array(x_all)\n",
    "# y_all = np.array(y_all)\n",
    "\n",
    "# You get an error with this  code but can see the shape\n",
    "# x = pd.DataFrame(y_all)\n",
    "# print(x)"
   ]
  },
  {
   "cell_type": "markdown",
   "metadata": {},
   "source": [
    "### Try Creating a tf.data.Dataset from the Parsed notes\n",
    "\n",
    "Source Datasets:\n",
    "The simplest way to create a dataset is to create it from a **python list**:"
   ]
  },
  {
   "cell_type": "code",
   "execution_count": 199,
   "metadata": {},
   "outputs": [
    {
     "data": {
      "text/plain": [
       "TensorSpec(shape=(64, 49), dtype=tf.float64, name=None)"
      ]
     },
     "execution_count": 199,
     "metadata": {},
     "output_type": "execute_result"
    }
   ],
   "source": [
    "# x_ds = tf.data.Dataset.from_tensor_slices(x_all)\n",
    "# y_ds = tf.data.Dataset.from_tensor_slices(y_all)\n",
    "# print(x_ds.element_spec)\n",
    "# for i, f in enumerate(x_ds):\n",
    "#     print(i, f.numpy())\n",
    "\n",
    "note_ds = tf.data.Dataset.from_tensor_slices(x_all)\n",
    "note_ds.element_spec"
   ]
  },
  {
   "cell_type": "code",
   "execution_count": 196,
   "metadata": {},
   "outputs": [],
   "source": [
    "def create_sequences(\n",
    "        dataset: tf.data.Dataset,\n",
    "        seq_length: int,\n",
    "        vocab_size = 128,\n",
    ") -> tf.data.Dataset:\n",
    "    \"\"\"Returns TF Dataset of sequence and label examples\"\"\"\n",
    "    seq_length = seq_length + 1\n",
    "    \n",
    "    print(dataset)\n",
    "    # Take 1 extra for the labels\n",
    "    windows = dataset.window(seq_length, shift=1, stride=1, drop_remainder=True) # stride=1 is default so nothing changed\n",
    "    # for window in windows:\n",
    "    #     print(f\"window!! {list(window.as_numpy_iterator())}\") # To see the inside of each window\n",
    "   \n",
    "    # Flat_map falltens the \"dataset of datasets\" into a dataset of tensors\n",
    "    flatten = lambda x:x.batch(batch_size=seq_length, drop_remainder=True) # lambda x:: Defines an anonymous function that takes an input x. and this function per se is assigned to the flatten variable\n",
    "    sequences = windows.flat_map(flatten) # An extra dimension will be added by this flat_map, which is the first dimension and size of batch_size which is seq_length+1\n",
    "    # for sequence in sequences:\n",
    "    #     print(f\"seq!!{sequence.numpy()}\")\n",
    "  \n",
    "\n",
    "    # Normalize note pitch\n",
    "    # For instance, if x is a list or array [a, b, c], the scaling operation i.e. division would result in [a/vocab_size, b/1.0, c/1.0].\n",
    "    # def scale_pitch(x):\n",
    "    #     x = x / [vocab_size, 1.0, 1.0]\n",
    "    #     return x\n",
    "    \n",
    "    # # Split the labels\n",
    "    # def split_labels(sequences): # To separates the inputs from the labels within each sequence. It returns the normalized inputs and the labels.\n",
    "    #     inputs = sequences[:-1]\n",
    "    #     labels_dense = sequences[-1]\n",
    "    #     labels = {key:labels_dense[i] for i, key in enumerate(key_order)} # the key_order is a global variable. \n",
    "\n",
    "    #     return scale_pitch(inputs), labels\n",
    "    \n",
    "    # # In Python, if you're using map from tf.data.Dataset, the map function allows you to apply a transformation to each element of the dataset.\n",
    "    # # Meaning you do not have to pass in an argument to the split_labels function even tho it expects an argumment\n",
    "    # return sequences.map(split_labels, num_parallel_calls=tf.data.AUTOTUNE)\n",
    "    return sequences"
   ]
  },
  {
   "cell_type": "code",
   "execution_count": 197,
   "metadata": {},
   "outputs": [
    {
     "name": "stdout",
     "output_type": "stream",
     "text": [
      "<_TensorSliceDataset element_spec=TensorSpec(shape=(64, 49), dtype=tf.float64, name=None)>\n",
      "TensorSpec(shape=(65, 64, 49), dtype=tf.float64, name=None)\n"
     ]
    }
   ],
   "source": [
    "seq_ds = create_sequences(note_ds, seqlen, vocab_size) # Vocab size is not used yet as I do not know how to handle normlization with this data\n",
    "\n",
    "print(seq_ds.element_spec)\n"
   ]
  },
  {
   "cell_type": "code",
   "execution_count": null,
   "metadata": {},
   "outputs": [],
   "source": [
    "# elm = 2\n",
    "# for seq in x_seq_ds.take(1):\n",
    "\n",
    "#   print('sequence shape:', seq.shape)\n",
    "#   print(f'sequence elements (first {elm}):', seq[0: elm]) "
   ]
  },
  {
   "cell_type": "code",
   "execution_count": 186,
   "metadata": {},
   "outputs": [
    {
     "name": "stdout",
     "output_type": "stream",
     "text": [
      "TensorSpec(shape=(65, 64, 49), dtype=tf.float64, name=None)\n"
     ]
    }
   ],
   "source": [
    "batch_size = 64\n",
    "buffer_size = n_notes - seqlen\n",
    "\n",
    "train_ds = (seq_ds\n",
    "            .shuffle(buffer_size)\n",
    "            # .batch(batch_size, drop_remainder=True)\n",
    "            .cache()\n",
    "            .prefetch(tf.data.experimental.AUTOTUNE)\n",
    "            )\n",
    "\n",
    "print(train_ds.element_spec) # (batch_size, seqlen, pitch_range)"
   ]
  },
  {
   "cell_type": "code",
   "execution_count": 187,
   "metadata": {},
   "outputs": [
    {
     "name": "stderr",
     "output_type": "stream",
     "text": [
      "WARNING:absl:At this time, the v2.11+ optimizer `tf.keras.optimizers.Adam` runs slowly on M1/M2 Macs, please use the legacy Keras optimizer instead, located at `tf.keras.optimizers.legacy.Adam`.\n",
      "WARNING:absl:There is a known slowdown when using v2.11+ Keras optimizers on M1/M2 Macs. Falling back to the legacy Keras optimizer, i.e., `tf.keras.optimizers.legacy.Adam`.\n"
     ]
    },
    {
     "name": "stdout",
     "output_type": "stream",
     "text": [
      "Model: \"model_14\"\n",
      "_________________________________________________________________\n",
      " Layer (type)                Output Shape              Param #   \n",
      "=================================================================\n",
      " input_15 (InputLayer)       [(None, 64, 49)]          0         \n",
      "                                                                 \n",
      " lstm_25 (LSTM)              (None, 64, 128)           91136     \n",
      "                                                                 \n",
      " dense_15 (Dense)            (None, 64, 1)             129       \n",
      "                                                                 \n",
      "=================================================================\n",
      "Total params: 91265 (356.50 KB)\n",
      "Trainable params: 91265 (356.50 KB)\n",
      "Non-trainable params: 0 (0.00 Byte)\n",
      "_________________________________________________________________\n"
     ]
    }
   ],
   "source": [
    "input_shape = (seqlen, pitch_range) # (64, 49)\n",
    "learning_rate = 0.005\n",
    "\n",
    "inputs = tf.keras.Input(input_shape)\n",
    "x = tf.keras.layers.LSTM(128, input_shape=input_shape, return_sequences=True)(inputs)\n",
    "outputs = tf.keras.layers.Dense(1)(x)\n",
    "\n",
    "model = tf.keras.Model(inputs, outputs)\n",
    "\n",
    "loss = tf.keras.losses.CategoricalCrossentropy(\n",
    "        from_logits=True) # To set True automatically adds softmax\n",
    "\n",
    "optimizer = tf.keras.optimizers.Adam(learning_rate=learning_rate)\n",
    "metrics = tf.keras.metrics.CategoricalCrossentropy()\n",
    "\n",
    "model.compile(loss=loss,\n",
    "              optimizer=optimizer,\n",
    "              metrics=[metrics])\n",
    "model.summary()\n"
   ]
  },
  {
   "cell_type": "code",
   "execution_count": 188,
   "metadata": {},
   "outputs": [
    {
     "name": "stdout",
     "output_type": "stream",
     "text": [
      "432/432 [==============================] - 1s 646us/step - loss: 0.0000e+00 - categorical_crossentropy: 0.0000e+00\n"
     ]
    },
    {
     "data": {
      "text/plain": [
       "{'loss': 0.0, 'categorical_crossentropy': 0.0}"
      ]
     },
     "execution_count": 188,
     "metadata": {},
     "output_type": "execute_result"
    }
   ],
   "source": [
    "losses = model.evaluate(train_ds, return_dict=True)\n",
    "losses"
   ]
  },
  {
   "cell_type": "markdown",
   "metadata": {},
   "source": [
    "### --Experimental or Unused code Below-- "
   ]
  },
  {
   "cell_type": "code",
   "execution_count": null,
   "metadata": {},
   "outputs": [
    {
     "data": {
      "text/plain": [
       "'Check the dimension of the matrix'"
      ]
     },
     "execution_count": 97,
     "metadata": {},
     "output_type": "execute_result"
    }
   ],
   "source": [
    "\"\"\"Check the dimension of the matrix\"\"\"\n",
    "\n",
    "# rows = len(training_data)\n",
    "# columns = len(training_data[0]) if training_data else 0  # Assuming all rows have the same length\n",
    "\n",
    "# print(\"Shape of the list:\", rows, \"x\", columns, f\"shape{rows, columns}\")\n",
    "# print(\"The total dimension of this matrx is:\", rows*columns)"
   ]
  },
  {
   "cell_type": "code",
   "execution_count": null,
   "metadata": {},
   "outputs": [],
   "source": [
    "# def read_midi(filename, sop_alto, seqlen):\n",
    "#   midi = pretty_midi.PrettyMIDI(filename)\n",
    "\n",
    "#   if len(midi.key_signature_changes) !=1: # An Exception error is thrown if there is a modulation(key change)\n",
    "#     raise UnsupportedMidiFileException\n",
    "\n",
    "#   key_number = midi.key_signature_changes[0].key_number # explained in the text\n",
    "#   keymode = np.array([int(key_number / 12)])\n",
    "\n",
    "  \n",
    "#   _, tempo = midi.get_tempo_changes() # _ can be written as tempo_time but won't be used w/in this function\n",
    "#   if len(tempo) != 1: # counting the number of elements in the tempo array. # The Exception error thrown when tempo changes\n",
    "#     raise UnsupportedMidiFileException\n",
    "\n",
    "#   if sop_alto: # The argument is coming in as boolean, True or False\n",
    "#     if len(midi.instruments) < 2: # The exception thrown if there are less than 2 parts\n",
    "#       raise UnsupportedMidiFileException\n",
    "\n",
    "#     # Get pianoRoll binary Matrix for each of Soprano, alto, bass parts\n",
    "#     pr_s = get_pianoroll(midi.instruments[0], 36, 84, seqlen, tempo[0]) # Get pianoroll's arguments (midi, nn_from, nn_thru, seqlen, tempo):\n",
    "#     pr_a = get_pianoroll(midi.instruments[1], 36, 84, seqlen, tempo[0])\n",
    "#     pr_b = get_pianoroll(midi.instruments[2], 36, 84, seqlen, tempo[0])\n",
    "\n",
    "#     # return pr_s, keymode\n",
    "#     return pr_s, pr_a, pr_b, keymode \n",
    "    \n",
    "\n",
    "#   else:\n",
    "#     # Get a pianoroll which gathered all the parts\n",
    "#     pr = get_pianoroll(midi, 36, 84, seqlen, tempo[0])\n",
    "#     return pr, keymode"
   ]
  },
  {
   "cell_type": "code",
   "execution_count": null,
   "metadata": {},
   "outputs": [],
   "source": [
    "# def add_rest_nodes(pianoroll):  # If all the elemets are zero, the rest node says 1, else 0\n",
    "#   print(\"SUM!\",np.sum(pianoroll, axis=1))\n",
    "#   import sys\n",
    "#   sys.exit()\n",
    "#   rests = 1 - np.sum(pianoroll, axis=1)\n",
    "#   rests = np.expand_dims(rests, 1)\n",
    "\n",
    "#   return np.concatenate([pianoroll, rests], axis=1)"
   ]
  },
  {
   "cell_type": "code",
   "execution_count": null,
   "metadata": {},
   "outputs": [],
   "source": [
    "# training_data = [] # the len is 496\n",
    "\n",
    "# for each_file in glob.glob(str(data_dir/\"**/*.mid*\")):\n",
    "#   try:\n",
    "#      sop, keymode = read_midi(each_file, False, seqlen)\n",
    "#      training_data.append(add_rest_nodes(sop))\n",
    "     \n",
    "#   except UnsupportedMidiFileException:\n",
    "#      print(\"Nah\")"
   ]
  },
  {
   "cell_type": "code",
   "execution_count": null,
   "metadata": {},
   "outputs": [
    {
     "data": {
      "text/plain": [
       "'About tfp, tensorflow probability'"
      ]
     },
     "execution_count": 101,
     "metadata": {},
     "output_type": "execute_result"
    }
   ],
   "source": [
    "\"\"\"About tfp, tensorflow probability\"\"\"\n",
    "# import tensorflow_probability as tfp\n",
    "# import tensorflow as tf\n",
    "\n",
    "# # Create a normal distribution with mean 0 and standard deviation 1\n",
    "# normal_dist = tfp.distributions.Normal(loc=0., scale=1.)\n",
    "\n",
    "# # Sample from the distribution\n",
    "# samples = normal_dist.sample(1)  # Get 10 samples from the distribution\n",
    "\n",
    "# # Compute log probability of a value\n",
    "# log_prob = normal_dist.log_prob(0.9)  # Compute log probability of 0.5 in the distribution\n",
    "\n",
    "# # Print the samples and log probability\n",
    "# print(\"Samples:\", samples)\n",
    "# print(\"Log Probability of 0.5:\", log_prob)\n"
   ]
  },
  {
   "cell_type": "code",
   "execution_count": null,
   "metadata": {},
   "outputs": [
    {
     "data": {
      "text/plain": [
       "'About flat_map by tf.data.Dataset'"
      ]
     },
     "execution_count": 102,
     "metadata": {},
     "output_type": "execute_result"
    }
   ],
   "source": [
    "\"\"\"About flat_map by tf.data.Dataset\"\"\"\n",
    "# BATCH_SIZE1=1\n",
    "# dataset = tf.data.Dataset.from_tensor_slices(\n",
    "#           [[1, 2, 3], [4, 5, 6], [7, 8, 9]])\n",
    "# print(dataset.element_spec)\n",
    "# batched = dataset.batch(batch_size=BATCH_SIZE1, drop_remainder=True)\n",
    "# print(batched)\n"
   ]
  },
  {
   "cell_type": "code",
   "execution_count": null,
   "metadata": {},
   "outputs": [],
   "source": [
    "\"\"\"About model size. This gets the error so gotta figure later\"\"\"\n",
    "\n",
    "# model = tf.keras.Sequential()\n",
    "# model.add(tf.keras.layers.LSTM(128, input_shape=(10, 20, 30)))\n",
    "# model.add(tf.keras.layers.Dense(1))\n",
    "\n",
    "# model.compile(optimizer='adam', loss='mse')\n"
   ]
  },
  {
   "cell_type": "code",
   "execution_count": 168,
   "metadata": {},
   "outputs": [
    {
     "name": "stdout",
     "output_type": "stream",
     "text": [
      "(7, 5, 4)\n"
     ]
    }
   ],
   "source": [
    "import tensorflow as tf\n",
    "inputs = tf.random.normal([7, 5, 4])\n",
    "lstm = tf.keras.layers.LSTM(4, return_sequences=True)\n",
    "output = lstm(inputs)\n",
    "print(output.shape)"
   ]
  }
 ],
 "metadata": {
  "kernelspec": {
   "display_name": "venv",
   "language": "python",
   "name": "python3"
  },
  "language_info": {
   "codemirror_mode": {
    "name": "ipython",
    "version": 3
   },
   "file_extension": ".py",
   "mimetype": "text/x-python",
   "name": "python",
   "nbconvert_exporter": "python",
   "pygments_lexer": "ipython3",
   "version": "3.9.6"
  }
 },
 "nbformat": 4,
 "nbformat_minor": 2
}
