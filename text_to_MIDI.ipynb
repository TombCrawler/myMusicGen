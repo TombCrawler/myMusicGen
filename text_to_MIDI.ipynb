{
 "cells": [
  {
   "cell_type": "code",
   "execution_count": 33,
   "metadata": {},
   "outputs": [],
   "source": [
    "import mido\n",
    "from mido import Message, MidiFile, MidiTrack\n",
    "from midiutil.MidiFile import MIDIFile"
   ]
  },
  {
   "cell_type": "code",
   "execution_count": 2,
   "metadata": {},
   "outputs": [],
   "source": [
    "# Paste the chatGPT text here:\n",
    "\n",
    "melody_pitch_duration_data = [\n",
    "    (64, 0.25), # E note with a duration of quarter note\n",
    "(62, 0.25), # D note with a duration of quarter note\n",
    "(60, 0.5), # C note with a duration of half note\n",
    "(59, 0.25), # B note with a duration of quarter note\n",
    "(57, 0.25), # A note with a duration of quarter note\n",
    "(55, 0.5) # G note with a duration of half note\n",
    "]\n"
   ]
  },
  {
   "cell_type": "code",
   "execution_count": 9,
   "metadata": {},
   "outputs": [],
   "source": [
    "# @markdown ### Run this cell and th MIDI with the melody will be in your download folder\n",
    "\n",
    "\n",
    "# Constants\n",
    "TICKS_PER_BEAT = 480  # Standard for most DAWs\n",
    "BEATS_PER_MINUTE = 120  # Tempo\n",
    "SECONDS_PER_MINUTE = 60\n",
    "TICKS_PER_SECOND = TICKS_PER_BEAT * BEATS_PER_MINUTE / SECONDS_PER_MINUTE\n",
    "\n",
    "# Create a new MIDI file\n",
    "mid = MidiFile(ticks_per_beat=TICKS_PER_BEAT)\n",
    "\n",
    "# Create a new track\n",
    "track = MidiTrack()\n",
    "\n",
    "# Append the track to the MIDI file\n",
    "mid.tracks.append(track)\n",
    "\n",
    "# Convert your data into MIDI events\n",
    "for note, duration in melody_pitch_duration_data:\n",
    "    # If there's a silence, don't make a note event\n",
    "    if note != 0:\n",
    "        # Add a note on event\n",
    "        track.append(Message('note_on', note=note, velocity=64, time=0))\n",
    "\n",
    "    # Wait for the duration of the note/silence\n",
    "    # We multiply by TICKS_PER_SECOND because duration is in seconds\n",
    "    track.append(Message('note_off', note=note, velocity=64, time=int(duration * TICKS_PER_SECOND)))\n",
    "\n",
    "# Save the MIDI file\n",
    "mid.save('melody.mid')\n",
    "\n",
    "# # Download the file\n",
    "# from google.colab import files\n",
    "# files.download('melody.mid')"
   ]
  },
  {
   "cell_type": "code",
   "execution_count": 55,
   "metadata": {},
   "outputs": [],
   "source": [
    "chords_pitch_duration_data = [\n",
    " ((60, 64, 67), 0.5),  # Chord C5-E5-G5, duration: half note\n",
    "  ((62, 65, 69), 0.33),  # Chord D5-F#5-A5, duration: triplet eighth note\n",
    "  ((57, 60, 64), 1.75),  # Chord A4-C5-E5, duration: custom duration\n",
    "  ((), 0.88),  # Silence, duration: custom duration\n",
    "  ((58, 62, 65), 1.22),  # Chord A#4-D5-F#5, duration: custom duration\n",
    "  ((63, 67, 70), 0.75),  # Chord D#5-G5-B5, duration: dotted quarter note\n",
    "  ((), 0.5),  # Silence, duration: half note\n",
    "  ((62, 65, 69), 1.15),  # Chord D5-F#5-A5, duration: custom duration\n",
    "  ((60, 64, 67), 0.25),  # Chord C5-E5-G5, duration: quarter note\n",
    "  ((62, 65, 69), 1.88),  # Chord D5-F#5-A5, duration: custom duration\n",
    "  ((63, 67, 70), 0.92),  # Chord D#5-G5-B5, duration: custom duration\n",
    "  ((60, 64, 67), 1.5),  # Chord C5-E5-G5, duration: dotted half note\n",
    "\n",
    "]\n",
    "\n",
    "# [(\"D4\", \"F4\", \"A4\"), 0.25], [(\"C4\", \"E4\", \"G4\"), 0.25], [(None), 0.5],\n",
    "# [(\"D4\"), 0.25], [(\"C4\"), 0.25],[(\"B3\"), 0.25], [(\"A3\"), 0.5],\n",
    "# [(\"G3\"), 0.25],[(None), 0.5],\n",
    "# [(\"A3\", \"C4\", \"E4\"), 0.25], [(\"G3\", \"B3\", \"D4\"), 0.25],[(\"F3\", \"A3\", \"C4\"), 1],\n",
    "# [(\"D3\", \"F3\", \"A3\"), 0.25],[(\"E3\", \"G3\", \"B3\"), 0.25],[(\"D3\", \"F3\", \"A3\"), 1.5],\n",
    "# [(\"G3\", \"B3\", \"D4\"), 1],[(None), 1],\n",
    "# [(\"D4\"), 0.125], [(\"E4\"), 0.125],[(\"F4\"), 0.125], [(\"G4\"), 0.125],[(\"A4\"), 1],[(\"G4\"), 1],\n",
    "# [(None), 1]\n",
    "\n"
   ]
  },
  {
   "cell_type": "code",
   "execution_count": 58,
   "metadata": {},
   "outputs": [
    {
     "name": "stdout",
     "output_type": "stream",
     "text": [
      "(60, 64, 67) 0.5\n",
      "(62, 65, 69) 0.33\n",
      "(57, 60, 64) 1.75\n",
      "() 0.88\n",
      "(58, 62, 65) 1.22\n",
      "(63, 67, 70) 0.75\n",
      "() 0.5\n",
      "(62, 65, 69) 1.15\n",
      "(60, 64, 67) 0.25\n",
      "(62, 65, 69) 1.88\n",
      "(63, 67, 70) 0.92\n",
      "(60, 64, 67) 1.5\n"
     ]
    }
   ],
   "source": [
    "midi_file = MIDIFile(1)\n",
    "\n",
    "tempo = 120\n",
    "midi_file.addTempo(0, 0, tempo)\n",
    "\n",
    "instrument = 0  # Acoustic Grand Piano\n",
    "midi_file.addProgramChange(0, 0, 0, instrument)\n",
    "\n",
    "channel = 0\n",
    "volume = 80\n",
    "\n",
    "# Add chord notes\n",
    "current_time = 0\n",
    "for chord_pitches, duration in chords_pitch_duration_data:\n",
    "    print(chord_pitches, duration)\n",
    "    for pitch in chord_pitches:\n",
    "        midi_file.addNote(track=0, channel=channel, pitch=pitch, time=current_time, duration=duration, volume=volume)\n",
    "    current_time += duration\n",
    "\n",
    "with open(\"chords.mid\", \"wb\") as output_file:\n",
    "    midi_file.writeFile(output_file)\n",
    "\n"
   ]
  },
  {
   "cell_type": "code",
   "execution_count": 57,
   "metadata": {},
   "outputs": [
    {
     "name": "stdout",
     "output_type": "stream",
     "text": [
      "[((60, 64, 67), 0), ((62, 65, 69), 0.25), ((57, 60, 64), 0.4145833333333333), ((58, 62, 65), 1.2895833333333333), ((63, 67, 70), 1.8994791666666666), ((62, 65, 69), 2.2744791666666666), ((60, 64, 67), 2.849479166666667), ((62, 65, 69), 2.974479166666667), ((63, 67, 70), 3.9140625), ((60, 64, 67), 4.373958333333333)]\n"
     ]
    }
   ],
   "source": [
    "import mido\n",
    "\n",
    "def midi_to_text(midi_filename):\n",
    "    midi_file = mido.MidiFile(midi_filename)\n",
    "    chords_pitch_duration_data = []\n",
    "\n",
    "    current_chord_pitches = []  # Stores the pitches of the current chord\n",
    "    current_time = 0  # Stores the accumulated time for each chord\n",
    "\n",
    "    for msg in midi_file:\n",
    "        if msg.type == 'note_on':\n",
    "            current_chord_pitches.append(msg.note)\n",
    "        elif msg.type == 'note_off':\n",
    "            duration = msg.time\n",
    "            if current_chord_pitches:\n",
    "                chord = (tuple(current_chord_pitches), current_time)\n",
    "                chords_pitch_duration_data.append(chord)\n",
    "                current_chord_pitches = []\n",
    "            current_time += duration\n",
    "\n",
    "    return chords_pitch_duration_data\n",
    "\n",
    "midi_filename = '/Volumes/MAGIC1/CS50/myMusicGen/chords.mid'\n",
    "chords_data = midi_to_text(midi_filename)\n",
    "print(chords_data)\n"
   ]
  },
  {
   "cell_type": "code",
   "execution_count": 30,
   "metadata": {},
   "outputs": [],
   "source": [
    "drum_pitch_duration_data = [\n",
    "# ((36, 42), 0.125, 100), # Kick Drum + Closed Hi-Hat\n",
    "# ((42,), 0.125, 100), # Closed Hi-Hat \n",
    "# ((38, 42), 0.125, 100), # Snare Drum + closed Hi-Hat\n",
    "# ((42,), 0.125, 100), # Closed Hi-Hat \n",
    "# ((36, 42), 0.125, 100), # Kick Drum + Closed Hi-Hat\n",
    "# ((42,), 0.125, 100), # Closed Hi-Hat \n",
    "# ((38, 42), 0.125, 100), # Snare Drum + closed Hi-Hat\n",
    "# ((42,), 0.125, 100), # Closed Hi-Hat \n",
    "  ((36, 51), 0.25, 100),  # Kick Drum + Ride Cymbal 1 (Quarter note)\n",
    "    ((38, 51), 0.0833 * 2, 100),  # Snare Drum + Ride Cymbal 1 (Triplet eighth note multiplied by 2)\n",
    "    ((51,), 0.0833, 100),  # Ride Cymbal 1\n",
    "    ((36, 51), 0.25, 100),  # Kick Drum + Ride Cymbal 1 (Quarter note)\n",
    "    ((38, 51), 0.0833 * 2, 100),  # Snare Drum + Ride Cymbal 1 (Triplet eighth note multiplied by 2)\n",
    "    ((51,), 0.0833, 100),  # Ride Cymbal 1\n",
    "    ((36, 51), 0.25, 100),  # Kick Drum + Ride Cymbal 1 (Quarter note)\n",
    "    ((38, 51), 0.0833 * 2, 100),  # Snare Drum + Ride Cymbal 1 (Triplet eighth note multiplied by 2)\n",
    "    ((51,), 0.0833, 100),  # Ride Cymbal 1\n",
    "    ((36, 51), 0.25, 100),  # Kick Drum + Ride Cymbal 1 (Quarter note)\n",
    "    ((38, 51), 0.0833 * 2, 100),  # Snare Drum + Ride Cymbal 1 (Triplet eighth note multiplied by 2)\n",
    "    ((51,), 0.0833, 100),  # Ride Cymbal 1\n",
    "\n",
    "]"
   ]
  },
  {
   "cell_type": "code",
   "execution_count": 31,
   "metadata": {},
   "outputs": [],
   "source": [
    "import mido\n",
    "from mido import Message, MidiFile, MidiTrack\n",
    "\n",
    "# Create a new MIDI file\n",
    "mid = MidiFile()\n",
    "track = MidiTrack()\n",
    "mid.tracks.append(track)\n",
    "\n",
    "ticks_per_beat = mid.ticks_per_beat  # Default is 480\n",
    "ticks_per_note = int(ticks_per_beat * 0.25)  # Assuming tempo is 120 bpm, this is the number of ticks for a quarter note\n",
    "\n",
    "for note in drum_pitch_duration_data:\n",
    "    if isinstance(note[0], tuple):  # If more than one note at the same time\n",
    "        for n in note[0]:\n",
    "            track.append(Message('note_on', note=n, velocity=note[2], time=0))\n",
    "        track.append(Message('note_off', note=n, velocity=note[2], time=int(note[1]*ticks_per_note)))\n",
    "    else:\n",
    "        track.append(Message('note_on', note=note[0], velocity=note[2], time=0))\n",
    "        track.append(Message('note_off', note=note[0], velocity=note[2], time=int(note[1]*ticks_per_note)))\n",
    "\n",
    "# Save the MIDI file\n",
    "mid.save('artDrum.mid')"
   ]
  }
 ],
 "metadata": {
  "kernelspec": {
   "display_name": "venv",
   "language": "python",
   "name": "python3"
  },
  "language_info": {
   "codemirror_mode": {
    "name": "ipython",
    "version": 3
   },
   "file_extension": ".py",
   "mimetype": "text/x-python",
   "name": "python",
   "nbconvert_exporter": "python",
   "pygments_lexer": "ipython3",
   "version": "3.9.6"
  },
  "orig_nbformat": 4
 },
 "nbformat": 4,
 "nbformat_minor": 2
}
