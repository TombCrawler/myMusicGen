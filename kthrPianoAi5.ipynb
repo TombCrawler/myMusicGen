{
 "cells": [
  {
   "cell_type": "code",
   "execution_count": 20,
   "metadata": {},
   "outputs": [],
   "source": [
    "from IPython.display import display, Image\n",
    "import IPython.display as ipd\n",
    "# import fluidsynth\n",
    "from midi2audio import FluidSynth\n",
    "import glob\n",
    "import numpy as np\n",
    "import pathlib\n",
    "import pandas as pd\n",
    "from sklearn.preprocessing import OneHotEncoder\n",
    "from sklearn.model_selection import train_test_split\n",
    "import pretty_midi\n",
    "import tensorflow as tf\n",
    "\n",
    "from matplotlib import pyplot as plt\n",
    "\n",
    "# Tomb added\n",
    "import time\n",
    "import copy\n",
    "import random\n",
    "import sys\n",
    "from music21 import midi\n",
    "import subprocess"
   ]
  },
  {
   "cell_type": "code",
   "execution_count": 21,
   "metadata": {},
   "outputs": [
    {
     "name": "stdout",
     "output_type": "stream",
     "text": [
      "Number of files: 498\n"
     ]
    }
   ],
   "source": [
    "#Download Chorales\n",
    "data_dir = pathlib.Path('/Volumes/MAGIC1/CS50/myMusicGen/data/chorales')\n",
    "if not data_dir.exists():\n",
    "  tf.keras.utils.get_file(\n",
    "      'midi',\n",
    "      origin='https://github.com/jamesrobertlloyd/infinite-bach/tree/master/data/chorales/midi',\n",
    "      extract=True,\n",
    "      cache_dir='.', cache_subdir='data',\n",
    "  )\n",
    "filenames = glob.glob(str(data_dir/'**/*.mid*'))\n",
    "print('Number of files:', len(filenames))"
   ]
  },
  {
   "cell_type": "code",
   "execution_count": 22,
   "metadata": {},
   "outputs": [],
   "source": [
    "class UnsupportedMidiFileException(Exception):\n",
    "  \"Unsupported MIDI File\""
   ]
  },
  {
   "cell_type": "code",
   "execution_count": 23,
   "metadata": {},
   "outputs": [],
   "source": [
    "class WrongWindowSize(Exception):\n",
    "    def __init__(self, window_size):\n",
    "        self.message = f\"Window Size must be between 1 and 62!! Given size: {window_size}\"\n",
    "        super().__init__(self.message)"
   ]
  },
  {
   "cell_type": "code",
   "execution_count": 24,
   "metadata": {},
   "outputs": [],
   "source": [
    "\"\"\"Tomb made a pretty useful function\"\"\"\n",
    "def check_pianoroll_dim(pianoroll):\n",
    "        rows = len(pianoroll)  # This gives the number of rows\n",
    "        columns = len(pianoroll[0])  # This assumes all rows have the same length\n",
    "\n",
    "        print(\"Number of rows:\", rows) # represents sequence length\n",
    "        print(\"Number of columns:\", columns) # represents the 4 octave range in midi 36-83\n",
    "        print(\"Total dimesions of this pianoroll is\", rows*columns)"
   ]
  },
  {
   "cell_type": "code",
   "execution_count": 25,
   "metadata": {},
   "outputs": [],
   "source": [
    "\"\"\"Tomb made to check if there is a single one, all zeros, or multiple ones in the pitch vector\"\"\"\n",
    "\n",
    "def check_ones_zeros(array):\n",
    "    count_ones = np.count_nonzero(array == 1)\n",
    "    count_zeros = np.count_nonzero(array == 0)\n",
    "\n",
    "    if count_ones == 1 and count_zeros == array.size - 1:\n",
    "        # print(\"There is only one '1' and the rest are '0's in the array.\")\n",
    "        return True\n",
    "    elif count_zeros == array.size:\n",
    "        # print(\"All elements in the array are '0's.\")\n",
    "        return True\n",
    "    else:\n",
    "        # print(\"There are either multiple '1's or different values in the array.\")\n",
    "        return False"
   ]
  },
  {
   "cell_type": "code",
   "execution_count": 26,
   "metadata": {},
   "outputs": [],
   "source": [
    "def get_musicScore(filename):\n",
    "  musescore_path = \"/Applications/MuseScore 4.app/Contents/MacOS/mscore\"  # Path to the MuseScore executable\n",
    "\n",
    "  midi_file_path = filename\n",
    "\n",
    "  # Construct the command to open the MuseScore file\n",
    "  command = [musescore_path, midi_file_path]\n",
    "\n",
    "  # Execute the command\n",
    "  subprocess.run(command)"
   ]
  },
  {
   "cell_type": "code",
   "execution_count": 28,
   "metadata": {},
   "outputs": [],
   "source": [
    "\"\"\"Read_Midi 2\"\"\"\n",
    "\n",
    "def read_midi(filename, sop_alto, seqlen):\n",
    "  \n",
    "  def get_pianoroll(midi, nn_from, nn_thru, seqlen, tempo):\n",
    "    pianoroll = midi.get_piano_roll(fs=2*tempo/60) # shape(128, 1262) This is the core line which makes this matrix based on 8th note\n",
    "    if pianoroll.shape[1] < seqlen:\n",
    "        raise UnsupportedMidiFileException\n",
    "\n",
    "    pianoroll = pianoroll[nn_from:nn_thru, 0:seqlen] # (48, 64) Pinoroll's value still NOT binary since it has velocity\n",
    "    \n",
    "    binary_pianoroll = np.heaviside(pianoroll, 0) # converting as a binary matrix\n",
    "    transposed_pianoroll = np.transpose(binary_pianoroll) #(64, 48)\n",
    "    # transposed_pianoroll = np.transpose(pianoroll)\n",
    "    # return binary_pianoroll\n",
    "    return transposed_pianoroll # type numpy.ndarray\n",
    "\n",
    "  \n",
    "  # read midi file\n",
    "  midi = pretty_midi.PrettyMIDI(filename)\n",
    "\n",
    "  # An Exception error is thrown if there is a modulation(key change)\n",
    "  if len(midi.key_signature_changes) !=1:\n",
    "    raise UnsupportedMidiFileException\n",
    "\n",
    "  # The Exception error thrown when tempo changes\n",
    "  tempo_time, tempo = midi.get_tempo_changes()\n",
    "  if len(tempo) != 1:\n",
    "    raise UnsupportedMidiFileException\n",
    "  if sop_alto:\n",
    "    # The exception thrown if there are less than 2 parts\n",
    "    if len(midi.instruments) < 2:\n",
    "      raise UnsupportedMidiFileException\n",
    "    # Get pianoRoll returns numpy.ndarray\n",
    "    pr_s = get_pianoroll(midi.instruments[0], 36, 84, seqlen, tempo[0])\n",
    "    pr_a = get_pianoroll(midi.instruments[1], 36, 84, seqlen, tempo[0])\n",
    "    pr_b = get_pianoroll(midi.instruments[2], 36, 84, seqlen, tempo[0])\n",
    "    wholePart = get_pianoroll(midi, 36, 84, seqlen, tempo[0])\n",
    "    \n",
    "    \n",
    "    return pr_s, pr_a, pr_b, wholePart # All numpy.ndarray including keymode  "
   ]
  },
  {
   "cell_type": "code",
   "execution_count": 29,
   "metadata": {},
   "outputs": [],
   "source": [
    "\"\"\"read generatd midi file\"\"\"\n",
    "def read_melody_midi(filename, seqlen):\n",
    "\n",
    "    def get_pianoroll(midi, nn_from, nn_thru, seqlen, tempo):\n",
    "        pianoroll = midi.get_piano_roll(fs=2*tempo/60) # shape(128, 1262) This is the core line which makes this matrix based on 8th note\n",
    "        if pianoroll.shape[1] < seqlen:\n",
    "            raise UnsupportedMidiFileException\n",
    "\n",
    "        pianoroll = pianoroll[nn_from:nn_thru, 0:seqlen] # (48, 64) Pinoroll's value still NOT binary since it has velocity\n",
    "        \n",
    "        binary_pianoroll = np.heaviside(pianoroll, 0) # converting as a binary matrix\n",
    "        transposed_pianoroll = np.transpose(binary_pianoroll) #(64, 48)\n",
    "        \n",
    "        # print(\"trans pr\", transposed_pianoroll)\n",
    "        return transposed_pianoroll # type numpy.ndarray\n",
    "    \n",
    "     # read midi file\n",
    "    midi = pretty_midi.PrettyMIDI(filename)\n",
    "\n",
    "    # The Exception error thrown when tempo changes\n",
    "    tempo_time, tempo = midi.get_tempo_changes()\n",
    "    if len(tempo) != 1:\n",
    "        raise UnsupportedMidiFileException\n",
    "   \n",
    "    # Get pianoRoll returns numpy.ndarray\n",
    "    melody = get_pianoroll(midi.instruments[0], 36, 84, seqlen, tempo[0])\n",
    "    \n",
    "    return melody\n"
   ]
  },
  {
   "cell_type": "code",
   "execution_count": 30,
   "metadata": {},
   "outputs": [
    {
     "name": "stdout",
     "output_type": "stream",
     "text": [
      "nah\n",
      "nah\n",
      "nah\n",
      "Number of rows: 495\n",
      "Number of columns: 64\n",
      "Total dimesions of this pianoroll is 31680\n",
      "None\n"
     ]
    }
   ],
   "source": [
    "\"\"\"Window\"\"\"\n",
    "\n",
    "np.set_printoptions(threshold=np.inf) # Show the entire print, esp Matrix\n",
    "\n",
    "x_all = [] # \n",
    "y_all_alt = [] \n",
    "y_all_bass=[] \n",
    "files = [] # Number of files 498 but for collected files, there are 3 files that SKIPPED so we'll only see 495 files. E.g (495, int, int)\n",
    "# keymodes = [] \n",
    "\n",
    "raw_seq_length =64\n",
    "window_size = 2\n",
    "\n",
    "try:\n",
    "  if 62 < window_size or window_size < 1:\n",
    "    raise WrongWindowSize(window_size)\n",
    "except WrongWindowSize as e:\n",
    "  print(e)  \n",
    "  sys.exit()\n",
    "\n",
    "for file in glob.glob(str(data_dir/\"**/*.mid*\")):\n",
    "  files.append(file)\n",
    "  try:\n",
    "    #make a window to get sequence \n",
    "    sop_data, alt_data, bass_data, whole_data = read_midi(file, sop_alto=True, seqlen=raw_seq_length)\n",
    "    x_all.append(sop_data)\n",
    "    y_all_alt.append(alt_data)\n",
    "    y_all_bass.append(bass_data)\n",
    "\n",
    "  # throw exception for midi data which can not be used\n",
    "  except UnsupportedMidiFileException:\n",
    "    print(\"nah\")\n",
    "\n",
    "\n",
    "print(check_pianoroll_dim(y_all_bass))\n",
    "\n"
   ]
  },
  {
   "cell_type": "code",
   "execution_count": 31,
   "metadata": {},
   "outputs": [
    {
     "name": "stdout",
     "output_type": "stream",
     "text": [
      "input data shape (495, 64, 48)\n",
      "alt data shape (495, 64, 48)\n",
      "bass data shape (495, 64, 48)\n",
      "\n",
      "x_train shape (248, 64, 48)\n",
      "x_tet shape (247, 64, 48)\n",
      "\n",
      "y_train alt (248, 64, 48)\n",
      "y_test alt (247, 64, 48)\n",
      "|\n",
      "y_train bass (248, 64, 48)\n",
      "y_test bass (247, 64, 48)\n"
     ]
    }
   ],
   "source": [
    "input_data = np.array(x_all) \n",
    "output_data_alt = np.array(y_all_alt)\n",
    "output_data_bass=np.array(y_all_bass)\n",
    "print(\"input data shape\",input_data.shape)\n",
    "print(\"alt data shape\",output_data_alt.shape)\n",
    "print(\"bass data shape\",output_data_bass.shape)\n",
    "print(\"\")\n",
    "\n",
    "i_train, i_test = train_test_split(range(len(input_data)),test_size=int(len(input_data)/2)) \n",
    "x_train = input_data[i_train]\n",
    "x_test = input_data[i_test] \n",
    "print(\"x_train shape\",x_train.shape)\n",
    "print(\"x_tet shape\",x_test.shape)\n",
    "print(\"\")\n",
    "\n",
    "y_train_alt = output_data_alt[i_train] \n",
    "y_test_alt = output_data_alt[i_test] \n",
    "print(\"y_train alt\",y_train_alt.shape)\n",
    "print(\"y_test alt\",y_test_alt.shape)\n",
    "print(\"|\")\n",
    "\n",
    "\n",
    "y_train_bass = output_data_bass[i_train] \n",
    "y_test_bass = output_data_bass[i_test] \n",
    "print(\"y_train bass\",y_train_bass.shape)\n",
    "print(\"y_test bass\",y_test_bass.shape)"
   ]
  },
  {
   "cell_type": "code",
   "execution_count": 32,
   "metadata": {},
   "outputs": [
    {
     "name": "stdout",
     "output_type": "stream",
     "text": [
      "64\n",
      "48\n"
     ]
    }
   ],
   "source": [
    "seq_length = x_train.shape[1] # Sequence size 64\n",
    "pitch_range = x_train.shape[2] # int 48 the pitch range\n",
    "print(x_train.shape[1])\n",
    "print(x_train.shape[2])"
   ]
  },
  {
   "cell_type": "code",
   "execution_count": 33,
   "metadata": {},
   "outputs": [
    {
     "name": "stdout",
     "output_type": "stream",
     "text": [
      "Model: \"model_1\"\n",
      "__________________________________________________________________________________________________\n",
      " Layer (type)                Output Shape                 Param #   Connected to                  \n",
      "==================================================================================================\n",
      " input_2 (InputLayer)        [(None, 64, 48)]             0         []                            \n",
      "                                                                                                  \n",
      " lstm_4 (LSTM)               (None, 64, 128)              90624     ['input_2[0][0]']             \n",
      "                                                                                                  \n",
      " batch_normalization_2 (Bat  (None, 64, 128)              512       ['lstm_4[0][0]']              \n",
      " chNormalization)                                                                                 \n",
      "                                                                                                  \n",
      " lstm_5 (LSTM)               (None, 64, 64)               49408     ['batch_normalization_2[0][0]'\n",
      "                                                                    ]                             \n",
      "                                                                                                  \n",
      " lstm_6 (LSTM)               (None, 64, 32)               12416     ['lstm_5[0][0]']              \n",
      "                                                                                                  \n",
      " lstm_7 (LSTM)               (None, 64, 16)               3136      ['lstm_6[0][0]']              \n",
      "                                                                                                  \n",
      " batch_normalization_3 (Bat  (None, 64, 16)               64        ['lstm_7[0][0]']              \n",
      " chNormalization)                                                                                 \n",
      "                                                                                                  \n",
      " output_alt (Dense)          (None, 64, 48)               816       ['batch_normalization_3[0][0]'\n",
      "                                                                    ]                             \n",
      "                                                                                                  \n",
      " output_bass (Dense)         (None, 64, 48)               816       ['batch_normalization_3[0][0]'\n",
      "                                                                    ]                             \n",
      "                                                                                                  \n",
      "==================================================================================================\n",
      "Total params: 157792 (616.38 KB)\n",
      "Trainable params: 157504 (615.25 KB)\n",
      "Non-trainable params: 288 (1.12 KB)\n",
      "__________________________________________________________________________________________________\n"
     ]
    }
   ],
   "source": [
    "# Define input layer\n",
    "input_layer = tf.keras.layers.Input(shape=(seq_length, pitch_range)) # shape=(None, 64, 48)\n",
    "# Shared layers\n",
    "lstm1 = tf.keras.layers.LSTM(units=128, return_sequences=True)(input_layer)\n",
    "batch_norm1 = tf.keras.layers.BatchNormalization()(lstm1)\n",
    "lstm2 = tf.keras.layers.LSTM(units=64, return_sequences=True)(batch_norm1)\n",
    "lstm3 = tf.keras.layers.LSTM(units=32, return_sequences=True)(lstm2)\n",
    "lstm4 = tf.keras.layers.LSTM(units=16,return_sequences=True)(lstm3)\n",
    "batch_norm2 =tf.keras.layers.BatchNormalization()(lstm4)\n",
    "\n",
    "# Output layer for alto , shape=(None, 48)\n",
    "output_alt = tf.keras.layers.Dense(pitch_range, activation='sigmoid', name='output_alt')(batch_norm2)\n",
    "\n",
    "# Output layer for bass , shape=(None, 48)\n",
    "output_bass = tf.keras.layers.Dense(pitch_range, activation='sigmoid', name='output_bass')(batch_norm2)\n",
    "\n",
    "# Define the model with two outputs\n",
    "model = tf.keras.Model(inputs=input_layer, outputs=[output_alt, output_bass])\n",
    "\n",
    "# Compile the model\n",
    "optimizer = tf.keras.optimizers.legacy.Adam(learning_rate=0.001)\n",
    "model.compile(optimizer=optimizer, loss={'output_alt': 'binary_crossentropy', 'output_bass': 'binary_crossentropy'}, metrics=['accuracy'])\n",
    "\n",
    "model.summary()"
   ]
  },
  {
   "cell_type": "code",
   "execution_count": null,
   "metadata": {},
   "outputs": [],
   "source": [
    "# Train the model\n",
    "\n",
    "callbacks = [tf.keras.callbacks.ModelCheckpoint(\n",
    "        filepath=\"./training_checkpoints/ckpt_{epoch}\",\n",
    "        save_weights_only=True\n",
    "    ),\n",
    "    tf.keras.callbacks.EarlyStopping(\n",
    "        monitor=\"loss\",\n",
    "        patience=5,\n",
    "        verbose=1,\n",
    "        restore_best_weights=True\n",
    "    )]\n",
    "\n",
    "epochs = 500\n",
    "batch_size = 64\n",
    "\n",
    "# model.evaluate(x_train, y_train, return_dict=True)\n",
    "\n",
    "history = model.fit(\n",
    "    x_train, \n",
    "    {\"output_alt\": y_train_alt, \"output_bass\": y_train_bass}, \n",
    "    batch_size=batch_size, \n",
    "    epochs=epochs, \n",
    "    callbacks=callbacks,\n",
    "    validation_data=(x_test,\n",
    "                      {\"output_alt\": y_test_alt, \"output_bass\":y_test_bass})\n",
    "                      )\n",
    "\n",
    "model.evaluate(x_train, \n",
    "               {\"output_alt\": y_train_alt, \"output_bass\": y_train_bass}, \n",
    "               return_dict=True)"
   ]
  },
  {
   "cell_type": "code",
   "execution_count": 27,
   "metadata": {},
   "outputs": [],
   "source": [
    "def make_yPred(x_test:np.array):\n",
    "    # print(\"Before expansion\", x_test.shape)\n",
    "    input = np.expand_dims(x_test, axis=0)\n",
    "    # print(\"After expansion\", input.shape)\n",
    "    prediction = model.predict(input, verbose=\"mute\")\n",
    "    \n",
    "    return prediction "
   ]
  },
  {
   "cell_type": "code",
   "execution_count": 35,
   "metadata": {},
   "outputs": [
    {
     "data": {
      "image/png": "[encoded data removed]",
      "text/plain": [
       "<Figure size 640x480 with 1 Axes>"
      ]
     },
     "metadata": {
      "image/png": {
       "height": 432,
       "width": 567
      }
     },
     "output_type": "display_data"
    }
   ],
   "source": [
    "plt.plot(history.epoch, history.history['output_alt_accuracy'], label='Output Alto Accuracy')\n",
    "plt.plot(history.epoch, history.history['output_bass_accuracy'], label='Output Bass Accuracy')\n",
    "\n",
    "plt.xlabel('Epoch')\n",
    "plt.ylabel('Accuracy')\n",
    "plt.legend() #\"legend\" is a small box or area within the plot that provides information about the elements being displayed.\n",
    "plt.show()"
   ]
  },
  {
   "cell_type": "code",
   "execution_count": 36,
   "metadata": {},
   "outputs": [],
   "source": [
    "\"\"\"Play Midi2\"\"\"\n",
    "\n",
    "_SAMPLING_RATE = 16000\n",
    "# make a fucntion to be able to do so\n",
    "def play_midi(x_test:np.array, y_pred: np.array, filename): #x_test(2, 49), y_pred (62, 49)\n",
    "  \n",
    "  def make_midi(x_test:np.array, y_pred:np.array, filename):\n",
    "      midi = pretty_midi.PrettyMIDI(resolution=480)\n",
    "      instr = pretty_midi.Instrument(program=1)\n",
    "      \n",
    "      duration_balance=0.5 # Only for y \n",
    "      # desired_beat=0.5 # mute this and unmute random art_balance if you want dynamics\n",
    "      velocity_balance=100 # mute  this and unmute velocity_balance if you want dynamics\n",
    "      \n",
    "      # values = [0.125, 0.25,0.5, 1, 2] # Note representation: 16th, 8th, quater, half, whole \n",
    "      # weights = [0.3, 0.7, 0.5, 0.3, 0.1] # weights corresponding to the note value above\n",
    "      values = [0.5] # simple 4 beats \n",
    "      weights = [1] \n",
    "      total_weight = sum(weights)\n",
    "      normalized_weights = [w / total_weight for w in weights] #  [0.13636363636363635, 0.22727272727272727, 0.3181818181818181, 0.18181818181818182, 0.09090909090909091, 0.045454545454545456] =total 0.9999999999999999\n",
    "      random.seed()\n",
    "      \n",
    "      prev_start = 0\n",
    "      for index, test_vector in enumerate(x_test): \n",
    "        for i in range(len(test_vector)): # the test_vector shape is similar to prPred   \n",
    "            if test_vector[i] > 0.5:\n",
    "                # print(\"x test pitch:\", i, \"| value:\", test_vector[i])\n",
    "                \n",
    "                desired_beat=random.choices(values, weights=normalized_weights)[0] # make art_balance fixed 0.5 to get 8th notes \n",
    "                velocity_balance=0\n",
    "                if 0 <= i <= 21:\n",
    "                  velocity_balance = random.randint(110, 116)\n",
    "                elif 11 <= i <= 33:\n",
    "                  velocity_balance = random.randint(72, 110)\n",
    "                else:\n",
    "                  velocity_balance = random.randint(85, 112)\n",
    "                print(\"desired_beat \",desired_beat)\n",
    "                print(\"index\", index)\n",
    "                print(\"---\")\n",
    "                \n",
    "                start = prev_start\n",
    "                # start = prev_start\n",
    "                end = start + desired_beat\n",
    "                instr.notes.append(pretty_midi.Note(start=start,\n",
    "                                                        end=end,\n",
    "                                                        pitch=36+i,\n",
    "                                                        velocity=velocity_balance)) \n",
    "                start = prev_start+(desired_beat)\n",
    "                prev_start=start\n",
    "\n",
    "      prev_start1=prev_start     \n",
    "      for yIndex, pred_vector in enumerate((y_pred)): #range(0, 62)\n",
    "        # We are getting prob distribution between 0-1. Keep notes closer to 1, dump notes closer to 0\n",
    "        # 0.5 is only a threshold, coud be any number between 0-1 \n",
    "        for j in range(len(pred_vector)): #(0, 49)\n",
    "          if pred_vector[j] > 0.5: # check the TS note how it looks like\n",
    "\n",
    "              desired_beat=random.choices(values, weights=normalized_weights)[0]\n",
    "              velocity_balance=0\n",
    "              if 0 <= j <= 10:\n",
    "                velocity_balance = random.randint(110, 116)\n",
    "              elif 11 <= j <= 33:\n",
    "                velocity_balance = random.randint(72, 110)\n",
    "              else:\n",
    "                velocity_balance = random.randint(85, 112)\n",
    "              \n",
    "              # print(\"y pred pitch:\",j,\"| value:\", pred_vector[j])\n",
    "              # print(\"pianoroll>0.5\",pianoroll[i])\n",
    "              # print(\"y pred index!!\",yIndex)\n",
    "              print(\"desired_beat \",desired_beat)\n",
    "              \n",
    "              start1 = prev_start1+(desired_beat)\n",
    "              end1 = start1 + desired_beat\n",
    "              # print(f\"Y desired beat {desired_beat} * <index+(0.5*yIndex)+duration_balance> {index+(0.5*yIndex)+duration_balance} = {(desired_beat*index)+(0.5*yIndex)+duration_balance}\")\n",
    "              instr.notes.append(pretty_midi.Note(start=start1,\n",
    "                                                  end=end1,\n",
    "                                                  pitch=36+j,\n",
    "                                                  velocity=velocity_balance)) \n",
    "              prev_start1=start1\n",
    "        print(\"----\")                         \n",
    "      midi.instruments.append(instr)\n",
    "      \n",
    "      midi.write(f\"{filename}.mid\")\n",
    "      \n",
    "      instrument = midi.instruments[0]\n",
    "      for note in instrument.notes:\n",
    "         print(f\"Pitch:{note.pitch}, Start:{note.start}, End Time:{note.end}\")\n",
    "\n",
    "\n",
    "  ## Save the midi data into a file, the file name is given in the next cell as output.midi\n",
    "  make_midi(x_test, y_pred, filename)\n",
    "\n",
    "  # Convert MIDI to Wav so that you can listen to it on web browser\n",
    "  fs = FluidSynth(sound_font=\"/Volumes/MAGIC1/FluidR3_GM/FluidR3_GM.sf2\")\n",
    "  fs.midi_to_audio(f\"{filename}.mid\", f\"{filename}.wav\")\n",
    "\n",
    "  ipd.display(ipd.Audio(f\"{filename}.wav\", rate=_SAMPLING_RATE))\n",
    "  \n",
    "  get_musicScore(filename=f\"{filename}.mid\")"
   ]
  },
  {
   "cell_type": "code",
   "execution_count": 37,
   "metadata": {},
   "outputs": [
    {
     "name": "stdout",
     "output_type": "stream",
     "text": [
      "Number of rows: 64\n",
      "Number of columns: 48\n",
      "Total dimesions of this pianoroll is 3072\n",
      "None\n"
     ]
    }
   ],
   "source": [
    "melody_file = \"/Volumes/MAGIC1/CS50/myMusicGen/data/output_KP4.mid\"\n",
    "melody_data = read_melody_midi(melody_file, seqlen=64)\n",
    "print(check_pianoroll_dim(melody_data))"
   ]
  },
  {
   "cell_type": "markdown",
   "metadata": {},
   "source": [
    "### Unused or Test code below"
   ]
  },
  {
   "cell_type": "code",
   "execution_count": 38,
   "metadata": {},
   "outputs": [],
   "source": [
    "# model = tf.keras.Sequential()\n",
    "# model.add(tf.keras.layers.LSTM(units=128, input_shape=(seq_length, pitch_range), return_sequences=True))\n",
    "# model.add(tf.keras.layers.BatchNormalization())\n",
    "# model.add(tf.keras.layers.LSTM(units=64, return_sequences=True))\n",
    "# model.add(tf.keras.layers.LSTM(units=32, return_sequences=True))\n",
    "# model.add(tf.keras.layers.LSTM(units=16))\n",
    "# model.add(tf.keras.layers.BatchNormalization())\n",
    "# model.add(tf.keras.layers.Dense(pitch_range, activation='sigmoid'))\n",
    "\n",
    "# # Compile the model\n",
    "# optimizer = tf.keras.optimizers.legacy.Adam(learning_rate=0.001)\n",
    "# model.compile(optimizer=optimizer, loss='binary_crossentropy', metrics=['accuracy'])"
   ]
  }
 ],
 "metadata": {
  "kernelspec": {
   "display_name": "venv",
   "language": "python",
   "name": "python3"
  },
  "language_info": {
   "codemirror_mode": {
    "name": "ipython",
    "version": 3
   },
   "file_extension": ".py",
   "mimetype": "text/x-python",
   "name": "python",
   "nbconvert_exporter": "python",
   "pygments_lexer": "ipython3",
   "version": "3.9.6"
  }
 },
 "nbformat": 4,
 "nbformat_minor": 2
}
