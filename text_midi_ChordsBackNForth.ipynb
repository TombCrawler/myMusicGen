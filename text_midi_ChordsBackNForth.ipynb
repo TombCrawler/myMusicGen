{
 "cells": [
  {
   "cell_type": "code",
   "execution_count": 2,
   "metadata": {},
   "outputs": [],
   "source": [
    "from midiutil import MIDIFile\n",
    "import mido"
   ]
  },
  {
   "cell_type": "code",
   "execution_count": 25,
   "metadata": {},
   "outputs": [],
   "source": [
    "def text_to_midi(chords_pitch_duration_data, output_filename):\n",
    "    midi_file = MIDIFile(1)\n",
    "\n",
    "    tempo = 120\n",
    "    midi_file.addTempo(0, 0, tempo)\n",
    "\n",
    "    instrument = 0  # Acoustic Grand Piano\n",
    "    midi_file.addProgramChange(0, 0, 0, instrument)\n",
    "\n",
    "    channel = 0\n",
    "    volume = 80\n",
    "\n",
    "    # Add chord notes\n",
    "    current_time = 0\n",
    "    for chord_pitches, duration in chords_pitch_duration_data:\n",
    "        for pitch in chord_pitches:\n",
    "            midi_file.addNote(track=0, channel=channel, pitch=pitch, time=current_time, duration=duration, volume=volume)\n",
    "        current_time += duration\n",
    "\n",
    "    with open(output_filename, \"wb\") as output_file:\n",
    "        midi_file.writeFile(output_file)\n",
    "\n",
    "# Example usage\n",
    "chords_pitch_duration_data = [\n",
    "    ((60, 64, 67), 0.5),  # Chord C5-E5-G5, duration: half note\n",
    "    ((62, 65, 69), 0.33),  # Chord D5-F#5-A5, duration: triplet eighth note\n",
    "    ((57, 60, 64), 1.75),  # Chord A4-C5-E5, duration: custom duration\n",
    "    ((), 0.88),  # Silence, duration: custom duration\n",
    "    ((58, 62, 65), 1.22),  # Chord A#4-D5-F#5, duration: custom duration\n",
    "    ((63, 67, 70), 0.75),  # Chord D#5-G5-B5, duration: dotted quarter note\n",
    "    ((), 0.5),  # Silence, duration: half note\n",
    "    ((62, 65, 69), 1.15),  # Chord D5-F#5-A5, duration: custom duration\n",
    "    ((60, 64, 67), 0.25),  # Chord C5-E5-G5, duration: quarter note\n",
    "    ((62, 65, 69), 1.88),  # Chord D5-F#5-A5, duration: custom duration\n",
    "    ((63, 67, 70), 0.92),  # Chord D#5-G5-B5, duration: custom duration\n",
    "    ((60, 64, 67), 1.5),  # Chord C5-E5-G5, duration: dotted half note\n",
    "\n",
    "]\n",
    "\n",
    "midi_filename = \"chords.mid\"\n",
    "text_to_midi(chords_pitch_duration_data, midi_filename)\n"
   ]
  },
  {
   "cell_type": "code",
   "execution_count": 3,
   "metadata": {},
   "outputs": [
    {
     "name": "stdout",
     "output_type": "stream",
     "text": [
      "[((60, 64, 67), 0.25), ((62, 65, 69), 0.16458333333333333), ((57, 60, 64), 0.875), ((58, 62, 65), 0.6098958333333333), ((63, 67, 70), 0.375), ((62, 65, 69), 0.575), ((60, 64, 67), 0.125), ((62, 65, 69), 0.9395833333333333), ((63, 67, 70), 0.45989583333333334), ((60, 64, 67), 0.75)]\n",
      "[((60, 64, 67), 0.25), ((62, 65, 69), 0.16458333333333333), ((57, 60, 64), 0.875), ((58, 62, 65), 0.6098958333333333), ((63, 67, 70), 0.375), ((62, 65, 69), 0.575), ((60, 64, 67), 0.125), ((62, 65, 69), 0.9395833333333333), ((63, 67, 70), 0.45989583333333334), ((60, 64, 67), 0.75)]\n",
      "[((60, 64, 67), 0.25), ((62, 65, 69), 0.16458333333333333), ((57, 60, 64), 0.875), ((58, 62, 65), 0.6098958333333333), ((63, 67, 70), 0.375), ((62, 65, 69), 0.575), ((60, 64, 67), 0.125), ((62, 65, 69), 0.9395833333333333), ((63, 67, 70), 0.45989583333333334), ((60, 64, 67), 0.75)]\n",
      "[((60, 64, 67), 0.25), ((62, 65, 69), 0.16458333333333333), ((57, 60, 64), 0.875), ((58, 62, 65), 0.6098958333333333), ((63, 67, 70), 0.375), ((62, 65, 69), 0.575), ((60, 64, 67), 0.125), ((62, 65, 69), 0.9395833333333333), ((63, 67, 70), 0.45989583333333334), ((60, 64, 67), 0.75)]\n",
      "[((60, 64, 67), 0.25), ((62, 65, 69), 0.16458333333333333), ((57, 60, 64), 0.875), ((58, 62, 65), 0.6098958333333333), ((63, 67, 70), 0.375), ((62, 65, 69), 0.575), ((60, 64, 67), 0.125), ((62, 65, 69), 0.9395833333333333), ((63, 67, 70), 0.45989583333333334), ((60, 64, 67), 0.75)]\n",
      "[((60, 64, 67), 0.25), ((62, 65, 69), 0.16458333333333333), ((57, 60, 64), 0.875), ((58, 62, 65), 0.6098958333333333), ((63, 67, 70), 0.375), ((62, 65, 69), 0.575), ((60, 64, 67), 0.125), ((62, 65, 69), 0.9395833333333333), ((63, 67, 70), 0.45989583333333334), ((60, 64, 67), 0.75)]\n",
      "[((60, 64, 67), 0.25), ((62, 65, 69), 0.16458333333333333), ((57, 60, 64), 0.875), ((58, 62, 65), 0.6098958333333333), ((63, 67, 70), 0.375), ((62, 65, 69), 0.575), ((60, 64, 67), 0.125), ((62, 65, 69), 0.9395833333333333), ((63, 67, 70), 0.45989583333333334), ((60, 64, 67), 0.75)]\n",
      "[((60, 64, 67), 0.25), ((62, 65, 69), 0.16458333333333333), ((57, 60, 64), 0.875), ((58, 62, 65), 0.6098958333333333), ((63, 67, 70), 0.375), ((62, 65, 69), 0.575), ((60, 64, 67), 0.125), ((62, 65, 69), 0.9395833333333333), ((63, 67, 70), 0.45989583333333334), ((60, 64, 67), 0.75)]\n",
      "[((60, 64, 67), 0.25), ((62, 65, 69), 0.16458333333333333), ((57, 60, 64), 0.875), ((58, 62, 65), 0.6098958333333333), ((63, 67, 70), 0.375), ((62, 65, 69), 0.575), ((60, 64, 67), 0.125), ((62, 65, 69), 0.9395833333333333), ((63, 67, 70), 0.45989583333333334), ((60, 64, 67), 0.75)]\n",
      "[((60, 64, 67), 0.25), ((62, 65, 69), 0.16458333333333333), ((57, 60, 64), 0.875), ((58, 62, 65), 0.6098958333333333), ((63, 67, 70), 0.375), ((62, 65, 69), 0.575), ((60, 64, 67), 0.125), ((62, 65, 69), 0.9395833333333333), ((63, 67, 70), 0.45989583333333334), ((60, 64, 67), 0.75)]\n"
     ]
    }
   ],
   "source": [
    "def midi_to_text(midi_filename):\n",
    "    midi_file = mido.MidiFile(midi_filename)\n",
    "    chords_pitch_duration_data = []\n",
    "\n",
    "    current_chord_pitches = []  # Stores the pitches of the current chord\n",
    "    current_time = 0  # Stores the accumulated time for each chord\n",
    "\n",
    "    for msg in midi_file:\n",
    "        if msg.type == 'note_on':\n",
    "            current_chord_pitches.append(msg.note)\n",
    "        elif msg.type == 'note_off':\n",
    "            duration = msg.time\n",
    "            if current_chord_pitches:\n",
    "                chord = (tuple(current_chord_pitches), duration)\n",
    "                chords_pitch_duration_data.append(chord)\n",
    "                current_chord_pitches = []\n",
    "            current_time += duration\n",
    "\n",
    "    return chords_pitch_duration_data\n",
    "\n",
    "midi_filename1 = \"chords.mid\"\n",
    "chords_data = midi_to_text(midi_filename1)\n",
    "for i in chords_data:\n",
    "#    print(f\"{i},\")   \n",
    "     print(chords_data)\n"
   ]
  }
 ],
 "metadata": {
  "kernelspec": {
   "display_name": "venv",
   "language": "python",
   "name": "python3"
  },
  "language_info": {
   "codemirror_mode": {
    "name": "ipython",
    "version": 3
   },
   "file_extension": ".py",
   "mimetype": "text/x-python",
   "name": "python",
   "nbconvert_exporter": "python",
   "pygments_lexer": "ipython3",
   "version": "3.9.6"
  },
  "orig_nbformat": 4
 },
 "nbformat": 4,
 "nbformat_minor": 2
}
