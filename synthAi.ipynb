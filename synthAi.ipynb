{
 "cells": [
  {
   "cell_type": "markdown",
   "metadata": {},
   "source": [
    "Referal Official TF music generation tutorial https://www.tensorflow.org/tutorials/audio/music_generation"
   ]
  },
  {
   "cell_type": "code",
   "execution_count": 1,
   "metadata": {},
   "outputs": [],
   "source": [
    "from IPython import display\n",
    "import collections\n",
    "import datetime\n",
    "import fluidsynth\n",
    "import glob\n",
    "import numpy as np\n",
    "import pathlib\n",
    "import pandas as pd\n",
    "import pretty_midi\n",
    "import seaborn as sns\n",
    "import tensorflow as tf\n",
    "\n",
    "from matplotlib import pyplot as plt\n",
    "from typing import Dict, List, Optional, Sequence, Tuple\n",
    "\n",
    "# Tomb added\n",
    "import random"
   ]
  },
  {
   "cell_type": "code",
   "execution_count": null,
   "metadata": {},
   "outputs": [],
   "source": [
    "seed = 42\n",
    "tf.random.set_seed(seed)\n",
    "np.random.seed(seed)\n",
    "\n",
    "\n",
    "# Sampling rate for audio playback\n",
    "_SAMPLING_RATE = 16000\n",
    "\n",
    "# Download the maestro dataset of 1282 files\n",
    "data_dir = pathlib.Path('data/maestro-v2.0.0')\n",
    "if not data_dir.exists():\n",
    "  tf.keras.utils.get_file(\n",
    "      'maestro-v2.0.0-midi.zip',\n",
    "      origin='https://storage.googleapis.com/magentadata/datasets/maestro/v2.0.0/maestro-v2.0.0-midi.zip',\n",
    "      extract=True,\n",
    "      cache_dir='.', cache_subdir='data',\n",
    "  )\n",
    "\n",
    "#Download Chorales\n",
    "# data_dir = pathlib.Path('/Volumes/MAGIC1/CS50/myMusicGen/data/chorales')\n",
    "# if not data_dir.exists():\n",
    "#   tf.keras.utils.get_file(\n",
    "#       'midi',\n",
    "#       origin='https://github.com/jamesrobertlloyd/infinite-bach/tree/master/data/chorales/midi',\n",
    "#       extract=True,\n",
    "#       cache_dir='.', cache_subdir='data',\n",
    "#   )\n",
    "\n",
    "# these lines from tensor documentation above\n",
    "filenames = glob.glob(str(data_dir/'**/*.mid*'))\n",
    "print(filenames)\n",
    "print('Number of files:', len(filenames))\n",
    "# sample_file = filenames[1] # these two lines are default for sample file\n",
    "# print(sample_file) # these two lines are default for sample file\n",
    "\n",
    "# Tomb added\n",
    "file_len = len(filenames) \n",
    "random_file_index = random.randint(0, file_len)\n",
    "sample_file = filenames[random_file_index]\n",
    "print(sample_file)\n",
    "\n",
    "# generate a prettyMIDI object for the sample MIDI file\n",
    "pm = pretty_midi.PrettyMIDI(sample_file)"
   ]
  },
  {
   "cell_type": "code",
   "execution_count": null,
   "metadata": {},
   "outputs": [],
   "source": [
    "def display_audio(pm: pretty_midi.PrettyMIDI, seconds=40):\n",
    "    waveform = pm.fluidsynth(fs=float(_SAMPLING_RATE))\n",
    "    # Take a sample of the generated waveform to mitigate kernel resets\n",
    "    waveform_short = waveform[:seconds*_SAMPLING_RATE]\n",
    "    return display.Audio(waveform_short, rate=_SAMPLING_RATE)"
   ]
  },
  {
   "cell_type": "code",
   "execution_count": null,
   "metadata": {},
   "outputs": [],
   "source": [
    "display_audio(pm)"
   ]
  },
  {
   "cell_type": "code",
   "execution_count": null,
   "metadata": {},
   "outputs": [],
   "source": [
    "print('Number of instruments:', len(pm.instruments))\n",
    "for instrument in pm.instruments:\n",
    "    # instrument = pm.instruments[instrument]\n",
    "    instrument_name = pretty_midi.program_to_instrument_name(instrument.program)\n",
    "    print('Instrument name:', instrument_name)\n",
    "    for i, note in enumerate(instrument.notes[:10]):\n",
    "        note_name = pretty_midi.note_number_to_name(note.pitch)\n",
    "        duration = note.end - note.start\n",
    "        print(f'{i}: pitch={note.pitch}, note_name={note_name},'\n",
    "                f' duration={duration:.4f}')"
   ]
  },
  {
   "cell_type": "code",
   "execution_count": null,
   "metadata": {},
   "outputs": [],
   "source": [
    "for i, note in enumerate(instrument.notes[:10]):\n",
    "  note_name = pretty_midi.note_number_to_name(note.pitch)\n",
    "  duration = note.end - note.start\n",
    "  print(f'{i}: pitch={note.pitch}, note_name={note_name},'\n",
    "        f' duration={duration:.4f}')"
   ]
  },
  {
   "cell_type": "code",
   "execution_count": null,
   "metadata": {},
   "outputs": [],
   "source": [
    "def midi_to_notes(midi_file: str) -> pd.DataFrame:\n",
    "  pm = pretty_midi.PrettyMIDI(midi_file)\n",
    "  instrument = pm.instruments[0]\n",
    "  notes = collections.defaultdict(list)\n",
    "\n",
    "  # Sort the notes by start time\n",
    "  sorted_notes = sorted(instrument.notes, key=lambda note: note.start)\n",
    "  prev_start = sorted_notes[0].start\n",
    "\n",
    "  for note in sorted_notes:\n",
    "    start = note.start\n",
    "    end = note.end\n",
    "    notes['pitch'].append(note.pitch)\n",
    "    notes['start'].append(start)\n",
    "    notes['end'].append(end)\n",
    "    notes['step'].append(start - prev_start)\n",
    "    notes['duration'].append(end - start)\n",
    "    prev_start = start\n",
    "\n",
    "  return pd.DataFrame({name: np.array(value) for name, value in notes.items()})"
   ]
  },
  {
   "cell_type": "code",
   "execution_count": null,
   "metadata": {},
   "outputs": [],
   "source": [
    "raw_notes = midi_to_notes(sample_file)\n",
    "raw_notes.head()"
   ]
  },
  {
   "cell_type": "code",
   "execution_count": null,
   "metadata": {},
   "outputs": [],
   "source": [
    "get_note_names = np.vectorize(pretty_midi.note_number_to_name)\n",
    "sample_note_names = get_note_names(raw_notes['pitch'])\n",
    "sample_note_names[:10]"
   ]
  },
  {
   "cell_type": "code",
   "execution_count": null,
   "metadata": {},
   "outputs": [],
   "source": [
    "def plot_piano_roll(notes: pd.DataFrame, count: Optional[int] = None):\n",
    "  if count:\n",
    "    title = f'First {count} notes'\n",
    "  else:\n",
    "    title = f'Whole track'\n",
    "    count = len(notes['pitch'])\n",
    "  plt.figure(figsize=(20, 4))\n",
    "  plot_pitch = np.stack([notes['pitch'], notes['pitch']], axis=0)\n",
    "  plot_start_stop = np.stack([notes['start'], notes['end']], axis=0)\n",
    "  plt.plot(\n",
    "      plot_start_stop[:, :count], plot_pitch[:, :count], color=\"b\", marker=\".\")\n",
    "  plt.xlabel('Time [s]')\n",
    "  plt.ylabel('Pitch')\n",
    "  _ = plt.title(title)"
   ]
  },
  {
   "cell_type": "markdown",
   "metadata": {},
   "source": [
    "### Ceate a MIDI file"
   ]
  },
  {
   "cell_type": "code",
   "execution_count": null,
   "metadata": {},
   "outputs": [],
   "source": [
    "def notes_to_midi(\n",
    "  notes: pd.DataFrame,\n",
    "  out_file: str, \n",
    "  instrument_name: str,\n",
    "  velocity: int = 100,  # note loudness\n",
    ") -> pretty_midi.PrettyMIDI:\n",
    "  \n",
    "\n",
    "  pm = pretty_midi.PrettyMIDI()\n",
    "  instrument = pretty_midi.Instrument(\n",
    "      program=pretty_midi.instrument_name_to_program(\n",
    "          instrument_name))\n",
    "\n",
    "  prev_start = 0\n",
    "  for i, note in notes.iterrows():\n",
    "    print(\"notes!\", note)\n",
    "    start = float(prev_start + note['step'])\n",
    "    end = float(start + note['duration'])\n",
    "    note = pretty_midi.Note(\n",
    "        velocity=velocity,\n",
    "        pitch=int(note['pitch']),\n",
    "        start=start,\n",
    "        end=end,\n",
    "    )\n",
    "    instrument.notes.append(note)\n",
    "    prev_start = start\n",
    "\n",
    "  pm.instruments.append(instrument)\n",
    "  pm.write(out_file)\n",
    "  return pm"
   ]
  },
  {
   "cell_type": "code",
   "execution_count": null,
   "metadata": {},
   "outputs": [],
   "source": [
    "# Assuming you already have the `notes_df` DataFrame and `instrument_name` list\n",
    "\n",
    "# Specify the output MIDI file path\n",
    "example_file = 'example.midi'\n",
    "\n",
    "# Call the `notes_to_midi` function\n",
    "example_pm = notes_to_midi(raw_notes, out_file=example_file, instrument_name=instrument_name)\n",
    "\n",
    "# Play the generated MIDI file in ipynb\n",
    "display_audio(example_pm)\n"
   ]
  },
  {
   "cell_type": "markdown",
   "metadata": {},
   "source": [
    "### Create the training dataset"
   ]
  },
  {
   "cell_type": "code",
   "execution_count": null,
   "metadata": {},
   "outputs": [],
   "source": [
    "num_files = 5\n",
    "all_notes = []\n",
    "for f in filenames[:num_files]:\n",
    "    notes = midi_to_notes(f)\n",
    "    all_notes.append(notes)\n",
    "\n",
    "print(\"all notes!\", all_notes)\n",
    "all_notes = pd.concat(all_notes)\n",
    "n_notes = len(all_notes)\n",
    "print(\"Number of notes parsed:\", n_notes)"
   ]
  },
  {
   "cell_type": "markdown",
   "metadata": {},
   "source": [
    "#### Create a tf.data.Dataset from the parsed notes."
   ]
  },
  {
   "cell_type": "code",
   "execution_count": null,
   "metadata": {},
   "outputs": [],
   "source": [
    "key_order = ['pitch', 'step', 'duration']\n",
    "train_notes = np.stack([all_notes[key] for key in key_order], axis=1)\n",
    "notes_ds = tf.data.Dataset.from_tensor_slices(train_notes)\n",
    "notes_ds.element_spec\n",
    "print(list(notes_ds.as_numpy_iterator()))"
   ]
  },
  {
   "cell_type": "code",
   "execution_count": null,
   "metadata": {},
   "outputs": [],
   "source": [
    "def create_sequences(\n",
    "        dataset: tf.data.Dataset,\n",
    "        seq_length: int,\n",
    "        vocab_size = 128,\n",
    ") -> tf.data.Dataset:\n",
    "    \"\"\"Returns TF Dataset of sequence and label examples\"\"\"\n",
    "    seq_length = seq_length + 1\n",
    "\n",
    "    print(seq_length)\n",
    "    # Take 1 extra for the labels\n",
    "    windows = dataset.window(seq_length, shift=1, stride=1, drop_remainder=True) # stride=1 is default so nothing changed\n",
    "    # for window in windows:\n",
    "    #     print(f\"window!! {list(window.as_numpy_iterator())}\") # To see the inside of each window\n",
    "    \n",
    "    # Flat_map falltens the \"dataset of datasets\" into a dataset of tensors\n",
    "    flatten = lambda x:x.batch(seq_length, drop_remainder=True) # lambda x:: Defines an anonymous function that takes an input x. and this function per se is assigned to the flatten variable\n",
    "    sequences = windows.flat_map(flatten)\n",
    "    # for sequence in sequences:\n",
    "    #     print(f\"seq!!{sequence.numpy()}\")\n",
    "\n",
    "\n",
    "\n",
    "    # Normalize note pitch\n",
    "    # For instance, if x is a list or array [a, b, c], the scaling operation i.e. division would result in [a/vocab_size, b/1.0, c/1.0].\n",
    "    def scale_pitch(x):\n",
    "        x = x / [vocab_size, 1.0, 1.0]\n",
    "        return x\n",
    "    \n",
    "    # Split the labels\n",
    "    def split_labels(sequences): # To separates the inputs from the labels within each sequence. It returns the normalized inputs and the labels.\n",
    "        inputs = sequences[:-1]\n",
    "        labels_dense = sequences[-1]\n",
    "        labels = {key:labels_dense[i] for i, key in enumerate(key_order)} # the key_order is a global variable. \n",
    "\n",
    "        return scale_pitch(inputs), labels\n",
    "    \n",
    "    # In Python, if you're using map from tf.data.Dataset, the map function allows you to apply a transformation to each element of the dataset.\n",
    "    # Meaning you do not have to pass in an argument to the split_labels function even tho it expects an argumment\n",
    "    return sequences.map(split_labels, num_parallel_calls=tf.data.AUTOTUNE)"
   ]
  },
  {
   "cell_type": "code",
   "execution_count": 94,
   "metadata": {},
   "outputs": [
    {
     "name": "stdout",
     "output_type": "stream",
     "text": [
      "26\n"
     ]
    },
    {
     "data": {
      "text/plain": [
       "(TensorSpec(shape=(25, 3), dtype=tf.float64, name=None),\n",
       " {'pitch': TensorSpec(shape=(), dtype=tf.float64, name=None),\n",
       "  'step': TensorSpec(shape=(), dtype=tf.float64, name=None),\n",
       "  'duration': TensorSpec(shape=(), dtype=tf.float64, name=None)})"
      ]
     },
     "execution_count": 94,
     "metadata": {},
     "output_type": "execute_result"
    }
   ],
   "source": [
    "seq_length = 25 # default\n",
    "# seq_length = 50\n",
    "vocab_size = 128\n",
    "seq_ds = create_sequences(notes_ds, seq_length, vocab_size)\n",
    "seq_ds.element_spec"
   ]
  },
  {
   "cell_type": "code",
   "execution_count": 95,
   "metadata": {},
   "outputs": [
    {
     "name": "stdout",
     "output_type": "stream",
     "text": [
      "sequence shape: (25, 3)\n",
      "sequence elements (first 10): tf.Tensor(\n",
      "[[0.4375     0.         0.21223958]\n",
      " [0.4921875  0.         0.21223958]\n",
      " [0.46875    0.00260417 0.20052083]\n",
      " [0.53125    0.35026042 0.14453125]\n",
      " [0.5234375  0.11458333 0.12890625]\n",
      " [0.53125    0.13020833 0.02994792]\n",
      " [0.5625     0.29427083 0.05859375]\n",
      " [0.4921875  0.2890625  0.11588542]\n",
      " [0.53125    0.28125    0.03645833]\n",
      " [0.4921875  0.30338542 0.30208333]], shape=(10, 3), dtype=float64)\n",
      "\n",
      "target: {'pitch': <tf.Tensor: shape=(), dtype=float64, numpy=60.0>, 'step': <tf.Tensor: shape=(), dtype=float64, numpy=0.29557291666666696>, 'duration': <tf.Tensor: shape=(), dtype=float64, numpy=0.03645833333333304>}\n"
     ]
    }
   ],
   "source": [
    "\n",
    "for seq, target in seq_ds.take(1):\n",
    "  print('sequence shape:', seq.shape)\n",
    "  print('sequence elements (first 10):', seq[0: 10]) \n",
    "  print()\n",
    "  print('target:', target)"
   ]
  },
  {
   "cell_type": "markdown",
   "metadata": {},
   "source": [
    "Batch the examples, and configure the dataset for performance."
   ]
  },
  {
   "cell_type": "code",
   "execution_count": 96,
   "metadata": {},
   "outputs": [
    {
     "data": {
      "text/plain": [
       "(TensorSpec(shape=(64, 25, 3), dtype=tf.float64, name=None),\n",
       " {'pitch': TensorSpec(shape=(64,), dtype=tf.float64, name=None),\n",
       "  'step': TensorSpec(shape=(64,), dtype=tf.float64, name=None),\n",
       "  'duration': TensorSpec(shape=(64,), dtype=tf.float64, name=None)})"
      ]
     },
     "execution_count": 96,
     "metadata": {},
     "output_type": "execute_result"
    }
   ],
   "source": [
    "batch_size = 64\n",
    "buffer_size = n_notes - seq_length # the number of items in the dataset. Seq_length is 25. To ensure you have enough room within the dataset to form complete sequences of length seq_length.\n",
    "\n",
    "train_ds = (seq_ds\n",
    "            .shuffle(buffer_size) # all these functions connected to seq_ds is called via tf.data.Dataset\n",
    "            .batch(batch_size, drop_remainder=True) \n",
    "            .cache()\n",
    "            .prefetch(tf.data.experimental.AUTOTUNE)\n",
    ")\n",
    "# print(f\"buffer_size =n_notes {n_notes} - seq_length {seq_length}\")\n",
    "# print(buffer_size)\n",
    "train_ds.element_spec"
   ]
  },
  {
   "cell_type": "markdown",
   "metadata": {},
   "source": [
    "### Create and train the Model\n",
    "\n",
    "The model will have 3 outputs\n",
    "1, each note variable. 2, Step. 3, duration.\n",
    "\n",
    "For 2, 3, you will use a custom loss function based on mean squared error that encourages the model to output non-negative values."
   ]
  },
  {
   "cell_type": "code",
   "execution_count": 97,
   "metadata": {},
   "outputs": [],
   "source": [
    "def mse_with_positive_pressure(y_true: tf.Tensor, y_pred: tf.Tensor):\n",
    "    mse = (y_true - y_pred) ** 2\n",
    "    positive_presssure = 10 * tf.maximum(-y_pred, 0.0)\n",
    "    print(f\"positive_pressure {positive_presssure}\")\n",
    "    return tf.reduce_mean(mse + positive_presssure)"
   ]
  },
  {
   "cell_type": "code",
   "execution_count": 98,
   "metadata": {},
   "outputs": [
    {
     "name": "stderr",
     "output_type": "stream",
     "text": [
      "WARNING:absl:At this time, the v2.11+ optimizer `tf.keras.optimizers.Adam` runs slowly on M1/M2 Macs, please use the legacy Keras optimizer instead, located at `tf.keras.optimizers.legacy.Adam`.\n",
      "WARNING:absl:There is a known slowdown when using v2.11+ Keras optimizers on M1/M2 Macs. Falling back to the legacy Keras optimizer, i.e., `tf.keras.optimizers.legacy.Adam`.\n"
     ]
    },
    {
     "name": "stdout",
     "output_type": "stream",
     "text": [
      "Model: \"model_2\"\n",
      "__________________________________________________________________________________________________\n",
      " Layer (type)                Output Shape                 Param #   Connected to                  \n",
      "==================================================================================================\n",
      " input_3 (InputLayer)        [(None, 25, 3)]              0         []                            \n",
      "                                                                                                  \n",
      " lstm_2 (LSTM)               (None, 128)                  67584     ['input_3[0][0]']             \n",
      "                                                                                                  \n",
      " duration (Dense)            (None, 1)                    129       ['lstm_2[0][0]']              \n",
      "                                                                                                  \n",
      " pitch (Dense)               (None, 128)                  16512     ['lstm_2[0][0]']              \n",
      "                                                                                                  \n",
      " step (Dense)                (None, 1)                    129       ['lstm_2[0][0]']              \n",
      "                                                                                                  \n",
      "==================================================================================================\n",
      "Total params: 84354 (329.51 KB)\n",
      "Trainable params: 84354 (329.51 KB)\n",
      "Non-trainable params: 0 (0.00 Byte)\n",
      "__________________________________________________________________________________________________\n"
     ]
    }
   ],
   "source": [
    "input_shape = (seq_length, 3)\n",
    "learning_rate = 0.005\n",
    "\n",
    "inputs = tf.keras.Input(input_shape)\n",
    "x = tf.keras.layers.LSTM(128)(inputs)\n",
    "\n",
    "outputs = {\n",
    "    \"pitch\" : tf.keras.layers.Dense(128, name=\"pitch\")(x), # you can write as (128, activation='softmax', name=\"pitch\") if set from_logits=False for Sparse--\n",
    "    \"step\" : tf.keras.layers.Dense(1, name=\"step\")(x),\n",
    "    \"duration\" : tf.keras.layers.Dense(1, name=\"duration\")(x),\n",
    "}\n",
    "\n",
    "model = tf.keras.Model(inputs, outputs)\n",
    "\n",
    "loss = {\n",
    "    \"pitch\" : tf.keras.losses.SparseCategoricalCrossentropy(\n",
    "        from_logits=True), # Make from_logits True automatically appllies softmax activation function to the output values. \n",
    "    \"step\" : mse_with_positive_pressure, # custom function\n",
    "    \"duration\" : mse_with_positive_pressure,\n",
    "}\n",
    "\n",
    "optimizer = tf.keras.optimizers.Adam(learning_rate=learning_rate)\n",
    "sparse_accuracy = tf.keras.metrics.SparseCategoricalAccuracy()\n",
    "\n",
    "model.compile(loss=loss, \n",
    "              optimizer=optimizer,\n",
    "              metrics=[sparse_accuracy] # https://www.tensorflow.org/api_docs/python/tf/keras/metrics/SparseCategoricalAccuracy\n",
    "              )\n",
    "model.summary()"
   ]
  },
  {
   "cell_type": "code",
   "execution_count": 99,
   "metadata": {},
   "outputs": [
    {
     "name": "stdout",
     "output_type": "stream",
     "text": [
      "(TensorSpec(shape=(64, 25, 3), dtype=tf.float64, name=None), {'pitch': TensorSpec(shape=(64,), dtype=tf.float64, name=None), 'step': TensorSpec(shape=(64,), dtype=tf.float64, name=None), 'duration': TensorSpec(shape=(64,), dtype=tf.float64, name=None)})\n",
      "positive_pressure Tensor(\"mse_with_positive_pressure/mul:0\", shape=(64, 1), dtype=float32)\n",
      "positive_pressure Tensor(\"mse_with_positive_pressure_1/mul:0\", shape=(64, 1), dtype=float32)\n",
      "positive_pressure Tensor(\"mse_with_positive_pressure/mul:0\", shape=(64, 1), dtype=float32)\n",
      "positive_pressure Tensor(\"mse_with_positive_pressure_1/mul:0\", shape=(64, 1), dtype=float32)\n",
      "202/202 [==============================] - 2s 6ms/step - loss: 5.9674 - duration_loss: 0.2086 - pitch_loss: 4.8507 - step_loss: 0.9080 - duration_sparse_categorical_accuracy: 0.0000e+00 - pitch_sparse_categorical_accuracy: 0.0013 - step_sparse_categorical_accuracy: 0.0288\n"
     ]
    },
    {
     "data": {
      "text/plain": [
       "{'loss': 5.967362403869629,\n",
       " 'duration_loss': 0.20857077836990356,\n",
       " 'pitch_loss': 4.850742816925049,\n",
       " 'step_loss': 0.9080496430397034,\n",
       " 'duration_sparse_categorical_accuracy': 0.0,\n",
       " 'pitch_sparse_categorical_accuracy': 0.0013149752048775554,\n",
       " 'step_sparse_categorical_accuracy': 0.028774753212928772}"
      ]
     },
     "execution_count": 99,
     "metadata": {},
     "output_type": "execute_result"
    }
   ],
   "source": [
    "print(train_ds.element_spec)\n",
    "losses = model.evaluate(train_ds, return_dict=True)\n",
    "losses\n",
    "\n",
    "# At this point, the pitch loss is more significant than the others\n",
    "# and it dominates the total loss computed by summing all the other losses"
   ]
  },
  {
   "cell_type": "code",
   "execution_count": 100,
   "metadata": {},
   "outputs": [
    {
     "name": "stderr",
     "output_type": "stream",
     "text": [
      "WARNING:absl:There is a known slowdown when using v2.11+ Keras optimizers on M1/M2 Macs. Falling back to the legacy Keras optimizer, i.e., `tf.keras.optimizers.legacy.Adam`.\n"
     ]
    },
    {
     "name": "stdout",
     "output_type": "stream",
     "text": [
      "positive_pressure Tensor(\"mse_with_positive_pressure/mul:0\", shape=(64, 1), dtype=float32)\n",
      "positive_pressure Tensor(\"mse_with_positive_pressure_1/mul:0\", shape=(64, 1), dtype=float32)\n",
      "positive_pressure Tensor(\"mse_with_positive_pressure/mul:0\", shape=(64, 1), dtype=float32)\n",
      "positive_pressure Tensor(\"mse_with_positive_pressure_1/mul:0\", shape=(64, 1), dtype=float32)\n",
      "202/202 [==============================] - 1s 5ms/step - loss: 1.3592 - duration_loss: 0.2086 - pitch_loss: 4.8507 - step_loss: 0.9080 - duration_sparse_categorical_accuracy: 0.0000e+00 - pitch_sparse_categorical_accuracy: 0.0013 - step_sparse_categorical_accuracy: 0.0288\n"
     ]
    },
    {
     "data": {
      "text/plain": [
       "{'loss': 1.359157919883728,\n",
       " 'duration_loss': 0.20857077836990356,\n",
       " 'pitch_loss': 4.850742816925049,\n",
       " 'step_loss': 0.9080496430397034,\n",
       " 'duration_sparse_categorical_accuracy': 0.0,\n",
       " 'pitch_sparse_categorical_accuracy': 0.0013149752048775554,\n",
       " 'step_sparse_categorical_accuracy': 0.028774753212928772}"
      ]
     },
     "execution_count": 100,
     "metadata": {},
     "output_type": "execute_result"
    }
   ],
   "source": [
    "# so use the loss_weights argument to compile to Balance it\n",
    "model.compile(\n",
    "    loss = loss,\n",
    "    loss_weights = {\n",
    "        \"pitch\" : 0.05,\n",
    "        \"step\" : 1.0,\n",
    "        \"duration\" : 1.0\n",
    "    },\n",
    "    optimizer = optimizer,\n",
    "    metrics=[sparse_accuracy]\n",
    ")\n",
    "\n",
    "model.evaluate(train_ds, return_dict=True)\n",
    "#The loss then becomes the weighted sum of the individual losses."
   ]
  },
  {
   "cell_type": "markdown",
   "metadata": {},
   "source": [
    "### Train the Model"
   ]
  },
  {
   "cell_type": "code",
   "execution_count": 101,
   "metadata": {},
   "outputs": [
    {
     "name": "stdout",
     "output_type": "stream",
     "text": [
      "Epoch 1/20\n",
      "positive_pressure Tensor(\"mse_with_positive_pressure/mul:0\", shape=(64, 1), dtype=float32)\n",
      "positive_pressure Tensor(\"mse_with_positive_pressure_1/mul:0\", shape=(64, 1), dtype=float32)\n",
      "positive_pressure Tensor(\"mse_with_positive_pressure/mul:0\", shape=(64, 1), dtype=float32)\n",
      "positive_pressure Tensor(\"mse_with_positive_pressure_1/mul:0\", shape=(64, 1), dtype=float32)\n",
      "202/202 [==============================] - 4s 14ms/step - loss: 0.3821 - duration_loss: 0.1303 - pitch_loss: 4.1827 - step_loss: 0.0427 - duration_sparse_categorical_accuracy: 0.0000e+00 - pitch_sparse_categorical_accuracy: 0.0406 - step_sparse_categorical_accuracy: 0.0288\n",
      "Epoch 2/20\n",
      "202/202 [==============================] - 3s 14ms/step - loss: 0.3568 - duration_loss: 0.1233 - pitch_loss: 3.9653 - step_loss: 0.0353 - duration_sparse_categorical_accuracy: 0.0000e+00 - pitch_sparse_categorical_accuracy: 0.0460 - step_sparse_categorical_accuracy: 0.0288\n",
      "Epoch 3/20\n",
      "202/202 [==============================] - 3s 14ms/step - loss: 0.3488 - duration_loss: 0.1209 - pitch_loss: 3.8652 - step_loss: 0.0347 - duration_sparse_categorical_accuracy: 0.0000e+00 - pitch_sparse_categorical_accuracy: 0.0510 - step_sparse_categorical_accuracy: 0.0288\n",
      "Epoch 4/20\n",
      "202/202 [==============================] - 3s 14ms/step - loss: 0.3417 - duration_loss: 0.1178 - pitch_loss: 3.7926 - step_loss: 0.0343 - duration_sparse_categorical_accuracy: 0.0000e+00 - pitch_sparse_categorical_accuracy: 0.0555 - step_sparse_categorical_accuracy: 0.0288\n",
      "Epoch 5/20\n",
      "202/202 [==============================] - 3s 14ms/step - loss: 0.3367 - duration_loss: 0.1140 - pitch_loss: 3.7737 - step_loss: 0.0340 - duration_sparse_categorical_accuracy: 0.0000e+00 - pitch_sparse_categorical_accuracy: 0.0569 - step_sparse_categorical_accuracy: 0.0288\n",
      "Epoch 6/20\n",
      "202/202 [==============================] - 3s 14ms/step - loss: 0.3374 - duration_loss: 0.1156 - pitch_loss: 3.7569 - step_loss: 0.0340 - duration_sparse_categorical_accuracy: 0.0000e+00 - pitch_sparse_categorical_accuracy: 0.0574 - step_sparse_categorical_accuracy: 0.0288\n",
      "Epoch 7/20\n",
      "202/202 [==============================] - 3s 14ms/step - loss: 0.3331 - duration_loss: 0.1124 - pitch_loss: 3.7424 - step_loss: 0.0336 - duration_sparse_categorical_accuracy: 0.0000e+00 - pitch_sparse_categorical_accuracy: 0.0612 - step_sparse_categorical_accuracy: 0.0288\n",
      "Epoch 8/20\n",
      "202/202 [==============================] - 3s 14ms/step - loss: 0.3282 - duration_loss: 0.1088 - pitch_loss: 3.7203 - step_loss: 0.0334 - duration_sparse_categorical_accuracy: 0.0000e+00 - pitch_sparse_categorical_accuracy: 0.0644 - step_sparse_categorical_accuracy: 0.0288\n",
      "Epoch 9/20\n",
      "202/202 [==============================] - 3s 14ms/step - loss: 0.3263 - duration_loss: 0.1079 - pitch_loss: 3.7053 - step_loss: 0.0332 - duration_sparse_categorical_accuracy: 0.0000e+00 - pitch_sparse_categorical_accuracy: 0.0627 - step_sparse_categorical_accuracy: 0.0288\n",
      "Epoch 10/20\n",
      "202/202 [==============================] - 3s 14ms/step - loss: 0.3248 - duration_loss: 0.1069 - pitch_loss: 3.6959 - step_loss: 0.0331 - duration_sparse_categorical_accuracy: 0.0000e+00 - pitch_sparse_categorical_accuracy: 0.0649 - step_sparse_categorical_accuracy: 0.0288\n",
      "Epoch 11/20\n",
      "202/202 [==============================] - 3s 13ms/step - loss: 0.3246 - duration_loss: 0.1066 - pitch_loss: 3.6999 - step_loss: 0.0330 - duration_sparse_categorical_accuracy: 0.0000e+00 - pitch_sparse_categorical_accuracy: 0.0646 - step_sparse_categorical_accuracy: 0.0288\n",
      "Epoch 12/20\n",
      "202/202 [==============================] - 3s 13ms/step - loss: 0.3235 - duration_loss: 0.1057 - pitch_loss: 3.6958 - step_loss: 0.0330 - duration_sparse_categorical_accuracy: 0.0000e+00 - pitch_sparse_categorical_accuracy: 0.0640 - step_sparse_categorical_accuracy: 0.0288\n",
      "Epoch 13/20\n",
      "202/202 [==============================] - 3s 13ms/step - loss: 0.3242 - duration_loss: 0.1070 - pitch_loss: 3.6903 - step_loss: 0.0327 - duration_sparse_categorical_accuracy: 0.0000e+00 - pitch_sparse_categorical_accuracy: 0.0647 - step_sparse_categorical_accuracy: 0.0288\n",
      "Epoch 14/20\n",
      "202/202 [==============================] - 3s 13ms/step - loss: 0.3198 - duration_loss: 0.1031 - pitch_loss: 3.6841 - step_loss: 0.0325 - duration_sparse_categorical_accuracy: 0.0000e+00 - pitch_sparse_categorical_accuracy: 0.0666 - step_sparse_categorical_accuracy: 0.0288\n",
      "Epoch 15/20\n",
      "202/202 [==============================] - 3s 13ms/step - loss: 0.3198 - duration_loss: 0.1022 - pitch_loss: 3.6706 - step_loss: 0.0341 - duration_sparse_categorical_accuracy: 0.0000e+00 - pitch_sparse_categorical_accuracy: 0.0679 - step_sparse_categorical_accuracy: 0.0288\n",
      "Epoch 16/20\n",
      "202/202 [==============================] - 3s 14ms/step - loss: 0.3144 - duration_loss: 0.0996 - pitch_loss: 3.6612 - step_loss: 0.0317 - duration_sparse_categorical_accuracy: 0.0000e+00 - pitch_sparse_categorical_accuracy: 0.0669 - step_sparse_categorical_accuracy: 0.0288\n",
      "Epoch 17/20\n",
      "202/202 [==============================] - 3s 14ms/step - loss: 0.3115 - duration_loss: 0.0972 - pitch_loss: 3.6638 - step_loss: 0.0311 - duration_sparse_categorical_accuracy: 0.0000e+00 - pitch_sparse_categorical_accuracy: 0.0678 - step_sparse_categorical_accuracy: 0.0288\n",
      "Epoch 18/20\n",
      "202/202 [==============================] - 3s 14ms/step - loss: 0.3066 - duration_loss: 0.0935 - pitch_loss: 3.6514 - step_loss: 0.0306 - duration_sparse_categorical_accuracy: 0.0000e+00 - pitch_sparse_categorical_accuracy: 0.0692 - step_sparse_categorical_accuracy: 0.0288\n",
      "Epoch 19/20\n",
      "202/202 [==============================] - 3s 14ms/step - loss: 0.3038 - duration_loss: 0.0912 - pitch_loss: 3.6497 - step_loss: 0.0301 - duration_sparse_categorical_accuracy: 0.0000e+00 - pitch_sparse_categorical_accuracy: 0.0692 - step_sparse_categorical_accuracy: 0.0288\n",
      "Epoch 20/20\n",
      "202/202 [==============================] - 3s 14ms/step - loss: 0.3038 - duration_loss: 0.0920 - pitch_loss: 3.6405 - step_loss: 0.0297 - duration_sparse_categorical_accuracy: 0.0000e+00 - pitch_sparse_categorical_accuracy: 0.0676 - step_sparse_categorical_accuracy: 0.0288\n"
     ]
    }
   ],
   "source": [
    "callbacks = [\n",
    "    tf.keras.callbacks.ModelCheckpoint(\n",
    "        filepath=\"./training_checkpoints/ckpt_{epoch}\",\n",
    "        save_weights_only=True\n",
    "    ),\n",
    "    tf.keras.callbacks.EarlyStopping(\n",
    "        monitor=\"loss\",\n",
    "        patience=5,\n",
    "        verbose=1,\n",
    "        restore_best_weights=True\n",
    "    )\n",
    "]\n",
    "\n",
    "epochs = 20\n",
    "\n",
    "history = model.fit(\n",
    "    train_ds,\n",
    "    epochs=epochs,\n",
    "    callbacks=callbacks\n",
    ")"
   ]
  },
  {
   "cell_type": "code",
   "execution_count": 102,
   "metadata": {},
   "outputs": [
    {
     "data": {
      "image/png": "[encoded data removed]",
      "text/plain": [
       "<Figure size 640x480 with 1 Axes>"
      ]
     },
     "metadata": {},
     "output_type": "display_data"
    }
   ],
   "source": [
    "plt.plot(history.epoch, history.history['loss'], label='total loss')\n",
    "plt.show()"
   ]
  },
  {
   "cell_type": "markdown",
   "metadata": {},
   "source": [
    "### Generate Notes\n",
    "\n",
    "First, you need to provide a starting sequence of notes\n",
    "The function below generates one note from a sequence of notes.\n",
    "\n",
    "Always picking the note with the highest probability would lead to repetitive sequences of notes being generated.\n",
    "\n",
    "The temperature parameter can be used to control the randomness of notes generated. "
   ]
  },
  {
   "cell_type": "code",
   "execution_count": 124,
   "metadata": {},
   "outputs": [],
   "source": [
    "def predict_next_note(\n",
    "        notes: np.ndarray,\n",
    "        model: tf.keras.Model,\n",
    "        temperature: float = 1.0) -> tuple[int, float, float]: # -> indicates what you return\n",
    "    \"\"\"Generates a note as a tuple of (pitch, step, duration), using a trained sequence model.\"\"\"\n",
    "    assert temperature > 0 \n",
    "    # Add batch dimension\n",
    "    inputs = tf.expand_dims(notes, axis=0)\n",
    "    predictions = model.predict(inputs)\n",
    "    pitch_logits = predictions[\"pitch\"] # It has 128 elements in a 2D array, i.e size/ shape (1, 128)\n",
    "    step = predictions[\"step\"] # shape (1,1)\n",
    "    duration = predictions[\"duration\"] # shape (1,1)\n",
    "    pitch_logits /= temperature # shape of pitch_logits (1, 128)\n",
    "    pitch = tf.random.categorical(pitch_logits, num_samples=1)\n",
    "    pitch = tf.squeeze(pitch, axis=-1)\n",
    "    # print(f\"pitch after squeezed{pitch}\")\n",
    "    duration = tf.squeeze(step, axis=-1)\n",
    "    step = tf.squeeze(step, axis=-1)\n",
    "\n",
    "    # \"step\" and \"duration\" values hould be non-negative\n",
    "    step = tf.maximum(0, step)\n",
    "    duration = tf.maximum(0, duration)\n",
    "    \n",
    "   \n",
    "    return int(pitch), float(step), float(duration)"
   ]
  },
  {
   "cell_type": "markdown",
   "metadata": {},
   "source": [
    "#### Now generate some notes. Play around with temperature and the starting seqeunce in next_notes"
   ]
  },
  {
   "cell_type": "code",
   "execution_count": 125,
   "metadata": {},
   "outputs": [
    {
     "name": "stdout",
     "output_type": "stream",
     "text": [
      "notes b4 expand (25, 3)\n",
      "notes after expand->inputs (1, 25, 3)\n",
      "1/1 [==============================] - 0s 17ms/step\n",
      "notes b4 expand (25, 3)\n",
      "notes after expand->inputs (1, 25, 3)\n",
      "1/1 [==============================] - 0s 11ms/step\n",
      "notes b4 expand (25, 3)\n",
      "notes after expand->inputs (1, 25, 3)\n",
      "1/1 [==============================] - 0s 13ms/step\n",
      "notes b4 expand (25, 3)\n",
      "notes after expand->inputs (1, 25, 3)\n",
      "1/1 [==============================] - 0s 12ms/step\n",
      "notes b4 expand (25, 3)\n",
      "notes after expand->inputs (1, 25, 3)\n",
      "1/1 [==============================] - 0s 10ms/step\n",
      "notes b4 expand (25, 3)\n",
      "notes after expand->inputs (1, 25, 3)\n",
      "1/1 [==============================] - 0s 11ms/step\n",
      "notes b4 expand (25, 3)\n",
      "notes after expand->inputs (1, 25, 3)\n",
      "1/1 [==============================] - 0s 12ms/step\n",
      "notes b4 expand (25, 3)\n",
      "notes after expand->inputs (1, 25, 3)\n",
      "1/1 [==============================] - 0s 11ms/step\n",
      "notes b4 expand (25, 3)\n",
      "notes after expand->inputs (1, 25, 3)\n",
      "1/1 [==============================] - 0s 10ms/step\n",
      "notes b4 expand (25, 3)\n",
      "notes after expand->inputs (1, 25, 3)\n",
      "1/1 [==============================] - 0s 10ms/step\n"
     ]
    }
   ],
   "source": [
    "temperature = 2.0\n",
    "# num_predictions = 120 # default\n",
    "num_predictions = 10\n",
    "\n",
    "sample_notes = np.stack([raw_notes[key] for key in key_order], axis=1)# sample_notes shape (5598, 3)\n",
    "# The initial sequence of notes; pitch is normalized similar to training sequences\n",
    "\n",
    "input_notes = (\n",
    "    sample_notes[:seq_length] / np.array([vocab_size, 1, 1]) # vocab size 128\n",
    ") #input_notes shape (25, 3)\n",
    "\n",
    "generated_notes = []\n",
    "prev_start = 0\n",
    "for _ in range(num_predictions):\n",
    "    pitch, step, duration = predict_next_note(input_notes, model, temperature)\n",
    "    start = prev_start + step\n",
    "    end = start + duration\n",
    "    input_note = (pitch, step, duration)\n",
    "    generated_notes.append((*input_note, start, end)) # * is to unpack iterables like a tuple \n",
    "    # print(\"generated_notes\",generated_notes)\n",
    "    input_notes = np.delete(input_notes, 0 , axis=0) # (array, index, axis 0 is row/ 1 is column) This code means you delete the first row in input_notes array\n",
    "    input_notes = np.append(input_notes, np.expand_dims(input_note, axis=0), axis=0)\n",
    "    prev_start = start\n",
    "\n",
    "generated_notes = pd.DataFrame(\n",
    "    generated_notes, columns=(*key_order, \"start\", \"end\")\n",
    ")"
   ]
  },
  {
   "cell_type": "code",
   "execution_count": null,
   "metadata": {},
   "outputs": [],
   "source": [
    "generated_notes.head(10)"
   ]
  },
  {
   "cell_type": "code",
   "execution_count": null,
   "metadata": {},
   "outputs": [],
   "source": [
    "out_file = \"output.mid\"\n",
    "out_pm = notes_to_midi(\n",
    "    generated_notes, out_file=out_file, instrument_name=instrument_name\n",
    ")\n",
    "display_audio(out_pm)"
   ]
  },
  {
   "cell_type": "code",
   "execution_count": null,
   "metadata": {},
   "outputs": [],
   "source": [
    "plot_piano_roll(generated_notes)"
   ]
  },
  {
   "cell_type": "markdown",
   "metadata": {},
   "source": [
    "#### <<<< Below, I think they are the code which I asked openAI to be useful for toto.mid file>>>>"
   ]
  },
  {
   "cell_type": "code",
   "execution_count": null,
   "metadata": {},
   "outputs": [],
   "source": [
    "# seed = 42\n",
    "# tf.random.set_seed(seed)\n",
    "# np.random.seed(seed)\n",
    "\n",
    "# # Sampling rate for audio playback\n",
    "# _SAMPLING_RATE = 16000\n",
    "\n",
    "\n",
    "# data_dir = pathlib.Path('/Volumes/MAGIC1/CS50/myMusicGen/data/toto.mid')\n",
    "# if not data_dir.exists():\n",
    "#   tf.keras.utils.get_file(\n",
    "#       'toto.mid',\n",
    "#       origin='https://www.midiworld.com/download/5024',\n",
    "#       extract=True,\n",
    "#       cache_dir='.', cache_subdir='data',\n",
    "#   )\n",
    "\n",
    "# #The data above contains 1200+ Midi files\n",
    "# filenames = str(data_dir)\n",
    "\n",
    "# #Process a MIDI file\n",
    "# sample_file = filenames\n",
    "# print(sample_file)\n",
    "# print(sample_file)\n",
    "\n",
    "# # generate a prettyMIDI object for the sample MIDI file\n",
    "# pm = pretty_midi.PrettyMIDI(sample_file)"
   ]
  },
  {
   "cell_type": "code",
   "execution_count": null,
   "metadata": {},
   "outputs": [],
   "source": [
    "# def midi_to_notes(midi_file: str) -> pd.DataFrame:\n",
    "#   pm = pretty_midi.PrettyMIDI(midi_file)\n",
    "#   notes = collections.defaultdict(list)\n",
    "\n",
    "#   instrument_names = []\n",
    "#   for instrument in pm.instruments:\n",
    "#     instrument_name = pretty_midi.program_to_instrument_name(instrument.program)\n",
    "#     instrument_names.append(instrument_name)\n",
    "#     # print(instrument_name)\n",
    "#     # Sort the notes by start time\n",
    "#     sorted_notes = sorted(instrument.notes, key=lambda note: note.start)\n",
    "#     prev_start = sorted_notes[0].start\n",
    "#     # print(sorted_notes)\n",
    "\n",
    "#     for note in sorted_notes:\n",
    "#         start = note.start\n",
    "#         end = note.end\n",
    "#         notes['pitch'].append(note.pitch)\n",
    "#         notes['start'].append(start)\n",
    "#         notes['end'].append(end)\n",
    "#         notes['step'].append(start - prev_start)\n",
    "#         notes['duration'].append(end - start)\n",
    "#         prev_start = start\n",
    "  \n",
    "#   return pd.DataFrame({name: np.array(value) for name, value in notes.items()}), instrument_names"
   ]
  },
  {
   "cell_type": "code",
   "execution_count": null,
   "metadata": {},
   "outputs": [],
   "source": [
    "# raw_notes, instrument_names_out = midi_to_notes(sample_file)\n",
    "# print(instrument_names_out)\n",
    "# raw_notes.head()\n"
   ]
  },
  {
   "cell_type": "code",
   "execution_count": null,
   "metadata": {},
   "outputs": [],
   "source": [
    "# def notes_to_midi(notes_df: pd.DataFrame, out_file: str, instrument_name: List[str]) -> pretty_midi.PrettyMIDI:\n",
    "#     # Create a new PrettyMIDI object\n",
    "#     pm = pretty_midi.PrettyMIDI()\n",
    "#     print(instrument_name)\n",
    "#     # Create a dictionary to store the instruments\n",
    "#     instruments = {}\n",
    "\n",
    "#     # Add notes to the corresponding instruments\n",
    "#     for index, row in notes_df.iterrows():\n",
    "#         pitch = int(row['pitch'])\n",
    "#         start = float(row['start'])\n",
    "#         end = float(row['end'])\n",
    "#         duration = float(row['duration'])\n",
    "#         step = float(row['step'])\n",
    "\n",
    "#         # Find the instrument index based on the step value\n",
    "#         instrument_index = int(index % len(instrument_name))\n",
    "\n",
    "#         if instrument_index in instruments:\n",
    "#             # If the instrument already exists, use it\n",
    "#             instrument = instruments[instrument_index]\n",
    "#         else:\n",
    "#             # Create a new instrument\n",
    "#             if instrument_index == 9:\n",
    "#                 # If it's a bass drum instrument, create a new drum instrument\n",
    "#                 instrument = pretty_midi.Instrument(program=0, is_drum=True)\n",
    "#             elif instrument_index == 10:\n",
    "#                 # If it's a snare drum instrument, create a new drum instrument\n",
    "#                 instrument = pretty_midi.Instrument(program=0, is_drum=True)\n",
    "#             elif instrument_index == 11:\n",
    "#                 # If it's a snare drum instrument, create a new drum instrument\n",
    "#                 instrument = pretty_midi.Instrument(program=0, is_drum=True)\n",
    "#             else:\n",
    "#                 # For non-drum instruments, create a new melody instrument\n",
    "#                 program = pretty_midi.instrument_name_to_program(instrument_name[instrument_index])\n",
    "#                 instrument = pretty_midi.Instrument(program=program)\n",
    "            \n",
    "#             # Store the instrument in the dictionary\n",
    "#             instruments[instrument_index] = instrument\n",
    "\n",
    "#         # Create a new note\n",
    "#         note = pretty_midi.Note(\n",
    "#             velocity=100, pitch=pitch, start=start, end=end\n",
    "#         )\n",
    "\n",
    "#         # Add the note to the instrument\n",
    "#         instrument.notes.append(note)\n",
    "\n",
    "#     # Add the instruments to the MIDI object\n",
    "#     for instrument in instruments.values():\n",
    "#         pm.instruments.append(instrument)\n",
    "\n",
    "#     # Write the MIDI object to a file\n",
    "#     pm.write(out_file)\n",
    "\n",
    "#     # Return the created PrettyMIDI object\n",
    "#     return pm\n"
   ]
  },
  {
   "cell_type": "code",
   "execution_count": null,
   "metadata": {},
   "outputs": [],
   "source": [
    "# \"\"\"How the map() works. You do not pass in an argument for filterOut2, \n",
    "# map() automatically dose so from data for you\"\"\"\n",
    "\n",
    "# data = [[1,2,3,5],[1,2,5,2],[3,5,2,8],[6,3,1,2],[5,3,2,5],[4,1,2,5] ]\n",
    "# def filterOut2(line):\n",
    "#     return [x for x in line if x !=2]\n",
    "\n",
    "# print(list(map(filterOut2, data)))"
   ]
  },
  {
   "cell_type": "code",
   "execution_count": null,
   "metadata": {},
   "outputs": [],
   "source": [
    "# How to use window\n",
    "# Source https://github.com/tensorflow/tensorflow/blob/v2.14.0/tensorflow/python/data/ops/dataset_ops.py#L2517-L2666\n",
    "# Referred also https://stackoverflow.com/questions/55429307/how-to-use-windows-created-by-the-dataset-window-method-in-tensorflow-2-0\n",
    "\n",
    "# dataset = tf.data.Dataset.from_tensor_slices(tf.range(10))\n",
    "# dataset = dataset.window(5, shift=1, drop_remainder=True)\n",
    "# for window in dataset:\n",
    "#     print(list(window.as_numpy_iterator()))\n",
    "# dataset = dataset.flat_map(lambda window: window.batch(5))\n",
    "# print(dataset)\n",
    "# dataset = dataset.map(lambda window: (window[:-1], window[-1:]))\n",
    "# print(dataset)\n",
    "\n",
    "# for X, y in dataset:\n",
    "#     print(\"Input:\", X.numpy(), \"Target:\", y.numpy())\n"
   ]
  },
  {
   "cell_type": "code",
   "execution_count": null,
   "metadata": {},
   "outputs": [],
   "source": [
    "#Simplify the split_labels function\n",
    "\n",
    "# sequences1 = [[\"Apple\", '222', \"333\"], [\"Egg\", \"444\", \"555\"], [\"Peach\", \"777\", \"888\"]]\n",
    "\n",
    "# inputs1 = sequences1[:-1]\n",
    "# print(\"inputs:\", inputs1)\n",
    "\n",
    "# labels_dense1 = sequences1[-1]\n",
    "# print(\"labels Dense:\", labels_dense1)\n",
    "\n",
    "# labels1 = {key:labels_dense1[i] for i, key in enumerate(key_order)} # the key_order is a global variable. \n",
    "# labels1 = {}\n",
    "# for i, key in enumerate(key_order):  \n",
    "#     labels1[key] = labels_dense1[i]\n",
    "#     print(labels1[key])\n",
    "\n",
    "\n",
    "# print(\"Compete labels:\" , labels1)"
   ]
  },
  {
   "cell_type": "code",
   "execution_count": null,
   "metadata": {},
   "outputs": [],
   "source": [
    "# dataset = tf.data.Dataset.range(5)\n",
    "# print(list(dataset.as_numpy_iterator()))\n",
    "# dataset = dataset.shuffle(buffer_size=64, reshuffle_each_iteration=True) # Official source code says \"For perfect shuffling, a buffer size greater than or equal to the full size of the dataset is required.\"\n",
    "# print(list(dataset.as_numpy_iterator()))\n",
    "# dataset = dataset.repeat(3)\n",
    "# print(list(dataset.as_numpy_iterator()))"
   ]
  },
  {
   "cell_type": "code",
   "execution_count": null,
   "metadata": {},
   "outputs": [],
   "source": [
    "# dataset = tf.data.Dataset.range(5)\n",
    "# dataset = dataset.prefetch(1)\n",
    "# list(dataset.as_numpy_iterator())"
   ]
  },
  {
   "cell_type": "code",
   "execution_count": null,
   "metadata": {},
   "outputs": [],
   "source": [
    "# callback = tf.keras.callbacks.EarlyStopping(monitor='loss', patience=2)\n",
    "# # This callback will stop the training when there is no improvement in\n",
    "# # the loss for three consecutive epochs.\n",
    "# model = tf.keras.models.Sequential([tf.keras.layers.Dense(10)])\n",
    "# model.compile(tf.keras.optimizers.SGD(), loss='mse')\n",
    "\n",
    "# history = model.fit(np.arange(100).reshape(5, 20), np.zeros(5),\n",
    "#                     epochs=10, batch_size=0, callbacks=[callback],\n",
    "#                     verbose=0)\n",
    "# model.summary()\n",
    "# len(history.history['loss'])"
   ]
  },
  {
   "cell_type": "code",
   "execution_count": null,
   "metadata": {},
   "outputs": [],
   "source": [
    "# https://stackoverflow.com/questions/52453285/drop-a-dimension-of-a-tensor-in-tensorflow\n",
    "# squeeze removes all the dimensions which size 1\n",
    "# a = tf.constant([[[1,2,3],[3,4,5]]])\n",
    "# print(a)\n",
    "# b = tf.squeeze(a)\n",
    "# print(b)\n",
    "\n",
    "# a = tf.constant([[1, 2], [2,3]]) # This is shape (2,2) which does not include size 1 dimension, so nothing is gonna change \n",
    "# print(a)\n",
    "# b = tf.squeeze(a)\n",
    "# print(b)\n",
    "\n"
   ]
  },
  {
   "cell_type": "code",
   "execution_count": null,
   "metadata": {},
   "outputs": [],
   "source": [
    "# How to count pitch_logits\n",
    "# place this under pitch_logits line, its len 128\n",
    "# counter = []\n",
    "#     for i in pitch_logits:\n",
    "#        counter.append(i)\n",
    "#     print(len(*counter))"
   ]
  }
 ],
 "metadata": {
  "kernelspec": {
   "display_name": "venv",
   "language": "python",
   "name": "python3"
  },
  "language_info": {
   "codemirror_mode": {
    "name": "ipython",
    "version": 3
   },
   "file_extension": ".py",
   "mimetype": "text/x-python",
   "name": "python",
   "nbconvert_exporter": "python",
   "pygments_lexer": "ipython3",
   "version": "3.9.6"
  },
  "orig_nbformat": 4
 },
 "nbformat": 4,
 "nbformat_minor": 2
}
