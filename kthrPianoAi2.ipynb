{
 "cells": [
  {
   "cell_type": "code",
   "execution_count": 62,
   "metadata": {},
   "outputs": [],
   "source": [
    "from IPython import display\n",
    "import IPython.display as ipd\n",
    "import collections\n",
    "import datetime\n",
    "# import fluidsynth\n",
    "from midi2audio import FluidSynth\n",
    "import glob\n",
    "import numpy as np\n",
    "import pathlib\n",
    "import pandas as pd\n",
    "from sklearn.preprocessing import OneHotEncoder\n",
    "from sklearn.model_selection import train_test_split\n",
    "import pretty_midi\n",
    "import seaborn as sns\n",
    "import tensorflow as tf\n",
    "\n",
    "from matplotlib import pyplot as plt\n",
    "from typing import Dict, List, Optional, Sequence, Tuple\n",
    "\n",
    "# Tomb added\n",
    "import random"
   ]
  },
  {
   "cell_type": "code",
   "execution_count": null,
   "metadata": {},
   "outputs": [],
   "source": [
    "#Download Chorales\n",
    "data_dir = pathlib.Path('/Volumes/MAGIC1/CS50/myMusicGen/data/chorales')\n",
    "if not data_dir.exists():\n",
    "  tf.keras.utils.get_file(\n",
    "      'midi',\n",
    "      origin='https://github.com/jamesrobertlloyd/infinite-bach/tree/master/data/chorales/midi',\n",
    "      extract=True,\n",
    "      cache_dir='.', cache_subdir='data',\n",
    "  )\n",
    "filenames = glob.glob(str(data_dir/'**/*.mid*'))\n",
    "print(filenames)\n",
    "print('Number of files:', len(filenames))"
   ]
  },
  {
   "cell_type": "code",
   "execution_count": 64,
   "metadata": {},
   "outputs": [],
   "source": [
    "class UnsupportedMidiFileException(Exception):\n",
    "  \"Unsupported MIDI File\""
   ]
  },
  {
   "cell_type": "code",
   "execution_count": 65,
   "metadata": {},
   "outputs": [],
   "source": [
    "\"\"\"Tomb made a pretty useful function\"\"\"\n",
    "def check_pianoroll_dim(pianoroll):\n",
    "        rows = len(pianoroll)  # This gives the number of rows\n",
    "        columns = len(pianoroll[0])  # This assumes all rows have the same length\n",
    "\n",
    "        print(\"Number of rows:\", rows) # represents sequence length\n",
    "        print(\"Number of columns:\", columns) # represents the 4 octave range in midi 36-83\n",
    "        print(\"Total dimesions of this pianoroll is\", rows*columns)"
   ]
  },
  {
   "cell_type": "code",
   "execution_count": 66,
   "metadata": {},
   "outputs": [],
   "source": [
    "def get_pianoroll(midi, nn_from, nn_thru, seqlen, tempo):\n",
    "    pianoroll = midi.get_piano_roll(fs=2*tempo/60) # This is the core line which makes this matrix based on 8th note\n",
    "    # print(f\"piano_roll.shape[1] a.k.a song length!{pianoroll.shape[1]}\")\n",
    "\n",
    "    if pianoroll.shape[1] < seqlen:\n",
    "        raise UnsupportedMidiFileException\n",
    "\n",
    "    pianoroll = pianoroll[nn_from:nn_thru, 0:seqlen] # (48, 64) Pinoroll's value still NOT binary since it has velocity\n",
    "    \n",
    "    binary_pianoroll = np.heaviside(pianoroll, 0) # converting as a binary matrix\n",
    "    transposed_pianoroll = np.transpose(binary_pianoroll) #(64, 48)\n",
    "    # transposed_pianoroll = np.transpose(pianoroll)\n",
    "    # return binary_pianoroll\n",
    "    return transposed_pianoroll # type numpy.ndarray"
   ]
  },
  {
   "cell_type": "code",
   "execution_count": 67,
   "metadata": {},
   "outputs": [],
   "source": [
    "def read_midi(filename, sop_alto, seqlen):\n",
    "  \n",
    "  def add_rest_nodes(pianoroll):  # If all the elemets are zero, the rest node says 1, else 0\n",
    "    rests = 1 - np.sum(pianoroll, axis=1)\n",
    "    rests = np.expand_dims(rests, 1)\n",
    "    return np.concatenate([pianoroll, rests], axis=1)\n",
    "  \n",
    "  \n",
    "  # read midi file\n",
    "  midi = pretty_midi.PrettyMIDI(filename)\n",
    "\n",
    "  # An Exception error is thrown if there is a modulation(key change)\n",
    "  if len(midi.key_signature_changes) !=1:\n",
    "    raise UnsupportedMidiFileException\n",
    "\n",
    "  # Modulate the given key to C major or C minor\n",
    "  key_number = midi.key_signature_changes[0].key_number\n",
    "  # transpose_to_c(midi, key_number)\n",
    "\n",
    "  # Get Major key(keynode=0) or Minor key(keynode=1)\n",
    "  keymode = np.array([int(key_number / 12)])\n",
    "\n",
    "  # The Exception error thrown when tempo changes\n",
    "  tempo_time, tempo = midi.get_tempo_changes()\n",
    "  if len(tempo) != 1:\n",
    "    raise UnsupportedMidiFileException\n",
    "  if sop_alto:\n",
    "    # The exception thrown if there are less than 2 parts\n",
    "    if len(midi.instruments) < 2:\n",
    "      raise UnsupportedMidiFileException\n",
    "    # Get pianoRoll returns numpy.ndarray\n",
    "    pr_s = get_pianoroll(midi.instruments[0], 36, 84, seqlen, tempo[0])\n",
    "    pr_a = get_pianoroll(midi.instruments[1], 36, 84, seqlen, tempo[0])\n",
    "    pr_b = get_pianoroll(midi.instruments[2], 36, 84, seqlen, tempo[0])\n",
    "    \n",
    "    \n",
    "    sop_w_rest = add_rest_nodes(pr_s) \n",
    "    alt_w_rest = add_rest_nodes(pr_a)\n",
    "    bass_w_rest = add_rest_nodes(pr_b)\n",
    "    \n",
    "    # return pr_s, pr_a, pr_b, keymode\n",
    "    return sop_w_rest, alt_w_rest, bass_w_rest, keymode # All numpy.ndarray including keymode  \n",
    "\n",
    "  else:\n",
    "    #Get a pianoroll which gathered all the parts\n",
    "    pr = get_pianoroll(midi, 36, 84, seqlen, tempo[0])\n",
    "    return pr, keymode"
   ]
  },
  {
   "cell_type": "code",
   "execution_count": 68,
   "metadata": {},
   "outputs": [
    {
     "name": "stdout",
     "output_type": "stream",
     "text": [
      "nah\n",
      "nah\n",
      "nah\n",
      "Number of files 498\n",
      "Number of rows: 1503810\n",
      "Number of columns: 2\n",
      "Total dimesions of this pianoroll is 3007620\n",
      "None\n"
     ]
    }
   ],
   "source": [
    "\"\"\"Get the ingredients. \n",
    "Make the data(i.e manipulate the model as you tell it what you want) here for predict the 3rd note with given (x1,x2). \n",
    "Make list1 that has (xn, xn+1) pair elements \n",
    "and list2 which has (xn+2) elements\"\"\"\n",
    "\n",
    "np.set_printoptions(threshold=np.inf) # Show the entire print, esp Matrix\n",
    "\n",
    "x_all = [] #(1503810, 2) Total dim is  3007620.\n",
    "y_all = [] # 1503810 Total dim is 1503810\n",
    "files = [] # Number of files 498 but for collected files, there are 3 files that SKIPPED so we'll only see 495 files. E.g (495, int, int)\n",
    "# keymodes = [] \n",
    "\n",
    "# n_notes = len(x_all) # 1488960. Not sure if it is correct\n",
    "# print(\"n_notes!\",n_notes)\n",
    "\n",
    "# repeat the process with all the midi files\n",
    "for file in glob.glob(str(data_dir/\"**/*.mid*\")):\n",
    "  files.append(file)\n",
    "  try:\n",
    "    # make a window to get sequence pairs (Xn, Xn+1) -> Xn+2\n",
    "    sop_data, alt_data, bass_data, keymode = read_midi(file, True, 64)\n",
    "    sop_data = np.transpose(sop_data) # Transposed because I wanted to access 64 elements to reduce to 62 otherwise 49 becomes 47\n",
    "    for song in sop_data: # sops_data shape (49, 64)\n",
    "      for i in range(len(song)-2): # range(0, 62)\n",
    "        input_sequence = song[i:i+2] # (Xn, Xn +1). print [0. 0.]  shape (2,)\n",
    "        output_target = song[i+2] # Xn + 2. print 0.0  shape ()\n",
    "        \n",
    "        x_all.append(input_sequence)\n",
    "        y_all.append(output_target)\n",
    "\n",
    "  # throw exception for midi data which can not be used\n",
    "  except UnsupportedMidiFileException:\n",
    "    print(\"nah\")\n",
    "\n",
    "print(\"Number of files\",len(files))\n",
    "print(check_pianoroll_dim(x_all))"
   ]
  },
  {
   "cell_type": "markdown",
   "metadata": {},
   "source": [
    "#### Data preparation\n",
    "-Convert to np.ndarray<br>\n",
    "-Extract train and test data<br>\n",
    "-Reshape(flatten) arrays to send to NNs<br>"
   ]
  },
  {
   "cell_type": "code",
   "execution_count": 148,
   "metadata": {},
   "outputs": [
    {
     "name": "stdout",
     "output_type": "stream",
     "text": [
      "x_train (751905, 2)\n",
      "y_train (751905,)\n",
      "x_train_reshaped (751905, 2, 1)\n",
      "y_train_reshaped (751905, 1)\n"
     ]
    }
   ],
   "source": [
    "input_data = np.array(x_all) # shape (1503810, 2) 1503810 = 495*62*49 <class 'numpy.ndarray'>\n",
    "output_data = np.array(y_all) # shape (1503810,)  <class 'numpy.ndarray'>\n",
    "\n",
    "i_train, i_test = train_test_split(range(len(input_data)),test_size=int(len(input_data)/2)) \n",
    "# i_train len751905 type<list>: Inside [1229502, 1119523, 845955..// i_test len751905 type<list>: Inside [66058, 610975, 887007..\n",
    "x_train = input_data[i_train] # <'numpy.ndarray'> shape (751905, 2) [[0. 0.]..  This operation extracts rows from input_data specified by the indices present in i_train.\n",
    "x_test = input_data[i_test] # <'numpy.ndarray'> shape (751905, 2) [[0. 0.].. For example, if i_train contains [0, 2, 4], input_data[i_train] will extract rows 0, 2, and 4 from input_data.\n",
    "\n",
    "y_train = output_data[i_train] # shape (751905,) [0. 0. 0. ..\n",
    "y_test = output_data[i_test] # shape (751905,) [0. 0. 0. ..\n",
    "\n",
    "\n",
    "# <<<reshape>>>\n",
    "x_train_reshaped = x_train.reshape(-1,2, 1)  # Reshape to sequences of 2 elements\n",
    "x_test_reshaped = x_test.reshape(-1, 2, 1)\n",
    "# Reshape y_train and y_test to match the output shape\n",
    "y_train_reshaped = y_train.reshape(-1, 1)  # Reshape to target for each sequence\n",
    "y_test_reshaped = y_test.reshape(-1, 1)\n",
    "\n",
    "print(\"x_train\",x_train.shape)\n",
    "print(\"y_train\",y_train.shape)\n",
    "print(\"x_train_reshaped\",x_train_reshaped.shape)\n",
    "print(\"y_train_reshaped\",y_train_reshaped.shape)"
   ]
  },
  {
   "cell_type": "code",
   "execution_count": 150,
   "metadata": {},
   "outputs": [],
   "source": [
    "# print(check_pianoroll_dim(x_train))\n",
    "# print(check_pianoroll_dim(y_train))\n",
    "seq_length = x_train.shape[1] #int 2 # How many sequences for input features\n",
    "each_step = 1 \n",
    "# print(pitch_range)\n",
    "# print(x_train[:10])"
   ]
  },
  {
   "cell_type": "code",
   "execution_count": 151,
   "metadata": {},
   "outputs": [
    {
     "name": "stdout",
     "output_type": "stream",
     "text": [
      "23498/23498 [==============================] - 11s 439us/step - loss: 0.6933 - accuracy: 0.9726\n"
     ]
    },
    {
     "data": {
      "text/plain": [
       "{'loss': 0.6932979822158813, 'accuracy': 0.9725643396377563}"
      ]
     },
     "execution_count": 151,
     "metadata": {},
     "output_type": "execute_result"
    }
   ],
   "source": [
    "# Create an LSTM model\n",
    "model = tf.keras.Sequential()\n",
    "model.add(tf.keras.layers.LSTM(units=64, input_shape=(seq_length, each_step)))  # Input shape corresponds to the reshaped data\n",
    "model.add(tf.keras.layers.Dense(each_step, activation='sigmoid'))  # Adjust the output units and activation based on your problem\n",
    "\n",
    "# Compile the model\n",
    "model.compile(optimizer='adam', loss='binary_crossentropy', metrics=['accuracy'])  # Adjust loss and metrics\n",
    "model.evaluate(x_train, y_train, return_dict=True)\n"
   ]
  },
  {
   "cell_type": "code",
   "execution_count": 152,
   "metadata": {},
   "outputs": [
    {
     "name": "stdout",
     "output_type": "stream",
     "text": [
      "Epoch 1/3\n",
      "23498/23498 [==============================] - 32s 1ms/step - loss: 0.0612 - accuracy: 0.9839 - val_loss: 0.0580 - val_accuracy: 0.9833\n",
      "Epoch 2/3\n",
      "23498/23498 [==============================] - 31s 1ms/step - loss: 0.0582 - accuracy: 0.9844 - val_loss: 0.0575 - val_accuracy: 0.9845\n",
      "Epoch 3/3\n",
      "23498/23498 [==============================] - 30s 1ms/step - loss: 0.0580 - accuracy: 0.9844 - val_loss: 0.0577 - val_accuracy: 0.9845\n"
     ]
    }
   ],
   "source": [
    "# Train the model\n",
    "\n",
    "callbacks = [tf.keras.callbacks.ModelCheckpoint(\n",
    "        filepath=\"./training_checkpoints/ckpt_{epoch}\",\n",
    "        save_weights_only=True\n",
    "    ),\n",
    "    tf.keras.callbacks.EarlyStopping(\n",
    "        monitor=\"loss\",\n",
    "        patience=5,\n",
    "        verbose=1,\n",
    "        restore_best_weights=True\n",
    "    )]\n",
    "\n",
    "epochs = 3\n",
    "batch_size = 32\n",
    "\n",
    "history = model.fit(\n",
    "    x_train, y_train, \n",
    "    batch_size=batch_size, \n",
    "    epochs=epochs, \n",
    "    callbacks=callbacks,\n",
    "    validation_data=(x_test, y_test))\n",
    "\n",
    "# model.fit(x_train, y_train, epochs=5, batch_size=32, validation_data=(x_test, y_test))"
   ]
  },
  {
   "cell_type": "code",
   "execution_count": 153,
   "metadata": {},
   "outputs": [
    {
     "data": {
      "image/png": "[encoded data removed]",
      "text/plain": [
       "<Figure size 640x480 with 1 Axes>"
      ]
     },
     "metadata": {},
     "output_type": "display_data"
    }
   ],
   "source": [
    "plt.plot(history.epoch, history.history['loss'], label='total loss')\n",
    "plt.show()"
   ]
  },
  {
   "cell_type": "code",
   "execution_count": null,
   "metadata": {},
   "outputs": [],
   "source": [
    "y_pred = model.predict(x_test)\n",
    "print(y_pred)"
   ]
  },
  {
   "cell_type": "code",
   "execution_count": 167,
   "metadata": {},
   "outputs": [],
   "source": [
    "_SAMPLING_RATE = 16000\n",
    "# make a fucntion to be able to do so\n",
    "def show_and_play_midi(pianorolls, filename):\n",
    "  def make_midi(pianorolls, filename):\n",
    "      midi = pretty_midi.PrettyMIDI(resolution=480)\n",
    "      for pianoroll in pianorolls:\n",
    "        instr = pretty_midi.Instrument(program=1)\n",
    "        for i in range(pianoroll.shape[0]):\n",
    "          for j in range(pianoroll.shape[1]):\n",
    "              # When the value of each element of the pianoroll binary matrix is ​​greater than 0.5,\n",
    "              # insert a note of that pitch at that time\n",
    "              if pianoroll[i][j] > 0.5:\n",
    "                instr.notes.append(pretty_midi.Note(start=0.50*i,\n",
    "                                                      end=0.50*(i+1),\n",
    "                                                      pitch=36+j,\n",
    "                                                  velocity=100))\n",
    "        midi.instruments.append(instr)\n",
    "      midi.write(filename)\n",
    "\n",
    "\n",
    "  for pr in pianorolls:\n",
    "    plt.matshow(np.transpose(pr))\n",
    "    plt.show()\n",
    "\n",
    "  # Save the midi data into a file, the file name is given in the next cell as output.midi\n",
    "  make_midi(pianorolls, filename)\n",
    "\n",
    "  # Convert MIDI to Wav so that you can listen to it on web browser\n",
    "  fs = FluidSynth(sound_font=\"/usr/share/sounds/sf2/FluidR3_GM.sf2\")\n",
    "  fs.midi_to_audio(\"/data/output.mid\", \"output.wav\")\n",
    "\n",
    "  ipd.display(ipd.Audio(r\"data/output.wav\", rate=16000))"
   ]
  },
  {
   "cell_type": "code",
   "execution_count": null,
   "metadata": {},
   "outputs": [],
   "source": [
    "\n",
    "\n",
    "k = random.randint(0, len(x_test))\n",
    "\n",
    "show_and_play_midi(y_pred[k, 0:-1],\n",
    "\"output.mid\")"
   ]
  },
  {
   "cell_type": "markdown",
   "metadata": {},
   "source": [
    "### Unused Code Below>>>"
   ]
  },
  {
   "cell_type": "code",
   "execution_count": 197,
   "metadata": {},
   "outputs": [],
   "source": [
    "def predict_next_note(\n",
    "        notes: np.ndarray,\n",
    "        model: tf.keras.Model,\n",
    "        temperature: float = 1.0) -> tuple[int]: # -> indicates what you return\n",
    "    \"\"\"Generates a note, using a trained sequence model.\"\"\"\n",
    "    assert temperature > 0 \n",
    "    # Add batch dimension\n",
    "    # inputs = tf.expand_dims(notes, 0)\n",
    "    predictions = model.predict(notes) # predictions (2,1) \n",
    "    # print(\"predictions\",predictions)\n",
    "    # note_logits = predictions[1]\n",
    "    note_logits = predictions # should be a 2D tensor for random.categoriacal's 1st arg by accessing the [1]. note_logits (64, 49)\n",
    "    # print(note_logits.shape)\n",
    "    note_logits /= temperature\n",
    "    # print(\"note_logits\", note_logits.shape)\n",
    "    pitch = tf.random.categorical(note_logits, num_samples=1) #random.categorical requires 2D tensor for logits\n",
    "    # print(\"categorical pitch\",pitch)\n",
    "    pitch = tf.squeeze(pitch, axis=-1)\n",
    "    # print(f\"pitch after squeezed{pitch}\")\n",
    "    \n",
    "    print(\"pitch\",pitch)\n",
    "    return pitch # shape (64,)"
   ]
  },
  {
   "cell_type": "code",
   "execution_count": null,
   "metadata": {},
   "outputs": [],
   "source": [
    "temperature = 2.0\n",
    "# input_notes = x_test[:seq_length]\n",
    "input_notes = x_test # shape (751905, 2)\n",
    "# print(y_test.shape)\n",
    "\n",
    "generated_notes = predict_next_note(input_notes, model, temperature)\n",
    "\n",
    "generated_notes = pd.DataFrame(\n",
    "    generated_notes\n",
    ")\n",
    "generated_notes.columns = [\"pitch\"] # Give the label to the column to access it\n",
    "generated_notes.head(10) # Using slice due to the huge data\n",
    "print(generated_notes[:1])"
   ]
  },
  {
   "cell_type": "code",
   "execution_count": 193,
   "metadata": {},
   "outputs": [],
   "source": [
    "_SAMPLING_RATE = 16000\n",
    "def display_audio(pm: pretty_midi.PrettyMIDI, seconds=40):\n",
    "    waveform = pm.fluidsynth(fs=float(_SAMPLING_RATE))\n",
    "    # Take a sample of the generated waveform to mitigate kernel resets\n",
    "    waveform_short = waveform[:seconds*_SAMPLING_RATE]\n",
    "    return display.Audio(waveform_short, rate=_SAMPLING_RATE) # this display class is from IPython"
   ]
  },
  {
   "cell_type": "code",
   "execution_count": 194,
   "metadata": {},
   "outputs": [],
   "source": [
    "def pandas_to_midi(notes:pd.DataFrame):\n",
    "    data = notes[\"pitch\"]\n",
    "    df = pd.DataFrame(data)\n",
    "\n",
    "    # Convert pitch values to MIDI notes\n",
    "    notes = df['pitch'].tolist()\n",
    "    pm = pretty_midi.PrettyMIDI()\n",
    "    instrument = pretty_midi.Instrument(program=0)\n",
    "\n",
    "    # Add notes to the MIDI object\n",
    "    for i, note in enumerate(notes):\n",
    "        note_start = i * 0.5  # Adjust the start time as needed\n",
    "        note_end = note_start + 0.4  # Adjust the end time as needed. Make + 1.4 you can hear pedal-sustain like notes\n",
    "        midi_note = pretty_midi.Note(velocity=100, pitch=note, start=note_start, end=note_end)\n",
    "        instrument.notes.append(midi_note)\n",
    "\n",
    "    pm.instruments.append(instrument)\n",
    "    \n",
    "    return pm"
   ]
  },
  {
   "cell_type": "code",
   "execution_count": null,
   "metadata": {},
   "outputs": [],
   "source": [
    "pm = pandas_to_midi(generated_notes)\n",
    "\n",
    "# Display audio using your function\n",
    "display_audio(pm)\n"
   ]
  },
  {
   "cell_type": "code",
   "execution_count": null,
   "metadata": {},
   "outputs": [
    {
     "data": {
      "text/plain": [
       "'faled model'"
      ]
     },
     "execution_count": 28,
     "metadata": {},
     "output_type": "execute_result"
    }
   ],
   "source": [
    "\"\"\"faled model\"\"\"\n",
    "# # Assuming the shapes you've provided: x_train, x_test, y_train, y_test\n",
    "\n",
    "# # Create an LSTM model\n",
    "# model = tf.keras.Sequential()\n",
    "\n",
    "# # Add an LSTM layer\n",
    "# model.add(tf.keras.layers.LSTM(units=64, input_shape=(2, 1)))  # LSTM units can be adjusted based on the complexity of the problem\n",
    "\n",
    "# # Add a dense layer for output\n",
    "# model.add(tf.keras.layers.Dense(1, activation='softmax'))  # Adjust the output shape based on your targets\n",
    "\n",
    "# # Compile the model\n",
    "# model.compile(optimizer='adam', loss='categorical_crossentropy', metrics=['accuracy'])\n",
    "# model.evaluate(x_train, y_train, return_dict=True)\n",
    "\n",
    "# # Train the model\n",
    "# model.fit(x_train, y_train, epochs=100, batch_size=32, validation_data=(x_test, y_test))\n",
    "\n"
   ]
  },
  {
   "cell_type": "code",
   "execution_count": null,
   "metadata": {},
   "outputs": [],
   "source": [
    "# seq_length = x_train.shape[1] # 2 -> 時系列の長さ(時間方向の要素数)\n",
    "# input_dim = x_train.shape[2] # 64 -> 入力の各要素の次元数\n",
    "# output_dim = y_train.shape[2] # 47-> 出力の各要素の次元数"
   ]
  },
  {
   "cell_type": "code",
   "execution_count": null,
   "metadata": {},
   "outputs": [],
   "source": [
    "# \"\"\"get inputs (Xn, Xn+1) and target (Xn+2) \"\"\"\n",
    "# def make_sequences(\n",
    "#         dataset: tf.data.Dataset,\n",
    "#         seq_length:int,\n",
    "# ) -> tf.data.Dataset:\n",
    "    \n",
    "#     seq_length = seq_length+1\n",
    "\n",
    "#     windows = dataset.window(seq_length, shift=1, stride=1, drop_remainder=True)\n",
    "#     # for w in windows:\n",
    "#     #    print(f\"window!! {list(w.as_numpy_iterator())}\")\n",
    "    \n",
    "#     flatten = lambda x: x.batch(seq_length, drop_remainder=True) # Assing lambda function to the variable \"flatten\"\n",
    "#     sequences = windows.flat_map(flatten) # Flat_map falltens the \"dataset of datasets\" into a dataset of tensors\n",
    "\n",
    "#     def split_labels(sequences):\n",
    "#         inputs = sequences[:-1] # Could not see the inside as this func got in through map_func\n",
    "#         output_dense = sequences[-1]\n",
    "#         return inputs, output_dense\n",
    "    \n",
    "#     return sequences.map(split_labels, num_parallel_calls=tf.data.AUTOTUNE)"
   ]
  },
  {
   "cell_type": "code",
   "execution_count": null,
   "metadata": {},
   "outputs": [],
   "source": [
    "# sop_tf_data = [] #  A list which contains (64 ,49) tf.daset elements\n",
    "# sop, alt, bass, keymode = read_midi(f, True, 64)\n",
    "# # sop = sop[0]\n",
    "# # sop_tf = tf.data.Dataset.from_tensor_slices(sop)\n",
    "# # print(list(sop_tf.as_numpy_iterator()))\n",
    "\n",
    "# for i in sop:\n",
    "#     sop_tf = tf.data.Dataset.from_tensor_slices(i)\n",
    "#     sop_tf_data.append(sop_tf)\n",
    "\n",
    "# # for t in sop_tf_data:\n",
    "#     # print(list(t.as_numpy_iterator()))\n"
   ]
  },
  {
   "cell_type": "code",
   "execution_count": null,
   "metadata": {},
   "outputs": [],
   "source": [
    "# single_sop_tf = sop_tf_data[0]\n",
    "# seq_length = 2\n",
    "# # print(make_sequences(single_sop_tf, seq_length))\n",
    "\n",
    "# seq_ds = make_sequences(single_sop_tf, seq_length) # 47 elements each input n output\n",
    "# # type <'tensorflow _ParallelMapDataset'>\n",
    "# # print(seq_ds.element_spec)\n",
    "# # print(list(seq_ds.as_numpy_iterator())) # [(array([0., 0.]), 0.0), (array([0., 0.]), 0.0)...\n",
    "\n",
    "\n",
    "# inputList = []\n",
    "# targetList = []\n",
    "\n",
    "# #<Check the dataset elements>\n",
    "# for seq, target in seq_ds:\n",
    "#   # print('Input sequence shape:', seq.shape) # shape (2,), a one-dimensional array (vector) with a length of 2.\n",
    "#   # print('Input sequence elements:', seq[0: 1]) \n",
    "#   # print('target:', target) # shape ()\n",
    "#   # print()\n",
    "#   inputList.append(seq) # <class 'list'>\n",
    "#   targetList.append(target) # <class 'list'>\n",
    "\n",
    "# inputList = np.array(inputList) # <class 'numpy.ndarray'>. shape (47, 2), 2D matrix\n",
    "# targetList = np.array(targetList) # <class 'numpy.ndarray'> shape (47,), 1D scalar"
   ]
  }
 ],
 "metadata": {
  "kernelspec": {
   "display_name": "venv",
   "language": "python",
   "name": "python3"
  },
  "language_info": {
   "codemirror_mode": {
    "name": "ipython",
    "version": 3
   },
   "file_extension": ".py",
   "mimetype": "text/x-python",
   "name": "python",
   "nbconvert_exporter": "python",
   "pygments_lexer": "ipython3",
   "version": "3.9.6"
  }
 },
 "nbformat": 4,
 "nbformat_minor": 2
}
