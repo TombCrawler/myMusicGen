{
 "cells": [
  {
   "cell_type": "code",
   "execution_count": 1,
   "metadata": {},
   "outputs": [],
   "source": [
    "from IPython import display\n",
    "import collections\n",
    "import datetime\n",
    "import fluidsynth\n",
    "import glob\n",
    "import numpy as np\n",
    "import pathlib\n",
    "import pandas as pd\n",
    "from sklearn.preprocessing import OneHotEncoder\n",
    "from sklearn.model_selection import train_test_split\n",
    "import pretty_midi\n",
    "import seaborn as sns\n",
    "import tensorflow as tf\n",
    "\n",
    "from matplotlib import pyplot as plt\n",
    "from typing import Dict, List, Optional, Sequence, Tuple\n",
    "\n",
    "# Tomb added\n",
    "import random"
   ]
  },
  {
   "cell_type": "code",
   "execution_count": 2,
   "metadata": {},
   "outputs": [
    {
     "name": "stdout",
     "output_type": "stream",
     "text": [
      "['/Volumes/MAGIC1/CS50/myMusicGen/data/chorales/midi/000101b_.mid', '/Volumes/MAGIC1/CS50/myMusicGen/data/chorales/midi/000106b_.mid', '/Volumes/MAGIC1/CS50/myMusicGen/data/chorales/midi/000106trio.mid', '/Volumes/MAGIC1/CS50/myMusicGen/data/chorales/midi/000206b_.mid', '/Volumes/MAGIC1/CS50/myMusicGen/data/chorales/midi/000306b_.mid', '/Volumes/MAGIC1/CS50/myMusicGen/data/chorales/midi/000408b_.mid', '/Volumes/MAGIC1/CS50/myMusicGen/data/chorales/midi/000504b_.mid', '/Volumes/MAGIC1/CS50/myMusicGen/data/chorales/midi/000507b_.mid', '/Volumes/MAGIC1/CS50/myMusicGen/data/chorales/midi/000603b_.mid', '/Volumes/MAGIC1/CS50/myMusicGen/data/chorales/midi/000606b_.mid', '/Volumes/MAGIC1/CS50/myMusicGen/data/chorales/midi/000707b_.mid', '/Volumes/MAGIC1/CS50/myMusicGen/data/chorales/midi/000806b_.mid', '/Volumes/MAGIC1/CS50/myMusicGen/data/chorales/midi/000907b_.mid', '/Volumes/MAGIC1/CS50/myMusicGen/data/chorales/midi/001007b_.mid', '/Volumes/MAGIC1/CS50/myMusicGen/data/chorales/midi/001106b_.mid', '/Volumes/MAGIC1/CS50/myMusicGen/data/chorales/midi/001207b_.mid', '/Volumes/MAGIC1/CS50/myMusicGen/data/chorales/midi/001306b_.mid', '/Volumes/MAGIC1/CS50/myMusicGen/data/chorales/midi/001405b_.mid', '/Volumes/MAGIC1/CS50/myMusicGen/data/chorales/midi/001606b_.mid', '/Volumes/MAGIC1/CS50/myMusicGen/data/chorales/midi/001707b_.mid', '/Volumes/MAGIC1/CS50/myMusicGen/data/chorales/midi/001805blz.mid', '/Volumes/MAGIC1/CS50/myMusicGen/data/chorales/midi/001805bw.mid', '/Volumes/MAGIC1/CS50/myMusicGen/data/chorales/midi/001907b_.mid', '/Volumes/MAGIC1/CS50/myMusicGen/data/chorales/midi/001907ch.mid', '/Volumes/MAGIC1/CS50/myMusicGen/data/chorales/midi/002007b_.mid', '/Volumes/MAGIC1/CS50/myMusicGen/data/chorales/midi/002011b_.mid', '/Volumes/MAGIC1/CS50/myMusicGen/data/chorales/midi/002406b_.mid', '/Volumes/MAGIC1/CS50/myMusicGen/data/chorales/midi/002506b_.mid', '/Volumes/MAGIC1/CS50/myMusicGen/data/chorales/midi/002606b_.mid', '/Volumes/MAGIC1/CS50/myMusicGen/data/chorales/midi/002706b_.mid', '/Volumes/MAGIC1/CS50/myMusicGen/data/chorales/midi/002806b_.mid', '/Volumes/MAGIC1/CS50/myMusicGen/data/chorales/midi/002908b_.mid', '/Volumes/MAGIC1/CS50/myMusicGen/data/chorales/midi/002908ch.mid', '/Volumes/MAGIC1/CS50/myMusicGen/data/chorales/midi/003006b_.mid', '/Volumes/MAGIC1/CS50/myMusicGen/data/chorales/midi/003109b_.mid', '/Volumes/MAGIC1/CS50/myMusicGen/data/chorales/midi/003206b_.mid', '/Volumes/MAGIC1/CS50/myMusicGen/data/chorales/midi/003306b_.mid', '/Volumes/MAGIC1/CS50/myMusicGen/data/chorales/midi/003604b2.mid', '/Volumes/MAGIC1/CS50/myMusicGen/data/chorales/midi/003608b2.mid', '/Volumes/MAGIC1/CS50/myMusicGen/data/chorales/midi/003706b_.mid', '/Volumes/MAGIC1/CS50/myMusicGen/data/chorales/midi/003806b_.mid', '/Volumes/MAGIC1/CS50/myMusicGen/data/chorales/midi/003907b_.mid', '/Volumes/MAGIC1/CS50/myMusicGen/data/chorales/midi/004003b_.mid', '/Volumes/MAGIC1/CS50/myMusicGen/data/chorales/midi/004006b_.mid', '/Volumes/MAGIC1/CS50/myMusicGen/data/chorales/midi/004008b_.mid', '/Volumes/MAGIC1/CS50/myMusicGen/data/chorales/midi/004106b_.mid', '/Volumes/MAGIC1/CS50/myMusicGen/data/chorales/midi/004106bs.mid', '/Volumes/MAGIC1/CS50/myMusicGen/data/chorales/midi/004207b_.mid', '/Volumes/MAGIC1/CS50/myMusicGen/data/chorales/midi/004311b_.mid', '/Volumes/MAGIC1/CS50/myMusicGen/data/chorales/midi/004407b_.mid', '/Volumes/MAGIC1/CS50/myMusicGen/data/chorales/midi/004507b_.mid', '/Volumes/MAGIC1/CS50/myMusicGen/data/chorales/midi/004606b_.mid', '/Volumes/MAGIC1/CS50/myMusicGen/data/chorales/midi/004606bs.mid', '/Volumes/MAGIC1/CS50/myMusicGen/data/chorales/midi/004705b_.mid', '/Volumes/MAGIC1/CS50/myMusicGen/data/chorales/midi/004803b_.mid', '/Volumes/MAGIC1/CS50/myMusicGen/data/chorales/midi/004807b_.mid', '/Volumes/MAGIC1/CS50/myMusicGen/data/chorales/midi/005206b_.mid', '/Volumes/MAGIC1/CS50/myMusicGen/data/chorales/midi/005505b_.mid', '/Volumes/MAGIC1/CS50/myMusicGen/data/chorales/midi/005605b_.mid', '/Volumes/MAGIC1/CS50/myMusicGen/data/chorales/midi/005708b_.mid', '/Volumes/MAGIC1/CS50/myMusicGen/data/chorales/midi/005903b_.mid', '/Volumes/MAGIC1/CS50/myMusicGen/data/chorales/midi/006005b_.mid', '/Volumes/MAGIC1/CS50/myMusicGen/data/chorales/midi/006106b_.mid', '/Volumes/MAGIC1/CS50/myMusicGen/data/chorales/midi/006206b_.mid', '/Volumes/MAGIC1/CS50/myMusicGen/data/chorales/midi/006402b_.mid', '/Volumes/MAGIC1/CS50/myMusicGen/data/chorales/midi/006404b_.mid', '/Volumes/MAGIC1/CS50/myMusicGen/data/chorales/midi/006408b_.mid', '/Volumes/MAGIC1/CS50/myMusicGen/data/chorales/midi/006502b_.mid', '/Volumes/MAGIC1/CS50/myMusicGen/data/chorales/midi/006507b_.mid', '/Volumes/MAGIC1/CS50/myMusicGen/data/chorales/midi/006606b_.mid', '/Volumes/MAGIC1/CS50/myMusicGen/data/chorales/midi/006704b_.mid', '/Volumes/MAGIC1/CS50/myMusicGen/data/chorales/midi/006707b_.mid', '/Volumes/MAGIC1/CS50/myMusicGen/data/chorales/midi/006906b_.mid', '/Volumes/MAGIC1/CS50/myMusicGen/data/chorales/midi/006906ba.mid', '/Volumes/MAGIC1/CS50/myMusicGen/data/chorales/midi/007007b_.mid', '/Volumes/MAGIC1/CS50/myMusicGen/data/chorales/midi/007011b_.mid', '/Volumes/MAGIC1/CS50/myMusicGen/data/chorales/midi/007011ch.mid', '/Volumes/MAGIC1/CS50/myMusicGen/data/chorales/midi/007206b_.mid', '/Volumes/MAGIC1/CS50/myMusicGen/data/chorales/midi/007305b_.mid', '/Volumes/MAGIC1/CS50/myMusicGen/data/chorales/midi/007408b_.mid', '/Volumes/MAGIC1/CS50/myMusicGen/data/chorales/midi/007507b_.mid', '/Volumes/MAGIC1/CS50/myMusicGen/data/chorales/midi/007514b_.mid', '/Volumes/MAGIC1/CS50/myMusicGen/data/chorales/midi/007607b_.mid', '/Volumes/MAGIC1/CS50/myMusicGen/data/chorales/midi/007614b_.mid', '/Volumes/MAGIC1/CS50/myMusicGen/data/chorales/midi/007706b_.mid', '/Volumes/MAGIC1/CS50/myMusicGen/data/chorales/midi/007807b_.mid', '/Volumes/MAGIC1/CS50/myMusicGen/data/chorales/midi/007903b_.mid', '/Volumes/MAGIC1/CS50/myMusicGen/data/chorales/midi/007903bs.mid', '/Volumes/MAGIC1/CS50/myMusicGen/data/chorales/midi/007906b_.mid', '/Volumes/MAGIC1/CS50/myMusicGen/data/chorales/midi/008008b_.mid', '/Volumes/MAGIC1/CS50/myMusicGen/data/chorales/midi/008107b_.mid', '/Volumes/MAGIC1/CS50/myMusicGen/data/chorales/midi/008305b_.mid', '/Volumes/MAGIC1/CS50/myMusicGen/data/chorales/midi/008405b_.mid', '/Volumes/MAGIC1/CS50/myMusicGen/data/chorales/midi/008506b_.mid', '/Volumes/MAGIC1/CS50/myMusicGen/data/chorales/midi/008606b_.mid', '/Volumes/MAGIC1/CS50/myMusicGen/data/chorales/midi/008707b_.mid', '/Volumes/MAGIC1/CS50/myMusicGen/data/chorales/midi/008807b_.mid', '/Volumes/MAGIC1/CS50/myMusicGen/data/chorales/midi/008906b_.mid', '/Volumes/MAGIC1/CS50/myMusicGen/data/chorales/midi/009005b_.mid', '/Volumes/MAGIC1/CS50/myMusicGen/data/chorales/midi/009106b_.mid', '/Volumes/MAGIC1/CS50/myMusicGen/data/chorales/midi/009106ch.mid', '/Volumes/MAGIC1/CS50/myMusicGen/data/chorales/midi/009207b_.mid', '/Volumes/MAGIC1/CS50/myMusicGen/data/chorales/midi/009209b_.mid', '/Volumes/MAGIC1/CS50/myMusicGen/data/chorales/midi/009307b_.mid', '/Volumes/MAGIC1/CS50/myMusicGen/data/chorales/midi/009408b_.mid', '/Volumes/MAGIC1/CS50/myMusicGen/data/chorales/midi/009507b_.mid', '/Volumes/MAGIC1/CS50/myMusicGen/data/chorales/midi/009606b_.mid', '/Volumes/MAGIC1/CS50/myMusicGen/data/chorales/midi/009709b_.mid', '/Volumes/MAGIC1/CS50/myMusicGen/data/chorales/midi/009709ch.mid', '/Volumes/MAGIC1/CS50/myMusicGen/data/chorales/midi/009801b_.mid', '/Volumes/MAGIC1/CS50/myMusicGen/data/chorales/midi/009906b_.mid', '/Volumes/MAGIC1/CS50/myMusicGen/data/chorales/midi/010006b_.mid', '/Volumes/MAGIC1/CS50/myMusicGen/data/chorales/midi/010107b_.mid', '/Volumes/MAGIC1/CS50/myMusicGen/data/chorales/midi/010207b_.mid', '/Volumes/MAGIC1/CS50/myMusicGen/data/chorales/midi/010306b_.mid', '/Volumes/MAGIC1/CS50/myMusicGen/data/chorales/midi/010406b_.mid', '/Volumes/MAGIC1/CS50/myMusicGen/data/chorales/midi/010506b_.mid', '/Volumes/MAGIC1/CS50/myMusicGen/data/chorales/midi/010602b_.mid', '/Volumes/MAGIC1/CS50/myMusicGen/data/chorales/midi/010707b_.mid', '/Volumes/MAGIC1/CS50/myMusicGen/data/chorales/midi/010806b_.mid', '/Volumes/MAGIC1/CS50/myMusicGen/data/chorales/midi/011007b_.mid', '/Volumes/MAGIC1/CS50/myMusicGen/data/chorales/midi/011106b_.mid', '/Volumes/MAGIC1/CS50/myMusicGen/data/chorales/midi/011205b_.mid', '/Volumes/MAGIC1/CS50/myMusicGen/data/chorales/midi/011308b_.mid', '/Volumes/MAGIC1/CS50/myMusicGen/data/chorales/midi/011407b_.mid', '/Volumes/MAGIC1/CS50/myMusicGen/data/chorales/midi/011506b_.mid', '/Volumes/MAGIC1/CS50/myMusicGen/data/chorales/midi/011606b_.mid', '/Volumes/MAGIC1/CS50/myMusicGen/data/chorales/midi/011704b_.mid', '/Volumes/MAGIC1/CS50/myMusicGen/data/chorales/midi/011709b_.mid', '/Volumes/MAGIC1/CS50/myMusicGen/data/chorales/midi/011909b_.mid', '/Volumes/MAGIC1/CS50/myMusicGen/data/chorales/midi/012006b_.mid', '/Volumes/MAGIC1/CS50/myMusicGen/data/chorales/midi/012008ba.mid', '/Volumes/MAGIC1/CS50/myMusicGen/data/chorales/midi/012106b_.mid', '/Volumes/MAGIC1/CS50/myMusicGen/data/chorales/midi/012206b_.mid', '/Volumes/MAGIC1/CS50/myMusicGen/data/chorales/midi/012306b_.mid', '/Volumes/MAGIC1/CS50/myMusicGen/data/chorales/midi/012406b_.mid', '/Volumes/MAGIC1/CS50/myMusicGen/data/chorales/midi/012506b_.mid', '/Volumes/MAGIC1/CS50/myMusicGen/data/chorales/midi/012606b_.mid', '/Volumes/MAGIC1/CS50/myMusicGen/data/chorales/midi/012705b_.mid', '/Volumes/MAGIC1/CS50/myMusicGen/data/chorales/midi/012805b_.mid', '/Volumes/MAGIC1/CS50/myMusicGen/data/chorales/midi/012905b_.mid', '/Volumes/MAGIC1/CS50/myMusicGen/data/chorales/midi/013006b_.mid', '/Volumes/MAGIC1/CS50/myMusicGen/data/chorales/midi/013306b_.mid', '/Volumes/MAGIC1/CS50/myMusicGen/data/chorales/midi/013506b_.mid', '/Volumes/MAGIC1/CS50/myMusicGen/data/chorales/midi/013606b_.mid', '/Volumes/MAGIC1/CS50/myMusicGen/data/chorales/midi/013701b_.mid', '/Volumes/MAGIC1/CS50/myMusicGen/data/chorales/midi/013702b_.mid', '/Volumes/MAGIC1/CS50/myMusicGen/data/chorales/midi/013703b_.mid', '/Volumes/MAGIC1/CS50/myMusicGen/data/chorales/midi/013704b_.mid', '/Volumes/MAGIC1/CS50/myMusicGen/data/chorales/midi/013705b_.mid', '/Volumes/MAGIC1/CS50/myMusicGen/data/chorales/midi/013705ch.mid', '/Volumes/MAGIC1/CS50/myMusicGen/data/chorales/midi/013806b_.mid', '/Volumes/MAGIC1/CS50/myMusicGen/data/chorales/midi/013906b_.mid', '/Volumes/MAGIC1/CS50/myMusicGen/data/chorales/midi/014001b_.mid', '/Volumes/MAGIC1/CS50/myMusicGen/data/chorales/midi/014004b_.mid', '/Volumes/MAGIC1/CS50/myMusicGen/data/chorales/midi/014007b_.mid', '/Volumes/MAGIC1/CS50/myMusicGen/data/chorales/midi/014403b_.mid', '/Volumes/MAGIC1/CS50/myMusicGen/data/chorales/midi/014406b_.mid', '/Volumes/MAGIC1/CS50/myMusicGen/data/chorales/midi/014500ba.mid', '/Volumes/MAGIC1/CS50/myMusicGen/data/chorales/midi/014505b_.mid', '/Volumes/MAGIC1/CS50/myMusicGen/data/chorales/midi/014608b_.mid', '/Volumes/MAGIC1/CS50/myMusicGen/data/chorales/midi/014706b_.mid', '/Volumes/MAGIC1/CS50/myMusicGen/data/chorales/midi/014710b_.mid', '/Volumes/MAGIC1/CS50/myMusicGen/data/chorales/midi/014806b_.mid', '/Volumes/MAGIC1/CS50/myMusicGen/data/chorales/midi/014907b_.mid', '/Volumes/MAGIC1/CS50/myMusicGen/data/chorales/midi/014907ch.mid', '/Volumes/MAGIC1/CS50/myMusicGen/data/chorales/midi/015105b_.mid', '/Volumes/MAGIC1/CS50/myMusicGen/data/chorales/midi/015301b_.mid', '/Volumes/MAGIC1/CS50/myMusicGen/data/chorales/midi/015305b_.mid', '/Volumes/MAGIC1/CS50/myMusicGen/data/chorales/midi/015309b_.mid', '/Volumes/MAGIC1/CS50/myMusicGen/data/chorales/midi/015403b_.mid', '/Volumes/MAGIC1/CS50/myMusicGen/data/chorales/midi/015408b_.mid', '/Volumes/MAGIC1/CS50/myMusicGen/data/chorales/midi/015505b_.mid', '/Volumes/MAGIC1/CS50/myMusicGen/data/chorales/midi/015606b_.mid', '/Volumes/MAGIC1/CS50/myMusicGen/data/chorales/midi/015705b_.mid', '/Volumes/MAGIC1/CS50/myMusicGen/data/chorales/midi/015804b_.mid', '/Volumes/MAGIC1/CS50/myMusicGen/data/chorales/midi/015905b_.mid', '/Volumes/MAGIC1/CS50/myMusicGen/data/chorales/midi/016106b_.mid', '/Volumes/MAGIC1/CS50/myMusicGen/data/chorales/midi/016206blpz.mid', '/Volumes/MAGIC1/CS50/myMusicGen/data/chorales/midi/016406b_.mid', '/Volumes/MAGIC1/CS50/myMusicGen/data/chorales/midi/016506b_.mid', '/Volumes/MAGIC1/CS50/myMusicGen/data/chorales/midi/016606b_.mid', '/Volumes/MAGIC1/CS50/myMusicGen/data/chorales/midi/016806b_.mid', '/Volumes/MAGIC1/CS50/myMusicGen/data/chorales/midi/016907b_.mid', '/Volumes/MAGIC1/CS50/myMusicGen/data/chorales/midi/017106b_.mid', '/Volumes/MAGIC1/CS50/myMusicGen/data/chorales/midi/017206b_.mid', '/Volumes/MAGIC1/CS50/myMusicGen/data/chorales/midi/017206ch.mid', '/Volumes/MAGIC1/CS50/myMusicGen/data/chorales/midi/017206vn.mid', '/Volumes/MAGIC1/CS50/myMusicGen/data/chorales/midi/017405b_.mid', '/Volumes/MAGIC1/CS50/myMusicGen/data/chorales/midi/017507b_.mid', '/Volumes/MAGIC1/CS50/myMusicGen/data/chorales/midi/017507ch.mid', '/Volumes/MAGIC1/CS50/myMusicGen/data/chorales/midi/017606b_.mid', '/Volumes/MAGIC1/CS50/myMusicGen/data/chorales/midi/017705b_.mid', '/Volumes/MAGIC1/CS50/myMusicGen/data/chorales/midi/017807b_.mid', '/Volumes/MAGIC1/CS50/myMusicGen/data/chorales/midi/017906b_.mid', '/Volumes/MAGIC1/CS50/myMusicGen/data/chorales/midi/018007b_.mid', '/Volumes/MAGIC1/CS50/myMusicGen/data/chorales/midi/018305b_.mid', '/Volumes/MAGIC1/CS50/myMusicGen/data/chorales/midi/018405b_.mid', '/Volumes/MAGIC1/CS50/myMusicGen/data/chorales/midi/018405unk.mid', '/Volumes/MAGIC1/CS50/myMusicGen/data/chorales/midi/018506b_.mid', '/Volumes/MAGIC1/CS50/myMusicGen/data/chorales/midi/018707b_.mid', '/Volumes/MAGIC1/CS50/myMusicGen/data/chorales/midi/018806b_.mid', '/Volumes/MAGIC1/CS50/myMusicGen/data/chorales/midi/019007b_.mid', '/Volumes/MAGIC1/CS50/myMusicGen/data/chorales/midi/019007binst.mid', '/Volumes/MAGIC1/CS50/myMusicGen/data/chorales/midi/019406b_.mid', '/Volumes/MAGIC1/CS50/myMusicGen/data/chorales/midi/019412b_.mid', '/Volumes/MAGIC1/CS50/myMusicGen/data/chorales/midi/019506b_.mid', '/Volumes/MAGIC1/CS50/myMusicGen/data/chorales/midi/019705b_.mid', '/Volumes/MAGIC1/CS50/myMusicGen/data/chorales/midi/019707ba.mid', '/Volumes/MAGIC1/CS50/myMusicGen/data/chorales/midi/019710b_.mid', '/Volumes/MAGIC1/CS50/myMusicGen/data/chorales/midi/022602b_.mid', '/Volumes/MAGIC1/CS50/myMusicGen/data/chorales/midi/022701b_.mid', '/Volumes/MAGIC1/CS50/myMusicGen/data/chorales/midi/022703b_.mid', '/Volumes/MAGIC1/CS50/myMusicGen/data/chorales/midi/022707b_.mid', '/Volumes/MAGIC1/CS50/myMusicGen/data/chorales/midi/022709b_.mid', '/Volumes/MAGIC1/CS50/myMusicGen/data/chorales/midi/022711b_.mid', '/Volumes/MAGIC1/CS50/myMusicGen/data/chorales/midi/022902b_.mid', '/Volumes/MAGIC1/CS50/myMusicGen/data/chorales/midi/024310b_.mid', '/Volumes/MAGIC1/CS50/myMusicGen/data/chorales/midi/024403b_.mid', '/Volumes/MAGIC1/CS50/myMusicGen/data/chorales/midi/024410b_.mid', '/Volumes/MAGIC1/CS50/myMusicGen/data/chorales/midi/024415b_.mid', '/Volumes/MAGIC1/CS50/myMusicGen/data/chorales/midi/024417b_.mid', '/Volumes/MAGIC1/CS50/myMusicGen/data/chorales/midi/024425b_.mid', '/Volumes/MAGIC1/CS50/myMusicGen/data/chorales/midi/024429ba.mid', '/Volumes/MAGIC1/CS50/myMusicGen/data/chorales/midi/024432b_.mid', '/Volumes/MAGIC1/CS50/myMusicGen/data/chorales/midi/024437b_.mid', '/Volumes/MAGIC1/CS50/myMusicGen/data/chorales/midi/024440b_.mid', '/Volumes/MAGIC1/CS50/myMusicGen/data/chorales/midi/024444b_.mid', '/Volumes/MAGIC1/CS50/myMusicGen/data/chorales/midi/024446b_.mid', '/Volumes/MAGIC1/CS50/myMusicGen/data/chorales/midi/024454b_.mid', '/Volumes/MAGIC1/CS50/myMusicGen/data/chorales/midi/024462b_.mid', '/Volumes/MAGIC1/CS50/myMusicGen/data/chorales/midi/024503b_.mid', '/Volumes/MAGIC1/CS50/myMusicGen/data/chorales/midi/024505b_.mid', '/Volumes/MAGIC1/CS50/myMusicGen/data/chorales/midi/024511b_.mid', '/Volumes/MAGIC1/CS50/myMusicGen/data/chorales/midi/024514b_.mid', '/Volumes/MAGIC1/CS50/myMusicGen/data/chorales/midi/024515b_.mid', '/Volumes/MAGIC1/CS50/myMusicGen/data/chorales/midi/024517b_.mid', '/Volumes/MAGIC1/CS50/myMusicGen/data/chorales/midi/024522b_.mid', '/Volumes/MAGIC1/CS50/myMusicGen/data/chorales/midi/024526b_.mid', '/Volumes/MAGIC1/CS50/myMusicGen/data/chorales/midi/024528b_.mid', '/Volumes/MAGIC1/CS50/myMusicGen/data/chorales/midi/024537b_.mid', '/Volumes/MAGIC1/CS50/myMusicGen/data/chorales/midi/024540b_.mid', '/Volumes/MAGIC1/CS50/myMusicGen/data/chorales/midi/024805b1.mid', '/Volumes/MAGIC1/CS50/myMusicGen/data/chorales/midi/024809b1.mid', '/Volumes/MAGIC1/CS50/myMusicGen/data/chorales/midi/024809bs.mid', '/Volumes/MAGIC1/CS50/myMusicGen/data/chorales/midi/024812b2.mid', '/Volumes/MAGIC1/CS50/myMusicGen/data/chorales/midi/024817b2.mid', '/Volumes/MAGIC1/CS50/myMusicGen/data/chorales/midi/024823b2.mid', '/Volumes/MAGIC1/CS50/myMusicGen/data/chorales/midi/024823bs.mid', '/Volumes/MAGIC1/CS50/myMusicGen/data/chorales/midi/024828b3.mid', '/Volumes/MAGIC1/CS50/myMusicGen/data/chorales/midi/024833b3.mid', '/Volumes/MAGIC1/CS50/myMusicGen/data/chorales/midi/024835b3.mid', '/Volumes/MAGIC1/CS50/myMusicGen/data/chorales/midi/024842b4.mid', '/Volumes/MAGIC1/CS50/myMusicGen/data/chorales/midi/024842bs.mid', '/Volumes/MAGIC1/CS50/myMusicGen/data/chorales/midi/024846b5.mid', '/Volumes/MAGIC1/CS50/myMusicGen/data/chorales/midi/024853b5.mid', '/Volumes/MAGIC1/CS50/myMusicGen/data/chorales/midi/024859b6.mid', '/Volumes/MAGIC1/CS50/myMusicGen/data/chorales/midi/024864b6.mid', '/Volumes/MAGIC1/CS50/myMusicGen/data/chorales/midi/024864bs.mid', '/Volumes/MAGIC1/CS50/myMusicGen/data/chorales/midi/025000b_.mid', '/Volumes/MAGIC1/CS50/myMusicGen/data/chorales/midi/025100b_.mid', '/Volumes/MAGIC1/CS50/myMusicGen/data/chorales/midi/025200b_.mid', '/Volumes/MAGIC1/CS50/myMusicGen/data/chorales/midi/025300b_.mid', '/Volumes/MAGIC1/CS50/myMusicGen/data/chorales/midi/025400b_.mid', '/Volumes/MAGIC1/CS50/myMusicGen/data/chorales/midi/025500b_.mid', '/Volumes/MAGIC1/CS50/myMusicGen/data/chorales/midi/025600b_.mid', '/Volumes/MAGIC1/CS50/myMusicGen/data/chorales/midi/025700b_.mid', '/Volumes/MAGIC1/CS50/myMusicGen/data/chorales/midi/025800b_.mid', '/Volumes/MAGIC1/CS50/myMusicGen/data/chorales/midi/025900b_.mid', '/Volumes/MAGIC1/CS50/myMusicGen/data/chorales/midi/026000b_.mid', '/Volumes/MAGIC1/CS50/myMusicGen/data/chorales/midi/026100b_.mid', '/Volumes/MAGIC1/CS50/myMusicGen/data/chorales/midi/026200b_.mid', '/Volumes/MAGIC1/CS50/myMusicGen/data/chorales/midi/026300b_.mid', '/Volumes/MAGIC1/CS50/myMusicGen/data/chorales/midi/026400b_.mid', '/Volumes/MAGIC1/CS50/myMusicGen/data/chorales/midi/026500b_.mid', '/Volumes/MAGIC1/CS50/myMusicGen/data/chorales/midi/026600b_.mid', '/Volumes/MAGIC1/CS50/myMusicGen/data/chorales/midi/026700b_.mid', '/Volumes/MAGIC1/CS50/myMusicGen/data/chorales/midi/026700ba.mid', '/Volumes/MAGIC1/CS50/myMusicGen/data/chorales/midi/026800b_.mid', '/Volumes/MAGIC1/CS50/myMusicGen/data/chorales/midi/026900b_.mid', '/Volumes/MAGIC1/CS50/myMusicGen/data/chorales/midi/027000b_.mid', '/Volumes/MAGIC1/CS50/myMusicGen/data/chorales/midi/027100b_.mid', '/Volumes/MAGIC1/CS50/myMusicGen/data/chorales/midi/027200b_.mid', '/Volumes/MAGIC1/CS50/myMusicGen/data/chorales/midi/027300b_.mid', '/Volumes/MAGIC1/CS50/myMusicGen/data/chorales/midi/027400b_.mid', '/Volumes/MAGIC1/CS50/myMusicGen/data/chorales/midi/027500b_.mid', '/Volumes/MAGIC1/CS50/myMusicGen/data/chorales/midi/027600b_.mid', '/Volumes/MAGIC1/CS50/myMusicGen/data/chorales/midi/027700b_.mid', '/Volumes/MAGIC1/CS50/myMusicGen/data/chorales/midi/027800b_.mid', '/Volumes/MAGIC1/CS50/myMusicGen/data/chorales/midi/027900b_.mid', '/Volumes/MAGIC1/CS50/myMusicGen/data/chorales/midi/028000b_.mid', '/Volumes/MAGIC1/CS50/myMusicGen/data/chorales/midi/028100b_.mid', '/Volumes/MAGIC1/CS50/myMusicGen/data/chorales/midi/028200b_.mid', '/Volumes/MAGIC1/CS50/myMusicGen/data/chorales/midi/028300b_.mid', '/Volumes/MAGIC1/CS50/myMusicGen/data/chorales/midi/028400b_.mid', '/Volumes/MAGIC1/CS50/myMusicGen/data/chorales/midi/028500b_.mid', '/Volumes/MAGIC1/CS50/myMusicGen/data/chorales/midi/028600b_.mid', '/Volumes/MAGIC1/CS50/myMusicGen/data/chorales/midi/028700b_.mid', '/Volumes/MAGIC1/CS50/myMusicGen/data/chorales/midi/028800b_.mid', '/Volumes/MAGIC1/CS50/myMusicGen/data/chorales/midi/028900b_.mid', '/Volumes/MAGIC1/CS50/myMusicGen/data/chorales/midi/029000b_.mid', '/Volumes/MAGIC1/CS50/myMusicGen/data/chorales/midi/029100b_.mid', '/Volumes/MAGIC1/CS50/myMusicGen/data/chorales/midi/029200b_.mid', '/Volumes/MAGIC1/CS50/myMusicGen/data/chorales/midi/029300b_.mid', '/Volumes/MAGIC1/CS50/myMusicGen/data/chorales/midi/029400b_.mid', '/Volumes/MAGIC1/CS50/myMusicGen/data/chorales/midi/029500b_.mid', '/Volumes/MAGIC1/CS50/myMusicGen/data/chorales/midi/029600b_.mid', '/Volumes/MAGIC1/CS50/myMusicGen/data/chorales/midi/029700b_.mid', '/Volumes/MAGIC1/CS50/myMusicGen/data/chorales/midi/029800b_.mid', '/Volumes/MAGIC1/CS50/myMusicGen/data/chorales/midi/029900b_.mid', '/Volumes/MAGIC1/CS50/myMusicGen/data/chorales/midi/030000b_.mid', '/Volumes/MAGIC1/CS50/myMusicGen/data/chorales/midi/030100b_.mid', '/Volumes/MAGIC1/CS50/myMusicGen/data/chorales/midi/030200b_.mid', '/Volumes/MAGIC1/CS50/myMusicGen/data/chorales/midi/030300b_.mid', '/Volumes/MAGIC1/CS50/myMusicGen/data/chorales/midi/030400b_.mid', '/Volumes/MAGIC1/CS50/myMusicGen/data/chorales/midi/030500b_.mid', '/Volumes/MAGIC1/CS50/myMusicGen/data/chorales/midi/030600b_.mid', '/Volumes/MAGIC1/CS50/myMusicGen/data/chorales/midi/030700b_.mid', '/Volumes/MAGIC1/CS50/myMusicGen/data/chorales/midi/030800b_.mid', '/Volumes/MAGIC1/CS50/myMusicGen/data/chorales/midi/030900b_.mid', '/Volumes/MAGIC1/CS50/myMusicGen/data/chorales/midi/031000b_.mid', '/Volumes/MAGIC1/CS50/myMusicGen/data/chorales/midi/031100b_.mid', '/Volumes/MAGIC1/CS50/myMusicGen/data/chorales/midi/031200b_.mid', '/Volumes/MAGIC1/CS50/myMusicGen/data/chorales/midi/031300b_.mid', '/Volumes/MAGIC1/CS50/myMusicGen/data/chorales/midi/031400b_.mid', '/Volumes/MAGIC1/CS50/myMusicGen/data/chorales/midi/031500b_.mid', '/Volumes/MAGIC1/CS50/myMusicGen/data/chorales/midi/031600b_.mid', '/Volumes/MAGIC1/CS50/myMusicGen/data/chorales/midi/031700b_.mid', '/Volumes/MAGIC1/CS50/myMusicGen/data/chorales/midi/031800b_.mid', '/Volumes/MAGIC1/CS50/myMusicGen/data/chorales/midi/031900b_.mid', '/Volumes/MAGIC1/CS50/myMusicGen/data/chorales/midi/032000b_.mid', '/Volumes/MAGIC1/CS50/myMusicGen/data/chorales/midi/032100b_.mid', '/Volumes/MAGIC1/CS50/myMusicGen/data/chorales/midi/032200b_.mid', '/Volumes/MAGIC1/CS50/myMusicGen/data/chorales/midi/032300b_.mid', '/Volumes/MAGIC1/CS50/myMusicGen/data/chorales/midi/032400b_.mid', '/Volumes/MAGIC1/CS50/myMusicGen/data/chorales/midi/032500b_.mid', '/Volumes/MAGIC1/CS50/myMusicGen/data/chorales/midi/032600b_.mid', '/Volumes/MAGIC1/CS50/myMusicGen/data/chorales/midi/032700b_.mid', '/Volumes/MAGIC1/CS50/myMusicGen/data/chorales/midi/032800b_.mid', '/Volumes/MAGIC1/CS50/myMusicGen/data/chorales/midi/032900b_.mid', '/Volumes/MAGIC1/CS50/myMusicGen/data/chorales/midi/033000b_.mid', '/Volumes/MAGIC1/CS50/myMusicGen/data/chorales/midi/033100b_.mid', '/Volumes/MAGIC1/CS50/myMusicGen/data/chorales/midi/033200b_.mid', '/Volumes/MAGIC1/CS50/myMusicGen/data/chorales/midi/033300b_.mid', '/Volumes/MAGIC1/CS50/myMusicGen/data/chorales/midi/033400b_.mid', '/Volumes/MAGIC1/CS50/myMusicGen/data/chorales/midi/033500b_.mid', '/Volumes/MAGIC1/CS50/myMusicGen/data/chorales/midi/033600b_.mid', '/Volumes/MAGIC1/CS50/myMusicGen/data/chorales/midi/033700b_.mid', '/Volumes/MAGIC1/CS50/myMusicGen/data/chorales/midi/033800b_.mid', '/Volumes/MAGIC1/CS50/myMusicGen/data/chorales/midi/033900b_.mid', '/Volumes/MAGIC1/CS50/myMusicGen/data/chorales/midi/034000b_.mid', '/Volumes/MAGIC1/CS50/myMusicGen/data/chorales/midi/034100b_.mid', '/Volumes/MAGIC1/CS50/myMusicGen/data/chorales/midi/034200b_.mid', '/Volumes/MAGIC1/CS50/myMusicGen/data/chorales/midi/034300b_.mid', '/Volumes/MAGIC1/CS50/myMusicGen/data/chorales/midi/034400b_.mid', '/Volumes/MAGIC1/CS50/myMusicGen/data/chorales/midi/034500b_.mid', '/Volumes/MAGIC1/CS50/myMusicGen/data/chorales/midi/034600b_.mid', '/Volumes/MAGIC1/CS50/myMusicGen/data/chorales/midi/034700b_.mid', '/Volumes/MAGIC1/CS50/myMusicGen/data/chorales/midi/034800b_.mid', '/Volumes/MAGIC1/CS50/myMusicGen/data/chorales/midi/034900b_.mid', '/Volumes/MAGIC1/CS50/myMusicGen/data/chorales/midi/035000b_.mid', '/Volumes/MAGIC1/CS50/myMusicGen/data/chorales/midi/035100b_.mid', '/Volumes/MAGIC1/CS50/myMusicGen/data/chorales/midi/035200b_.mid', '/Volumes/MAGIC1/CS50/myMusicGen/data/chorales/midi/035300b_.mid', '/Volumes/MAGIC1/CS50/myMusicGen/data/chorales/midi/035400b_.mid', '/Volumes/MAGIC1/CS50/myMusicGen/data/chorales/midi/035500b_.mid', '/Volumes/MAGIC1/CS50/myMusicGen/data/chorales/midi/035600b_.mid', '/Volumes/MAGIC1/CS50/myMusicGen/data/chorales/midi/035700b_.mid', '/Volumes/MAGIC1/CS50/myMusicGen/data/chorales/midi/035800b_.mid', '/Volumes/MAGIC1/CS50/myMusicGen/data/chorales/midi/035900b_.mid', '/Volumes/MAGIC1/CS50/myMusicGen/data/chorales/midi/036000b_.mid', '/Volumes/MAGIC1/CS50/myMusicGen/data/chorales/midi/036100b_.mid', '/Volumes/MAGIC1/CS50/myMusicGen/data/chorales/midi/036200b_.mid', '/Volumes/MAGIC1/CS50/myMusicGen/data/chorales/midi/036300b_.mid', '/Volumes/MAGIC1/CS50/myMusicGen/data/chorales/midi/036400b_.mid', '/Volumes/MAGIC1/CS50/myMusicGen/data/chorales/midi/036500B_.mid', '/Volumes/MAGIC1/CS50/myMusicGen/data/chorales/midi/036600b_.mid', '/Volumes/MAGIC1/CS50/myMusicGen/data/chorales/midi/036700b_.mid', '/Volumes/MAGIC1/CS50/myMusicGen/data/chorales/midi/036800b_.mid', '/Volumes/MAGIC1/CS50/myMusicGen/data/chorales/midi/036900b_.mid', '/Volumes/MAGIC1/CS50/myMusicGen/data/chorales/midi/037000b_.mid', '/Volumes/MAGIC1/CS50/myMusicGen/data/chorales/midi/037100b_.mid', '/Volumes/MAGIC1/CS50/myMusicGen/data/chorales/midi/037200b_.mid', '/Volumes/MAGIC1/CS50/myMusicGen/data/chorales/midi/037300b_.mid', '/Volumes/MAGIC1/CS50/myMusicGen/data/chorales/midi/037300bv.mid', '/Volumes/MAGIC1/CS50/myMusicGen/data/chorales/midi/037400b_.mid', '/Volumes/MAGIC1/CS50/myMusicGen/data/chorales/midi/037500b_.mid', '/Volumes/MAGIC1/CS50/myMusicGen/data/chorales/midi/037600b_.mid', '/Volumes/MAGIC1/CS50/myMusicGen/data/chorales/midi/037700b_.mid', '/Volumes/MAGIC1/CS50/myMusicGen/data/chorales/midi/037800b_.mid', '/Volumes/MAGIC1/CS50/myMusicGen/data/chorales/midi/037900b_.mid', '/Volumes/MAGIC1/CS50/myMusicGen/data/chorales/midi/038000b_.mid', '/Volumes/MAGIC1/CS50/myMusicGen/data/chorales/midi/038100b_.mid', '/Volumes/MAGIC1/CS50/myMusicGen/data/chorales/midi/038200b_.mid', '/Volumes/MAGIC1/CS50/myMusicGen/data/chorales/midi/038300b_.mid', '/Volumes/MAGIC1/CS50/myMusicGen/data/chorales/midi/038400b_.mid', '/Volumes/MAGIC1/CS50/myMusicGen/data/chorales/midi/038500b_.mid', '/Volumes/MAGIC1/CS50/myMusicGen/data/chorales/midi/038600b_.mid', '/Volumes/MAGIC1/CS50/myMusicGen/data/chorales/midi/038700b_.mid', '/Volumes/MAGIC1/CS50/myMusicGen/data/chorales/midi/038800b_.mid', '/Volumes/MAGIC1/CS50/myMusicGen/data/chorales/midi/038900b_.mid', '/Volumes/MAGIC1/CS50/myMusicGen/data/chorales/midi/039000b_.mid', '/Volumes/MAGIC1/CS50/myMusicGen/data/chorales/midi/039100b_.mid', '/Volumes/MAGIC1/CS50/myMusicGen/data/chorales/midi/039200b_.mid', '/Volumes/MAGIC1/CS50/myMusicGen/data/chorales/midi/039300b_.mid', '/Volumes/MAGIC1/CS50/myMusicGen/data/chorales/midi/039400b_.mid', '/Volumes/MAGIC1/CS50/myMusicGen/data/chorales/midi/039500b_.mid', '/Volumes/MAGIC1/CS50/myMusicGen/data/chorales/midi/039600b_.mid', '/Volumes/MAGIC1/CS50/myMusicGen/data/chorales/midi/039700b_.mid', '/Volumes/MAGIC1/CS50/myMusicGen/data/chorales/midi/039800b_.mid', '/Volumes/MAGIC1/CS50/myMusicGen/data/chorales/midi/039900b_.mid', '/Volumes/MAGIC1/CS50/myMusicGen/data/chorales/midi/040000b_.mid', '/Volumes/MAGIC1/CS50/myMusicGen/data/chorales/midi/040100b_.mid', '/Volumes/MAGIC1/CS50/myMusicGen/data/chorales/midi/040200b_.mid', '/Volumes/MAGIC1/CS50/myMusicGen/data/chorales/midi/040300b_.mid', '/Volumes/MAGIC1/CS50/myMusicGen/data/chorales/midi/040400b_.mid', '/Volumes/MAGIC1/CS50/myMusicGen/data/chorales/midi/040500b_.mid', '/Volumes/MAGIC1/CS50/myMusicGen/data/chorales/midi/040600b_.mid', '/Volumes/MAGIC1/CS50/myMusicGen/data/chorales/midi/040700b_.mid', '/Volumes/MAGIC1/CS50/myMusicGen/data/chorales/midi/040800b_.mid', '/Volumes/MAGIC1/CS50/myMusicGen/data/chorales/midi/040900b_.mid', '/Volumes/MAGIC1/CS50/myMusicGen/data/chorales/midi/040900bv.mid', '/Volumes/MAGIC1/CS50/myMusicGen/data/chorales/midi/041000b_.mid', '/Volumes/MAGIC1/CS50/myMusicGen/data/chorales/midi/041100B_.mid', '/Volumes/MAGIC1/CS50/myMusicGen/data/chorales/midi/041200b_.mid', '/Volumes/MAGIC1/CS50/myMusicGen/data/chorales/midi/041300b_.mid', '/Volumes/MAGIC1/CS50/myMusicGen/data/chorales/midi/041400b_.mid', '/Volumes/MAGIC1/CS50/myMusicGen/data/chorales/midi/041500b_.mid', '/Volumes/MAGIC1/CS50/myMusicGen/data/chorales/midi/041600b_.mid', '/Volumes/MAGIC1/CS50/myMusicGen/data/chorales/midi/041700b_.mid', '/Volumes/MAGIC1/CS50/myMusicGen/data/chorales/midi/041800b_.mid', '/Volumes/MAGIC1/CS50/myMusicGen/data/chorales/midi/041900B_.mid', '/Volumes/MAGIC1/CS50/myMusicGen/data/chorales/midi/042000b_.mid', '/Volumes/MAGIC1/CS50/myMusicGen/data/chorales/midi/042100b_.mid', '/Volumes/MAGIC1/CS50/myMusicGen/data/chorales/midi/042200b_.mid', '/Volumes/MAGIC1/CS50/myMusicGen/data/chorales/midi/042300b_.mid', '/Volumes/MAGIC1/CS50/myMusicGen/data/chorales/midi/042400b_.mid', '/Volumes/MAGIC1/CS50/myMusicGen/data/chorales/midi/042500b_.mid', '/Volumes/MAGIC1/CS50/myMusicGen/data/chorales/midi/042600b_.mid', '/Volumes/MAGIC1/CS50/myMusicGen/data/chorales/midi/042700b_.mid', '/Volumes/MAGIC1/CS50/myMusicGen/data/chorales/midi/042800b_.mid', '/Volumes/MAGIC1/CS50/myMusicGen/data/chorales/midi/042900b_.mid', '/Volumes/MAGIC1/CS50/myMusicGen/data/chorales/midi/043000b_.mid', '/Volumes/MAGIC1/CS50/myMusicGen/data/chorales/midi/043100b_.mid', '/Volumes/MAGIC1/CS50/myMusicGen/data/chorales/midi/043200b_.mid', '/Volumes/MAGIC1/CS50/myMusicGen/data/chorales/midi/043300b_.mid', '/Volumes/MAGIC1/CS50/myMusicGen/data/chorales/midi/043400b_.mid', '/Volumes/MAGIC1/CS50/myMusicGen/data/chorales/midi/043500b_.mid', '/Volumes/MAGIC1/CS50/myMusicGen/data/chorales/midi/043600b_.mid', '/Volumes/MAGIC1/CS50/myMusicGen/data/chorales/midi/043700B_.mid', '/Volumes/MAGIC1/CS50/myMusicGen/data/chorales/midi/043800B_.mid', '/Volumes/MAGIC1/CS50/myMusicGen/data/chorales/midi/051000b_.mid', '/Volumes/MAGIC1/CS50/myMusicGen/data/chorales/midi/060600b_.mid', '/Volumes/MAGIC1/CS50/myMusicGen/data/chorales/midi/060800b_.mid', '/Volumes/MAGIC1/CS50/myMusicGen/data/chorales/midi/061500b_.mid', '/Volumes/MAGIC1/CS50/myMusicGen/data/chorales/midi/064200b_.mid', '/Volumes/MAGIC1/CS50/myMusicGen/data/chorales/midi/064500b_.mid', '/Volumes/MAGIC1/CS50/myMusicGen/data/chorales/midi/064600b_.mid', '/Volumes/MAGIC1/CS50/myMusicGen/data/chorales/midi/064700b_.mid', '/Volumes/MAGIC1/CS50/myMusicGen/data/chorales/midi/064800b_.mid', '/Volumes/MAGIC1/CS50/myMusicGen/data/chorales/midi/064900b_.mid', '/Volumes/MAGIC1/CS50/myMusicGen/data/chorales/midi/065000b_.mid', '/Volumes/MAGIC1/CS50/myMusicGen/data/chorales/midi/065000t.mid', '/Volumes/MAGIC1/CS50/myMusicGen/data/chorales/midi/065100b_.mid', '/Volumes/MAGIC1/CS50/myMusicGen/data/chorales/midi/065200b_.mid', '/Volumes/MAGIC1/CS50/myMusicGen/data/chorales/midi/065300b_.mid', '/Volumes/MAGIC1/CS50/myMusicGen/data/chorales/midi/065400b_.mid', '/Volumes/MAGIC1/CS50/myMusicGen/data/chorales/midi/065500b_.mid', '/Volumes/MAGIC1/CS50/myMusicGen/data/chorales/midi/065600b_.mid', '/Volumes/MAGIC1/CS50/myMusicGen/data/chorales/midi/065700b_.mid', '/Volumes/MAGIC1/CS50/myMusicGen/data/chorales/midi/065800b_.mid', '/Volumes/MAGIC1/CS50/myMusicGen/data/chorales/midi/065900b_.mid', '/Volumes/MAGIC1/CS50/myMusicGen/data/chorales/midi/066000b_.mid', '/Volumes/MAGIC1/CS50/myMusicGen/data/chorales/midi/066100b_.mid', '/Volumes/MAGIC1/CS50/myMusicGen/data/chorales/midi/066200b_.mid', '/Volumes/MAGIC1/CS50/myMusicGen/data/chorales/midi/066300b_.mid', '/Volumes/MAGIC1/CS50/myMusicGen/data/chorales/midi/066400b_.mid', '/Volumes/MAGIC1/CS50/myMusicGen/data/chorales/midi/066500b_.mid', '/Volumes/MAGIC1/CS50/myMusicGen/data/chorales/midi/066600b_.mid', '/Volumes/MAGIC1/CS50/myMusicGen/data/chorales/midi/066700b_.mid', '/Volumes/MAGIC1/CS50/myMusicGen/data/chorales/midi/066800b_.mid', '/Volumes/MAGIC1/CS50/myMusicGen/data/chorales/midi/066800com.mid', '/Volumes/MAGIC1/CS50/myMusicGen/data/chorales/midi/069000b_.mid', '/Volumes/MAGIC1/CS50/myMusicGen/data/chorales/midi/069100b_.mid', '/Volumes/MAGIC1/CS50/myMusicGen/data/chorales/midi/069100orn.mid', '/Volumes/MAGIC1/CS50/myMusicGen/data/chorales/midi/069400b_.mid', '/Volumes/MAGIC1/CS50/myMusicGen/data/chorales/midi/070000b_.mid', '/Volumes/MAGIC1/CS50/myMusicGen/data/chorales/midi/070100b_.mid', '/Volumes/MAGIC1/CS50/myMusicGen/data/chorales/midi/073300b_.mid', '/Volumes/MAGIC1/CS50/myMusicGen/data/chorales/midi/073800b_.mid', '/Volumes/MAGIC1/CS50/myMusicGen/data/chorales/midi/076901b_.mid', '/Volumes/MAGIC1/CS50/myMusicGen/data/chorales/midi/076902b_.mid', '/Volumes/MAGIC1/CS50/myMusicGen/data/chorales/midi/076903b_.mid', '/Volumes/MAGIC1/CS50/myMusicGen/data/chorales/midi/076904b_.mid', '/Volumes/MAGIC1/CS50/myMusicGen/data/chorales/midi/076905b_.mid', '/Volumes/MAGIC1/CS50/myMusicGen/data/chorales/midi/109100b_.mid', '/Volumes/MAGIC1/CS50/myMusicGen/data/chorales/midi/111800b_.mid', '/Volumes/MAGIC1/CS50/myMusicGen/data/chorales/midi/hallelujah.mid']\n",
      "Number of files: 498\n"
     ]
    }
   ],
   "source": [
    "#Download Chorales\n",
    "data_dir = pathlib.Path('/Volumes/MAGIC1/CS50/myMusicGen/data/chorales')\n",
    "if not data_dir.exists():\n",
    "  tf.keras.utils.get_file(\n",
    "      'midi',\n",
    "      origin='https://github.com/jamesrobertlloyd/infinite-bach/tree/master/data/chorales/midi',\n",
    "      extract=True,\n",
    "      cache_dir='.', cache_subdir='data',\n",
    "  )\n",
    "filenames = glob.glob(str(data_dir/'**/*.mid*'))\n",
    "print(filenames)\n",
    "print('Number of files:', len(filenames))"
   ]
  },
  {
   "cell_type": "code",
   "execution_count": 3,
   "metadata": {},
   "outputs": [],
   "source": [
    "class UnsupportedMidiFileException(Exception):\n",
    "  \"Unsupported MIDI File\""
   ]
  },
  {
   "cell_type": "code",
   "execution_count": 4,
   "metadata": {},
   "outputs": [],
   "source": [
    "\"\"\"Tomb made a pretty useful function\"\"\"\n",
    "def check_pianoroll_dim(pianoroll):\n",
    "        rows = len(pianoroll)  # This gives the number of rows\n",
    "        columns = len(pianoroll[0])  # This assumes all rows have the same length\n",
    "\n",
    "        print(\"Number of rows:\", rows) # represents sequence length\n",
    "        print(\"Number of columns:\", columns) # represents the 4 octave range in midi 36-83\n",
    "        print(\"Total dimesions of this pianoroll is\", rows*columns)"
   ]
  },
  {
   "cell_type": "code",
   "execution_count": 5,
   "metadata": {},
   "outputs": [],
   "source": [
    "def get_pianoroll(midi, nn_from, nn_thru, seqlen, tempo):\n",
    "    pianoroll = midi.get_piano_roll(fs=2*tempo/60) # This is the core line which makes this matrix based on 8th note\n",
    "\n",
    "    # print(f\"piano_roll.shape[1] a.k.a song length!{pianoroll.shape[1]}\")\n",
    "\n",
    "    if pianoroll.shape[1] < seqlen:\n",
    "        raise UnsupportedMidiFileException\n",
    "\n",
    "    pianoroll = pianoroll[nn_from:nn_thru, 0:seqlen] # (48, 64) Pinoroll's value still NOT binary since it has velocity\n",
    "    binary_pianoroll = np.heaviside(pianoroll, 0) # converting as a binary matrix\n",
    "    transposed_pianoroll = np.transpose(binary_pianoroll) #(64, 48)\n",
    "     \n",
    "    # return binary_pianoroll\n",
    "    return transposed_pianoroll # type numpy.ndarray"
   ]
  },
  {
   "cell_type": "code",
   "execution_count": 6,
   "metadata": {},
   "outputs": [],
   "source": [
    "def read_midi(filename, sop_alto, seqlen):\n",
    "  \n",
    "  def add_rest_nodes(pianoroll):  # If all the elemets are zero, the rest node says 1, else 0\n",
    "    rests = 1 - np.sum(pianoroll, axis=1)\n",
    "    rests = np.expand_dims(rests, 1)\n",
    "    return np.concatenate([pianoroll, rests], axis=1)\n",
    "  \n",
    "  \n",
    "  # read midi file\n",
    "  midi = pretty_midi.PrettyMIDI(filename)\n",
    "\n",
    "  # An Exception error is thrown if there is a modulation(key change)\n",
    "  if len(midi.key_signature_changes) !=1:\n",
    "    raise UnsupportedMidiFileException\n",
    "\n",
    "  # Modulate the given key to C major or C minor\n",
    "  key_number = midi.key_signature_changes[0].key_number\n",
    "  # transpose_to_c(midi, key_number)\n",
    "\n",
    "  # Get Major key(keynode=0) or Minor key(keynode=1)\n",
    "  keymode = np.array([int(key_number / 12)])\n",
    "\n",
    "  # The Exception error thrown when tempo changes\n",
    "  tempo_time, tempo = midi.get_tempo_changes()\n",
    "  if len(tempo) != 1:\n",
    "    raise UnsupportedMidiFileException\n",
    "  if sop_alto:\n",
    "    # The exception thrown if there are less than 2 parts\n",
    "    if len(midi.instruments) < 2:\n",
    "      raise UnsupportedMidiFileException\n",
    "    # Get pianoRoll returns numpy.ndarray\n",
    "    pr_s = get_pianoroll(midi.instruments[0], 36, 84, seqlen, tempo[0])\n",
    "    pr_a = get_pianoroll(midi.instruments[1], 36, 84, seqlen, tempo[0])\n",
    "    pr_b = get_pianoroll(midi.instruments[2], 36, 84, seqlen, tempo[0])\n",
    "    \n",
    "    \n",
    "    sop_w_rest = add_rest_nodes(pr_s) \n",
    "    alt_w_rest = add_rest_nodes(pr_a)\n",
    "    bass_w_rest = add_rest_nodes(pr_b)\n",
    "    \n",
    "    # return pr_s, pr_a, pr_b, keymode\n",
    "    return sop_w_rest, alt_w_rest, bass_w_rest, keymode # All numpy.ndarray including keymode  \n",
    "\n",
    "  else:\n",
    "    #Get a pianoroll which gathered all the parts\n",
    "    pr = get_pianoroll(midi, 36, 84, seqlen, tempo[0])\n",
    "    return pr, keymode"
   ]
  },
  {
   "cell_type": "code",
   "execution_count": 7,
   "metadata": {},
   "outputs": [
    {
     "name": "stdout",
     "output_type": "stream",
     "text": [
      "nah\n",
      "nah\n",
      "nah\n"
     ]
    }
   ],
   "source": [
    "\"\"\"Get the ingredients. \n",
    "Make the data(i.e manipulate the model as you tell it what you want) here for predict the 3rd note with given (x1,x2). \n",
    "Make list1 that has (xn, xn+1) pair elements \n",
    "and list2 which has (xn+2) elements\"\"\"\n",
    "\n",
    "np.set_printoptions(threshold=np.inf) # Show the entire print, esp Matrix\n",
    "\n",
    "x_all = [] #(1488960, 2) Total dim is 2977920.  1488960=495*64*47\n",
    "y_all = [] \n",
    "keymodes = [] \n",
    "files = []\n",
    "\n",
    "# n_notes = len(x_all) # 1488960. Not sure if it is correct\n",
    "# print(\"n_notes!\",n_notes)\n",
    "\n",
    "# repeat the process with all the midi files\n",
    "for file in glob.glob(str(data_dir/\"**/*.mid*\")):\n",
    "\n",
    "  try:\n",
    "    # make a window to get sequence pairs (Xn, Xn+1) -> Xn+2\n",
    "    sops_data, alt, bass, keymode = read_midi(file, True, 64)\n",
    "    for song in sops_data: # sops_data shape (64, 49)\n",
    "      for i in range(len(song)-2): # range(0, 62) as song originally len 64\n",
    "        input_sequence = song[i:i+2] # (Xn, Xn +1). print [0. 0.]  shape (2,)\n",
    "        output_target = song[i+2] # Xn + 2. print 0.0  shape ()\n",
    "        \n",
    "        x_all.append(input_sequence)\n",
    "        y_all.append(output_target)\n",
    "  # throw exception for midi data which can not be used\n",
    "  except UnsupportedMidiFileException:\n",
    "    print(\"nah\")\n",
    "\n",
    "\n",
    "input_data = np.array(x_all) # shape (1488960, 2) Total dim is 2977920.  1488960=495*64*47. <class 'numpy.ndarray'>\n",
    "output_data = np.array(y_all) # shape (1488960,). <class 'numpy.ndarray'>\n",
    "\n",
    "#Reshape input data to (number_of_samples, 2, 64, 47)\n",
    "#I made it 47 cz of the calculation 1488960=495*64*47 can only satisfy the total number while it makes sense but not sure why 47 instead of 49\n",
    "input_data = input_data.reshape(-1, 2, 64, 47) # shape (495, 2, 64, 47)\n",
    "# Reshape output data to (number_of_samples, 64, 47)\n",
    "output_data = output_data.reshape(-1, 64, 47) # shape (495, 64, 47)\n",
    "\n",
    "i_train, i_test = train_test_split(range(len(input_data)),test_size=int(len(input_data)/2))\n",
    "x_train = input_data[i_train] # shape (248, 2, 64, 47)\n",
    "x_test = input_data[i_test] # shape (247, 2, 64, 47)\n",
    "y_train = output_data[i_train] # shape (248, 64, 47)\n",
    "y_test = output_data[i_test] # shape (247, 64, 47)"
   ]
  },
  {
   "cell_type": "code",
   "execution_count": 22,
   "metadata": {},
   "outputs": [],
   "source": [
    "seq_length = x_train.shape[1] # 2 -> 時系列の長さ(時間方向の要素数)\n",
    "input_dim = x_train.shape[2] # 64 -> 入力の各要素の次元数\n",
    "output_dim = y_train.shape[2] # 47-> 出力の各要素の次元数\n",
    "\n",
    "x_train = x_train.reshape(-1, 2, 64 * 47)\n",
    "x_test = x_test.reshape(-1, 2, 64 * 47)\n",
    "\n",
    "y_train = y_train.reshape(-1, 64*47)\n",
    "y_test = y_test.reshape(-1, 64*47)\n"
   ]
  },
  {
   "cell_type": "code",
   "execution_count": null,
   "metadata": {},
   "outputs": [],
   "source": [
    "# Assuming the shapes you've provided: x_train, x_test, y_train, y_test\n",
    "\n",
    "# Create an LSTM model\n",
    "model = tf.keras.Sequential()\n",
    "\n",
    "# Add an LSTM layer\n",
    "model.add(tf.keras.layers.LSTM(units=64, input_shape=(2, 64*47)))  # LSTM units can be adjusted based on the complexity of the problem\n",
    "\n",
    "# Add a dense layer for output\n",
    "model.add(tf.keras.layers.Dense(64*47, activation='softmax'))  # Adjust the output shape based on your targets\n",
    "\n",
    "# Compile the model\n",
    "model.compile(optimizer='adam', loss='categorical_crossentropy', metrics=['accuracy'])\n",
    "\n",
    "# Train the model\n",
    "model.fit(x_train, y_train, epochs=100, batch_size=32, validation_data=(x_test, y_test))\n"
   ]
  },
  {
   "cell_type": "markdown",
   "metadata": {},
   "source": [
    "### Unused Code Below>>>"
   ]
  },
  {
   "cell_type": "code",
   "execution_count": 9,
   "metadata": {},
   "outputs": [],
   "source": [
    "# \"\"\"get inputs (Xn, Xn+1) and target (Xn+2) \"\"\"\n",
    "# def make_sequences(\n",
    "#         dataset: tf.data.Dataset,\n",
    "#         seq_length:int,\n",
    "# ) -> tf.data.Dataset:\n",
    "    \n",
    "#     seq_length = seq_length+1\n",
    "\n",
    "#     windows = dataset.window(seq_length, shift=1, stride=1, drop_remainder=True)\n",
    "#     # for w in windows:\n",
    "#     #    print(f\"window!! {list(w.as_numpy_iterator())}\")\n",
    "    \n",
    "#     flatten = lambda x: x.batch(seq_length, drop_remainder=True) # Assing lambda function to the variable \"flatten\"\n",
    "#     sequences = windows.flat_map(flatten) # Flat_map falltens the \"dataset of datasets\" into a dataset of tensors\n",
    "\n",
    "#     def split_labels(sequences):\n",
    "#         inputs = sequences[:-1] # Could not see the inside as this func got in through map_func\n",
    "#         output_dense = sequences[-1]\n",
    "#         return inputs, output_dense\n",
    "    \n",
    "#     return sequences.map(split_labels, num_parallel_calls=tf.data.AUTOTUNE)"
   ]
  },
  {
   "cell_type": "code",
   "execution_count": 10,
   "metadata": {},
   "outputs": [],
   "source": [
    "# sop_tf_data = [] #  A list which contains (64 ,49) tf.daset elements\n",
    "# sop, alt, bass, keymode = read_midi(f, True, 64)\n",
    "# # sop = sop[0]\n",
    "# # sop_tf = tf.data.Dataset.from_tensor_slices(sop)\n",
    "# # print(list(sop_tf.as_numpy_iterator()))\n",
    "\n",
    "# for i in sop:\n",
    "#     sop_tf = tf.data.Dataset.from_tensor_slices(i)\n",
    "#     sop_tf_data.append(sop_tf)\n",
    "\n",
    "# # for t in sop_tf_data:\n",
    "#     # print(list(t.as_numpy_iterator()))\n"
   ]
  },
  {
   "cell_type": "code",
   "execution_count": 11,
   "metadata": {},
   "outputs": [],
   "source": [
    "# single_sop_tf = sop_tf_data[0]\n",
    "# seq_length = 2\n",
    "# # print(make_sequences(single_sop_tf, seq_length))\n",
    "\n",
    "# seq_ds = make_sequences(single_sop_tf, seq_length) # 47 elements each input n output\n",
    "# # type <'tensorflow _ParallelMapDataset'>\n",
    "# # print(seq_ds.element_spec)\n",
    "# # print(list(seq_ds.as_numpy_iterator())) # [(array([0., 0.]), 0.0), (array([0., 0.]), 0.0)...\n",
    "\n",
    "\n",
    "# inputList = []\n",
    "# targetList = []\n",
    "\n",
    "# #<Check the dataset elements>\n",
    "# for seq, target in seq_ds:\n",
    "#   # print('Input sequence shape:', seq.shape) # shape (2,), a one-dimensional array (vector) with a length of 2.\n",
    "#   # print('Input sequence elements:', seq[0: 1]) \n",
    "#   # print('target:', target) # shape ()\n",
    "#   # print()\n",
    "#   inputList.append(seq) # <class 'list'>\n",
    "#   targetList.append(target) # <class 'list'>\n",
    "\n",
    "# inputList = np.array(inputList) # <class 'numpy.ndarray'>. shape (47, 2), 2D matrix\n",
    "# targetList = np.array(targetList) # <class 'numpy.ndarray'> shape (47,), 1D scalar"
   ]
  }
 ],
 "metadata": {
  "kernelspec": {
   "display_name": "venv",
   "language": "python",
   "name": "python3"
  },
  "language_info": {
   "codemirror_mode": {
    "name": "ipython",
    "version": 3
   },
   "file_extension": ".py",
   "mimetype": "text/x-python",
   "name": "python",
   "nbconvert_exporter": "python",
   "pygments_lexer": "ipython3",
   "version": "3.9.6"
  }
 },
 "nbformat": 4,
 "nbformat_minor": 2
}
