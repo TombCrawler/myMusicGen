{
 "cells": [
  {
   "cell_type": "markdown",
   "metadata": {},
   "source": [
    "## This code is to generate a whole tune with given (Xn, Xn+1).\n",
    "The AI should predict (Xn+2) at first, then use (Xn+2) to predict (Xn+3), use (Xn+3) to predict (Xn+4) and so on..."
   ]
  },
  {
   "cell_type": "code",
   "execution_count": 2,
   "metadata": {},
   "outputs": [],
   "source": [
    "from IPython.display import display, Image\n",
    "import IPython.display as ipd\n",
    "# import fluidsynth\n",
    "from midi2audio import FluidSynth\n",
    "import glob\n",
    "import numpy as np\n",
    "import pathlib\n",
    "import pandas as pd\n",
    "from sklearn.preprocessing import OneHotEncoder\n",
    "from sklearn.model_selection import train_test_split\n",
    "import pretty_midi\n",
    "import tensorflow as tf\n",
    "\n",
    "from matplotlib import pyplot as plt\n",
    "\n",
    "# Tomb added\n",
    "import random\n",
    "import sys"
   ]
  },
  {
   "cell_type": "code",
   "execution_count": 3,
   "metadata": {},
   "outputs": [
    {
     "name": "stdout",
     "output_type": "stream",
     "text": [
      "Number of files: 498\n"
     ]
    }
   ],
   "source": [
    "#Download Chorales\n",
    "data_dir = pathlib.Path('/Volumes/MAGIC1/CS50/myMusicGen/data/chorales')\n",
    "if not data_dir.exists():\n",
    "  tf.keras.utils.get_file(\n",
    "      'midi',\n",
    "      origin='https://github.com/jamesrobertlloyd/infinite-bach/tree/master/data/chorales/midi',\n",
    "      extract=True,\n",
    "      cache_dir='.', cache_subdir='data',\n",
    "  )\n",
    "filenames = glob.glob(str(data_dir/'**/*.mid*'))\n",
    "print('Number of files:', len(filenames))"
   ]
  },
  {
   "cell_type": "code",
   "execution_count": 4,
   "metadata": {},
   "outputs": [],
   "source": [
    "class UnsupportedMidiFileException(Exception):\n",
    "  \"Unsupported MIDI File\""
   ]
  },
  {
   "cell_type": "code",
   "execution_count": 30,
   "metadata": {},
   "outputs": [],
   "source": [
    "\"\"\"Tomb made a pretty useful function\"\"\"\n",
    "def check_pianoroll_dim(pianoroll):\n",
    "        rows = len(pianoroll)  # This gives the number of rows\n",
    "        columns = len(pianoroll[0])  # This assumes all rows have the same length\n",
    "\n",
    "        print(\"Number of rows:\", rows) # represents sequence length\n",
    "        print(\"Number of columns:\", columns) # represents the 4 octave range in midi 36-83\n",
    "        print(\"Total dimesions of this pianoroll is\", rows*columns)"
   ]
  },
  {
   "cell_type": "code",
   "execution_count": 29,
   "metadata": {},
   "outputs": [],
   "source": [
    "\"\"\"Tomb made to check if there is a single one, all zeros, or multiple ones in the pitch vector\"\"\"\n",
    "\n",
    "def check_ones_zeros(array):\n",
    "    count_ones = np.count_nonzero(array == 1)\n",
    "    count_zeros = np.count_nonzero(array == 0)\n",
    "\n",
    "    if count_ones == 1 and count_zeros == array.size - 1:\n",
    "        # print(\"There is only one '1' and the rest are '0's in the array.\")\n",
    "        return True\n",
    "    elif count_zeros == array.size:\n",
    "        # print(\"All elements in the array are '0's.\")\n",
    "        return True\n",
    "    else:\n",
    "        # print(\"There are either multiple '1's or different values in the array.\")\n",
    "        return False"
   ]
  },
  {
   "cell_type": "code",
   "execution_count": 28,
   "metadata": {},
   "outputs": [],
   "source": [
    "\"\"\"Read_Midi 2\"\"\"\n",
    "\n",
    "def read_midi(filename, sop_alto, seqlen):\n",
    "  \n",
    "  def get_pianoroll(midi, nn_from, nn_thru, seqlen, tempo):\n",
    "    pianoroll = midi.get_piano_roll(fs=2*tempo/60) # shape(128, 1262) This is the core line which makes this matrix based on 8th note\n",
    "    if pianoroll.shape[1] < seqlen:\n",
    "        raise UnsupportedMidiFileException\n",
    "\n",
    "    pianoroll = pianoroll[nn_from:nn_thru, 0:seqlen] # (48, 64) Pinoroll's value still NOT binary since it has velocity\n",
    "    \n",
    "    binary_pianoroll = np.heaviside(pianoroll, 0) # converting as a binary matrix\n",
    "    transposed_pianoroll = np.transpose(binary_pianoroll) #(64, 48)\n",
    "    # transposed_pianoroll = np.transpose(pianoroll)\n",
    "    # return binary_pianoroll\n",
    "    return transposed_pianoroll # type numpy.ndarray\n",
    "\n",
    "  def add_rest_nodes(pianoroll: np.ndarray):  # If all the elemets are zero, the rest node says 1, else 0\n",
    "        \n",
    "        restList = []\n",
    "        for i in pianoroll:\n",
    "           result = check_ones_zeros(i) # Get boolen either TRUE or False\n",
    "           if result: # Meaning one \"1\" and others are zeros or all zeros \n",
    "                rests = 1 - np.sum(i)\n",
    "                # print(\"rests 1st condi\", rests)\n",
    "                restList.append(rests)\n",
    "            \n",
    "            #\"There are either multiple '1's or different values in the array.\"\n",
    "           else:\n",
    "                total_sum = np.sum(i)\n",
    "                rests = total_sum-total_sum # assign int 0 should be avoided as want the code to be dynamic\n",
    "                # print(\"rests 2nd condi\", rests)\n",
    "                restList.append(rests)\n",
    "\n",
    "        # print(type(restList))\n",
    "        restList = np.array(restList)\n",
    "        # print(restList.shape)\n",
    "        restList = np.expand_dims(restList,1)\n",
    "        # print(restList.shape)\n",
    "        \n",
    "        return np.concatenate([pianoroll, restList], axis=1)\n",
    "  \n",
    "  \n",
    "  # read midi file\n",
    "  midi = pretty_midi.PrettyMIDI(filename)\n",
    "\n",
    "  # An Exception error is thrown if there is a modulation(key change)\n",
    "  if len(midi.key_signature_changes) !=1:\n",
    "    raise UnsupportedMidiFileException\n",
    "\n",
    "  # Modulate the given key to C major or C minor\n",
    "  key_number = midi.key_signature_changes[0].key_number\n",
    "\n",
    "  # Get Major key(keynode=0) or Minor key(keynode=1)\n",
    "  keymode = np.array([int(key_number / 12)])\n",
    "\n",
    "  # The Exception error thrown when tempo changes\n",
    "  tempo_time, tempo = midi.get_tempo_changes()\n",
    "  if len(tempo) != 1:\n",
    "    raise UnsupportedMidiFileException\n",
    "  if sop_alto:\n",
    "    # The exception thrown if there are less than 2 parts\n",
    "    if len(midi.instruments) < 2:\n",
    "      raise UnsupportedMidiFileException\n",
    "    # Get pianoRoll returns numpy.ndarray\n",
    "    pr_s = get_pianoroll(midi.instruments[0], 36, 84, seqlen, tempo[0])\n",
    "    pr_a = get_pianoroll(midi.instruments[1], 36, 84, seqlen, tempo[0])\n",
    "    pr_b = get_pianoroll(midi.instruments[2], 36, 84, seqlen, tempo[0])\n",
    "    wholePart = get_pianoroll(midi, 36, 84, seqlen, tempo[0])\n",
    "    \n",
    "    sop_w_rest = add_rest_nodes(pr_s) \n",
    "    alt_w_rest = add_rest_nodes(pr_a)\n",
    "    bass_w_rest = add_rest_nodes(pr_b)\n",
    "    wholePart_w_rest = add_rest_nodes(wholePart)\n",
    "    \n",
    "    return sop_w_rest, alt_w_rest, bass_w_rest, wholePart_w_rest, keymode # All numpy.ndarray including keymode  "
   ]
  },
  {
   "cell_type": "code",
   "execution_count": 8,
   "metadata": {},
   "outputs": [
    {
     "name": "stdout",
     "output_type": "stream",
     "text": [
      "nah\n",
      "nah\n",
      "nah\n"
     ]
    }
   ],
   "source": [
    "\"\"\"Make a Window to prepare the model data. \n",
    "Make the data(i.e manipulate the model as you tell it what you want) here \n",
    "for sequences (Xn, Xn+1) -> Xn+2 and then use Xn+2 to predict Xn+3, \n",
    "Xn+3 to predict Xn+4, and so forth\"\"\"\n",
    "\n",
    "np.set_printoptions(threshold=np.inf) # Show the entire print, esp Matrix\n",
    "\n",
    "x_all = [] # (966240, 2) Total dimesions is 1932480\n",
    "y_all = [] # (966240, 49) Total dimesions is 47345760\n",
    "files = [] # Number of files 498 but for collected files, there are 3 files that SKIPPED so we'll only see 495 files. E.g (495, int, int)\n",
    "# keymodes = [] \n",
    "\n",
    "raw_seq_length =64\n",
    "\n",
    "# repeat the process with all the midi files\n",
    "for file in glob.glob(str(data_dir/\"**/*.mid*\")):\n",
    "  files.append(file)\n",
    "  try:\n",
    "    #make a window to get sequence pairs (Xn, Xn+1) -> Xn+2\n",
    "    # sop_data, alt_data, bass_data,  keymode = read_midi(file, sop_alto=True, seqlen=raw_seq_length) # For Read Midi 1\n",
    "    sop_data, alt_data, bass_data, whole_part_data, keymode = read_midi(file, sop_alto=True, seqlen=raw_seq_length) # For Read Midi 2\n",
    "    desiredData = sop_data\n",
    "    for i in range(len(desiredData)-3): # range(0, 61)\n",
    "      # Get (x1,x2) and (x3)vectors  \n",
    "      input_sequence = desiredData[i:i+2]\n",
    "      output_target = desiredData[i+2]\n",
    "      \n",
    "      x_all.append(input_sequence)\n",
    "      y_all.append(output_target)\n",
    "      \n",
    "      #After obtaining (Xn, Xn+1) -> Xn+2, generate subsequent sequences\n",
    "    for i in range(len(desiredData)-3):\n",
    "      subsequent_input = desiredData[i:i+2]\n",
    "      subsequent_output = desiredData[i+3]\n",
    "\n",
    "      x_all.append(subsequent_input)\n",
    "      y_all.append(subsequent_output)\n",
    "\n",
    "  # throw exception for midi data which can not be used\n",
    "  except UnsupportedMidiFileException:\n",
    "    print(\"nah\")\n",
    "\n",
    "# n_notes = len(x_all) # 966240\n",
    "# print(check_pianoroll_dim(x_all)) \n",
    "# print(check_pianoroll_dim(y_all))\n",
    "# print(\"Number of files\",len(files))\n",
    "# print(\"n_notes!\",n_notes)"
   ]
  },
  {
   "cell_type": "code",
   "execution_count": 20,
   "metadata": {},
   "outputs": [],
   "source": [
    "input_data = np.array(x_all) # (60390, 2, 49)\n",
    "output_data = []\n",
    "\n",
    "for i in range(len(y_all)): # range(0, 60390)\n",
    "    output_seq = y_all[i:i + 62]  # output_seq shape(62, 49) Adjust the sequence length as needed\n",
    "    if len(output_seq) == 62:\n",
    "        output_data.append(output_seq)\n",
    "\n",
    "output_data = np.array(output_data)  # shape (60390, 62, 49)\n",
    "\n",
    "max_index = min(len(input_data), len(output_data)) # 60329\n",
    "i_train, i_test = train_test_split(range(max_index),test_size=int(max_index/2)) # i_train, i_test len both 30195\n",
    "\n",
    "x_train = input_data[i_train] # <'numpy.ndarray'> (30195, 2, 49)\n",
    "x_test = input_data[i_test] # <'numpy.ndarray'> (30195, 2, 49)\n",
    "\n",
    "y_train = output_data[i_train] # (30165, 62, 49)\n",
    "y_test = output_data[i_test] # (30164, 62, 49)\n",
    "\n",
    "# # <<<reshape>>>\n",
    "# x_train_reshaped = x_train.reshape(-1,2, 49)  # Reshape to sequences of 2 elements\n",
    "# x_test_reshaped = x_test.reshape(-1, 2, 49)\n",
    "# # Reshape y_train and y_test to match the output shape\n",
    "# y_train_reshaped = y_train.reshape(-1, 49)  # Reshape to target for each sequence\n",
    "# y_test_reshaped = y_test.reshape(-1, 49)"
   ]
  },
  {
   "cell_type": "code",
   "execution_count": 21,
   "metadata": {},
   "outputs": [
    {
     "name": "stdout",
     "output_type": "stream",
     "text": [
      "62\n"
     ]
    }
   ],
   "source": [
    "seq_length = x_train.shape[1] #int 2 # How many sequences for input features\n",
    "pitch_range = x_train.shape[2] # or simply int 49\n",
    "output_dim = y_train.shape[1] #62"
   ]
  },
  {
   "cell_type": "code",
   "execution_count": 51,
   "metadata": {},
   "outputs": [],
   "source": [
    "# Define the model\n",
    "model = tf.keras.Sequential()\n",
    "\n",
    "# Add an LSTM layer\n",
    "model.add(tf.keras.layers.LSTM(128, input_shape=(2, 49)))  # Adjust units (128) based on your task\n",
    "\n",
    "# Output layer\n",
    "model.add(tf.keras.layers.Dense(62 * 49, activation='sigmoid'))  # Adjust output size based on your task\n",
    "\n",
    "# Reshape the output to match the sequence length and features\n",
    "model.add(tf.keras.layers.Reshape((62, 49)))\n",
    "\n",
    "# Compile the model\n",
    "model.compile(optimizer='adam', loss='mean_squared_error', metrics=['accuracy'])\n",
    "\n",
    "# Train the model\n",
    "# model.fit(x_train, y_train, epochs=10, batch_size=32, validation_data=(x_test, y_test))\n"
   ]
  },
  {
   "cell_type": "code",
   "execution_count": 52,
   "metadata": {},
   "outputs": [
    {
     "name": "stdout",
     "output_type": "stream",
     "text": [
      "943/943 [==============================] - 2s 1ms/step - loss: 0.2500 - accuracy: 0.0232\n",
      "Epoch 1/50\n",
      "943/943 [==============================] - 6s 5ms/step - loss: 0.0311 - accuracy: 0.1377 - val_loss: 0.0186 - val_accuracy: 0.1593\n",
      "Epoch 2/50\n",
      "943/943 [==============================] - 4s 4ms/step - loss: 0.0184 - accuracy: 0.1786 - val_loss: 0.0183 - val_accuracy: 0.1876\n",
      "Epoch 3/50\n",
      "943/943 [==============================] - 4s 5ms/step - loss: 0.0182 - accuracy: 0.1939 - val_loss: 0.0181 - val_accuracy: 0.2035\n",
      "Epoch 4/50\n",
      "943/943 [==============================] - 4s 4ms/step - loss: 0.0181 - accuracy: 0.2071 - val_loss: 0.0180 - val_accuracy: 0.2104\n",
      "Epoch 5/50\n",
      "943/943 [==============================] - 4s 5ms/step - loss: 0.0180 - accuracy: 0.2109 - val_loss: 0.0180 - val_accuracy: 0.2129\n",
      "Epoch 6/50\n",
      "943/943 [==============================] - 4s 4ms/step - loss: 0.0180 - accuracy: 0.2135 - val_loss: 0.0179 - val_accuracy: 0.2153\n",
      "Epoch 7/50\n",
      "943/943 [==============================] - 4s 4ms/step - loss: 0.0179 - accuracy: 0.2159 - val_loss: 0.0179 - val_accuracy: 0.2178\n",
      "Epoch 8/50\n",
      "943/943 [==============================] - 4s 4ms/step - loss: 0.0179 - accuracy: 0.2189 - val_loss: 0.0179 - val_accuracy: 0.2202\n",
      "Epoch 9/50\n",
      "943/943 [==============================] - 4s 4ms/step - loss: 0.0179 - accuracy: 0.2207 - val_loss: 0.0179 - val_accuracy: 0.2216\n",
      "Epoch 10/50\n",
      "943/943 [==============================] - 4s 4ms/step - loss: 0.0179 - accuracy: 0.2219 - val_loss: 0.0179 - val_accuracy: 0.2223\n",
      "Epoch 11/50\n",
      "943/943 [==============================] - 4s 4ms/step - loss: 0.0179 - accuracy: 0.2233 - val_loss: 0.0178 - val_accuracy: 0.2234\n",
      "Epoch 12/50\n",
      "943/943 [==============================] - 4s 4ms/step - loss: 0.0178 - accuracy: 0.2243 - val_loss: 0.0178 - val_accuracy: 0.2245\n",
      "Epoch 13/50\n",
      "943/943 [==============================] - 4s 4ms/step - loss: 0.0178 - accuracy: 0.2249 - val_loss: 0.0178 - val_accuracy: 0.2243\n",
      "Epoch 14/50\n",
      "943/943 [==============================] - 4s 4ms/step - loss: 0.0178 - accuracy: 0.2252 - val_loss: 0.0178 - val_accuracy: 0.2247\n",
      "Epoch 15/50\n",
      "943/943 [==============================] - 4s 5ms/step - loss: 0.0178 - accuracy: 0.2259 - val_loss: 0.0178 - val_accuracy: 0.2255\n",
      "Epoch 16/50\n",
      "943/943 [==============================] - 4s 4ms/step - loss: 0.0178 - accuracy: 0.2262 - val_loss: 0.0178 - val_accuracy: 0.2257\n",
      "Epoch 17/50\n",
      "943/943 [==============================] - 4s 4ms/step - loss: 0.0178 - accuracy: 0.2265 - val_loss: 0.0178 - val_accuracy: 0.2258\n",
      "Epoch 18/50\n",
      "943/943 [==============================] - 4s 4ms/step - loss: 0.0178 - accuracy: 0.2269 - val_loss: 0.0178 - val_accuracy: 0.2262\n",
      "Epoch 19/50\n",
      "943/943 [==============================] - 4s 4ms/step - loss: 0.0178 - accuracy: 0.2274 - val_loss: 0.0178 - val_accuracy: 0.2263\n",
      "Epoch 20/50\n",
      "943/943 [==============================] - 4s 4ms/step - loss: 0.0178 - accuracy: 0.2272 - val_loss: 0.0178 - val_accuracy: 0.2260\n",
      "Epoch 21/50\n",
      "943/943 [==============================] - 4s 4ms/step - loss: 0.0178 - accuracy: 0.2277 - val_loss: 0.0178 - val_accuracy: 0.2264\n",
      "Epoch 22/50\n",
      "943/943 [==============================] - 4s 4ms/step - loss: 0.0178 - accuracy: 0.2277 - val_loss: 0.0178 - val_accuracy: 0.2268\n",
      "Epoch 23/50\n",
      "943/943 [==============================] - 4s 4ms/step - loss: 0.0178 - accuracy: 0.2280 - val_loss: 0.0178 - val_accuracy: 0.2266\n",
      "Epoch 24/50\n",
      "943/943 [==============================] - 4s 4ms/step - loss: 0.0178 - accuracy: 0.2281 - val_loss: 0.0178 - val_accuracy: 0.2268\n",
      "Epoch 25/50\n",
      "943/943 [==============================] - 4s 4ms/step - loss: 0.0178 - accuracy: 0.2285 - val_loss: 0.0178 - val_accuracy: 0.2264\n",
      "Epoch 26/50\n",
      "943/943 [==============================] - 4s 4ms/step - loss: 0.0178 - accuracy: 0.2285 - val_loss: 0.0178 - val_accuracy: 0.2270\n",
      "Epoch 27/50\n",
      "943/943 [==============================] - 4s 4ms/step - loss: 0.0178 - accuracy: 0.2290 - val_loss: 0.0178 - val_accuracy: 0.2271\n",
      "Epoch 28/50\n",
      "943/943 [==============================] - 4s 4ms/step - loss: 0.0178 - accuracy: 0.2290 - val_loss: 0.0178 - val_accuracy: 0.2265\n",
      "Epoch 29/50\n",
      "943/943 [==============================] - 4s 4ms/step - loss: 0.0178 - accuracy: 0.2293 - val_loss: 0.0178 - val_accuracy: 0.2274\n",
      "Epoch 30/50\n",
      "943/943 [==============================] - 4s 4ms/step - loss: 0.0178 - accuracy: 0.2295 - val_loss: 0.0178 - val_accuracy: 0.2275\n",
      "Epoch 31/50\n",
      "943/943 [==============================] - 4s 4ms/step - loss: 0.0178 - accuracy: 0.2297 - val_loss: 0.0178 - val_accuracy: 0.2278\n",
      "Epoch 32/50\n",
      "943/943 [==============================] - 4s 4ms/step - loss: 0.0178 - accuracy: 0.2298 - val_loss: 0.0178 - val_accuracy: 0.2274\n",
      "Epoch 33/50\n",
      "943/943 [==============================] - 4s 4ms/step - loss: 0.0178 - accuracy: 0.2302 - val_loss: 0.0178 - val_accuracy: 0.2275\n",
      "Epoch 34/50\n",
      "943/943 [==============================] - 4s 4ms/step - loss: 0.0178 - accuracy: 0.2304 - val_loss: 0.0178 - val_accuracy: 0.2273\n",
      "Epoch 35/50\n",
      "943/943 [==============================] - 4s 4ms/step - loss: 0.0178 - accuracy: 0.2304 - val_loss: 0.0178 - val_accuracy: 0.2277\n",
      "Epoch 36/50\n",
      "943/943 [==============================] - 4s 4ms/step - loss: 0.0178 - accuracy: 0.2307 - val_loss: 0.0178 - val_accuracy: 0.2281\n",
      "Epoch 37/50\n",
      "943/943 [==============================] - 4s 4ms/step - loss: 0.0178 - accuracy: 0.2308 - val_loss: 0.0178 - val_accuracy: 0.2275\n",
      "Epoch 38/50\n",
      "943/943 [==============================] - 4s 4ms/step - loss: 0.0178 - accuracy: 0.2310 - val_loss: 0.0178 - val_accuracy: 0.2271\n",
      "Epoch 39/50\n",
      "943/943 [==============================] - 4s 4ms/step - loss: 0.0178 - accuracy: 0.2311 - val_loss: 0.0178 - val_accuracy: 0.2278\n",
      "Epoch 40/50\n",
      "943/943 [==============================] - 4s 4ms/step - loss: 0.0178 - accuracy: 0.2313 - val_loss: 0.0178 - val_accuracy: 0.2281\n",
      "Epoch 41/50\n",
      "943/943 [==============================] - 4s 4ms/step - loss: 0.0178 - accuracy: 0.2314 - val_loss: 0.0178 - val_accuracy: 0.2278\n",
      "Epoch 42/50\n",
      "943/943 [==============================] - 4s 4ms/step - loss: 0.0178 - accuracy: 0.2315 - val_loss: 0.0178 - val_accuracy: 0.2278\n",
      "Epoch 43/50\n",
      "943/943 [==============================] - 4s 4ms/step - loss: 0.0177 - accuracy: 0.2317 - val_loss: 0.0178 - val_accuracy: 0.2280\n",
      "Epoch 44/50\n",
      "943/943 [==============================] - 4s 4ms/step - loss: 0.0177 - accuracy: 0.2318 - val_loss: 0.0178 - val_accuracy: 0.2274\n",
      "Epoch 45/50\n",
      "943/943 [==============================] - 4s 4ms/step - loss: 0.0177 - accuracy: 0.2319 - val_loss: 0.0178 - val_accuracy: 0.2278\n",
      "Epoch 46/50\n",
      "943/943 [==============================] - 4s 4ms/step - loss: 0.0177 - accuracy: 0.2324 - val_loss: 0.0178 - val_accuracy: 0.2281\n",
      "Epoch 47/50\n",
      "943/943 [==============================] - 4s 4ms/step - loss: 0.0177 - accuracy: 0.2323 - val_loss: 0.0178 - val_accuracy: 0.2276\n",
      "Epoch 48/50\n",
      "943/943 [==============================] - 4s 4ms/step - loss: 0.0177 - accuracy: 0.2325 - val_loss: 0.0178 - val_accuracy: 0.2281\n",
      "Epoch 49/50\n",
      "943/943 [==============================] - 4s 4ms/step - loss: 0.0177 - accuracy: 0.2327 - val_loss: 0.0178 - val_accuracy: 0.2283\n",
      "Epoch 50/50\n",
      "943/943 [==============================] - 4s 4ms/step - loss: 0.0177 - accuracy: 0.2330 - val_loss: 0.0178 - val_accuracy: 0.2278\n",
      "943/943 [==============================] - 1s 1ms/step - loss: 0.0177 - accuracy: 0.2344\n"
     ]
    },
    {
     "data": {
      "text/plain": [
       "{'loss': 0.017718616873025894, 'accuracy': 0.23442570865154266}"
      ]
     },
     "execution_count": 52,
     "metadata": {},
     "output_type": "execute_result"
    }
   ],
   "source": [
    "# Train the model\n",
    "\n",
    "callbacks = [tf.keras.callbacks.ModelCheckpoint(\n",
    "        filepath=\"./training_checkpoints/ckpt_{epoch}\",\n",
    "        save_weights_only=True\n",
    "    ),\n",
    "    tf.keras.callbacks.EarlyStopping(\n",
    "        monitor=\"loss\",\n",
    "        patience=5,\n",
    "        verbose=1,\n",
    "        restore_best_weights=True\n",
    "    )]\n",
    "\n",
    "epochs = 50\n",
    "batch_size = 32\n",
    "\n",
    "model.evaluate(x_train, y_train, return_dict=True)\n",
    "\n",
    "history = model.fit(\n",
    "    x_train, y_train, \n",
    "    batch_size=batch_size, \n",
    "    epochs=epochs, \n",
    "    callbacks=callbacks,\n",
    "    validation_data=(x_test, y_test))\n",
    "\n",
    "model.evaluate(x_train, y_train, return_dict=True)"
   ]
  },
  {
   "cell_type": "code",
   "execution_count": 53,
   "metadata": {},
   "outputs": [
    {
     "data": {
      "image/png": "[encoded data removed]",
      "text/plain": [
       "<Figure size 640x480 with 1 Axes>"
      ]
     },
     "metadata": {},
     "output_type": "display_data"
    }
   ],
   "source": [
    "plt.plot(history.epoch, history.history['accuracy'], label='total loss')\n",
    "plt.show()"
   ]
  },
  {
   "cell_type": "code",
   "execution_count": 54,
   "metadata": {},
   "outputs": [
    {
     "name": "stdout",
     "output_type": "stream",
     "text": [
      "943/943 [==============================] - 1s 1ms/step\n",
      "(30164, 62, 49)\n"
     ]
    }
   ],
   "source": [
    "y_pred = model.predict(x_test) # y pred shape (30164, 62, 49) <class 'numpy.ndarray'>\n",
    "print(y_pred.shape)"
   ]
  },
  {
   "cell_type": "code",
   "execution_count": 55,
   "metadata": {},
   "outputs": [],
   "source": [
    "\"\"\"Renamed as play_midi as the new viersion of the show_play func, \n",
    "<show> per se will be worked on later, maybe I want it to be a musical score\"\"\"\n",
    "\n",
    "_SAMPLING_RATE = 16000\n",
    "# make a fucntion to be able to do so\n",
    "def play_midi(x_test:np.array, y_pred: np.array, filename): #pianorolls shape(1,48)\n",
    "  \n",
    "  def make_midi(x_test:np.array, y_pred:np.array, filename): #pianorolls shape (1,48)\n",
    "      midi = pretty_midi.PrettyMIDI(resolution=480)\n",
    "      instr = pretty_midi.Instrument(program=1)\n",
    "      \n",
    "\n",
    "      for index, test_vector in enumerate(x_test): # done!\n",
    "        # print(\"test vec\",test_vector)\n",
    "        for i in range(len(test_vector)): # the test_vector shape is similar to prPred   \n",
    "            if test_vector[i] > 0.5:\n",
    "                print(\"x test idex!!\", i)\n",
    "                instr.notes.append(pretty_midi.Note(start=0.5*index,\n",
    "                                                        end=0.5*(index+1),\n",
    "                                                        pitch=36+i,\n",
    "                                                        velocity=100)) \n",
    "      for j in range(len(y_pred)): #range(0, 48)\n",
    "      # We are getting prob distribution between 0-1. Keep notes closer to 1, dump notes closer to 0\n",
    "      # 0.5 is only a threshold, coud be any number between 0-1 \n",
    "      # print(\"pr i\",pianoroll[i])\n",
    "        if y_pred[j] > 0.5: # check the TS note how it looks like\n",
    "            print(\"Got y value!!!!!!!\", y_pred[j])\n",
    "            # print(\"pianoroll>0.5\",pianoroll[i])\n",
    "            print(\"y pred index!!\",j)\n",
    "            duration_balance=0.5\n",
    "            instr.notes.append(pretty_midi.Note(start=(0.5*index)+duration_balance,\n",
    "                                                end=0.5*(index+1)+duration_balance,\n",
    "                                                pitch=36+j,\n",
    "                                            velocity=100)) \n",
    "                                         \n",
    "      midi.instruments.append(instr)\n",
    "      \n",
    "      midi.write(f\"{filename}.mid\")\n",
    "\n",
    "  \n",
    "  ##Save the midi data into a file, the file name is given in the next cell as output.midi\n",
    "  make_midi(x_test, y_pred, filename)\n",
    "\n",
    "  # Convert MIDI to Wav so that you can listen to it on web browser\n",
    "  fs = FluidSynth(sound_font=\"/Volumes/MAGIC1/FluidR3_GM/FluidR3_GM.sf2\")\n",
    "  fs.midi_to_audio(f\"{filename}.mid\", f\"{filename}.wav\")\n",
    "\n",
    "  ipd.display(ipd.Audio(f\"{filename}.wav\", rate=_SAMPLING_RATE))"
   ]
  },
  {
   "cell_type": "code",
   "execution_count": 56,
   "metadata": {},
   "outputs": [
    {
     "name": "stdout",
     "output_type": "stream",
     "text": [
      "x test idex!! 33\n",
      "x test idex!! 33\n"
     ]
    },
    {
     "ename": "ValueError",
     "evalue": "The truth value of an array with more than one element is ambiguous. Use a.any() or a.all()",
     "output_type": "error",
     "traceback": [
      "\u001b[0;31m---------------------------------------------------------------------------\u001b[0m",
      "\u001b[0;31mValueError\u001b[0m                                Traceback (most recent call last)",
      "Cell \u001b[0;32mIn[56], line 3\u001b[0m\n\u001b[1;32m      1\u001b[0m k \u001b[38;5;241m=\u001b[39m random\u001b[38;5;241m.\u001b[39mrandint(\u001b[38;5;241m0\u001b[39m, \u001b[38;5;28mlen\u001b[39m(x_test)) \u001b[38;5;66;03m# x_test shape (30195, 2, 49), y_pred (30195, 49)\u001b[39;00m\n\u001b[0;32m----> 3\u001b[0m \u001b[43mplay_midi\u001b[49m\u001b[43m(\u001b[49m\u001b[43mx_test\u001b[49m\u001b[43m[\u001b[49m\u001b[43mk\u001b[49m\u001b[43m]\u001b[49m\u001b[43m,\u001b[49m\u001b[43m \u001b[49m\u001b[43my_pred\u001b[49m\u001b[43m[\u001b[49m\u001b[43mk\u001b[49m\u001b[43m]\u001b[49m\u001b[43m,\u001b[49m\n\u001b[1;32m      4\u001b[0m \u001b[38;5;124;43m\"\u001b[39;49m\u001b[38;5;124;43mdata/output_KP3\u001b[39;49m\u001b[38;5;124;43m\"\u001b[39;49m\u001b[43m)\u001b[49m\n",
      "Cell \u001b[0;32mIn[55], line 42\u001b[0m, in \u001b[0;36mplay_midi\u001b[0;34m(x_test, y_pred, filename)\u001b[0m\n\u001b[1;32m     38\u001b[0m     midi\u001b[38;5;241m.\u001b[39mwrite(\u001b[38;5;124mf\u001b[39m\u001b[38;5;124m\"\u001b[39m\u001b[38;5;132;01m{\u001b[39;00mfilename\u001b[38;5;132;01m}\u001b[39;00m\u001b[38;5;124m.mid\u001b[39m\u001b[38;5;124m\"\u001b[39m)\n\u001b[1;32m     41\u001b[0m \u001b[38;5;66;03m##Save the midi data into a file, the file name is given in the next cell as output.midi\u001b[39;00m\n\u001b[0;32m---> 42\u001b[0m \u001b[43mmake_midi\u001b[49m\u001b[43m(\u001b[49m\u001b[43mx_test\u001b[49m\u001b[43m,\u001b[49m\u001b[43m \u001b[49m\u001b[43my_pred\u001b[49m\u001b[43m,\u001b[49m\u001b[43m \u001b[49m\u001b[43mfilename\u001b[49m\u001b[43m)\u001b[49m\n\u001b[1;32m     44\u001b[0m \u001b[38;5;66;03m# Convert MIDI to Wav so that you can listen to it on web browser\u001b[39;00m\n\u001b[1;32m     45\u001b[0m fs \u001b[38;5;241m=\u001b[39m FluidSynth(sound_font\u001b[38;5;241m=\u001b[39m\u001b[38;5;124m\"\u001b[39m\u001b[38;5;124m/Volumes/MAGIC1/FluidR3_GM/FluidR3_GM.sf2\u001b[39m\u001b[38;5;124m\"\u001b[39m)\n",
      "Cell \u001b[0;32mIn[55], line 26\u001b[0m, in \u001b[0;36mplay_midi.<locals>.make_midi\u001b[0;34m(x_test, y_pred, filename)\u001b[0m\n\u001b[1;32m     18\u001b[0m           instr\u001b[38;5;241m.\u001b[39mnotes\u001b[38;5;241m.\u001b[39mappend(pretty_midi\u001b[38;5;241m.\u001b[39mNote(start\u001b[38;5;241m=\u001b[39m\u001b[38;5;241m0.5\u001b[39m\u001b[38;5;241m*\u001b[39mindex,\n\u001b[1;32m     19\u001b[0m                                                   end\u001b[38;5;241m=\u001b[39m\u001b[38;5;241m0.5\u001b[39m\u001b[38;5;241m*\u001b[39m(index\u001b[38;5;241m+\u001b[39m\u001b[38;5;241m1\u001b[39m),\n\u001b[1;32m     20\u001b[0m                                                   pitch\u001b[38;5;241m=\u001b[39m\u001b[38;5;241m36\u001b[39m\u001b[38;5;241m+\u001b[39mi,\n\u001b[1;32m     21\u001b[0m                                                   velocity\u001b[38;5;241m=\u001b[39m\u001b[38;5;241m100\u001b[39m)) \n\u001b[1;32m     22\u001b[0m \u001b[38;5;28;01mfor\u001b[39;00m j \u001b[38;5;129;01min\u001b[39;00m \u001b[38;5;28mrange\u001b[39m(\u001b[38;5;28mlen\u001b[39m(y_pred)): \u001b[38;5;66;03m#range(0, 48)\u001b[39;00m\n\u001b[1;32m     23\u001b[0m \u001b[38;5;66;03m# We are getting prob distribution between 0-1. Keep notes closer to 1, dump notes closer to 0\u001b[39;00m\n\u001b[1;32m     24\u001b[0m \u001b[38;5;66;03m# 0.5 is only a threshold, coud be any number between 0-1 \u001b[39;00m\n\u001b[1;32m     25\u001b[0m \u001b[38;5;66;03m# print(\"pr i\",pianoroll[i])\u001b[39;00m\n\u001b[0;32m---> 26\u001b[0m   \u001b[38;5;28;01mif\u001b[39;00m y_pred[j] \u001b[38;5;241m>\u001b[39m \u001b[38;5;241m0.5\u001b[39m: \u001b[38;5;66;03m# check the TS note how it looks like\u001b[39;00m\n\u001b[1;32m     27\u001b[0m       \u001b[38;5;28mprint\u001b[39m(\u001b[38;5;124m\"\u001b[39m\u001b[38;5;124mGot y value!!!!!!!\u001b[39m\u001b[38;5;124m\"\u001b[39m, y_pred[j])\n\u001b[1;32m     28\u001b[0m       \u001b[38;5;66;03m# print(\"pianoroll>0.5\",pianoroll[i])\u001b[39;00m\n",
      "\u001b[0;31mValueError\u001b[0m: The truth value of an array with more than one element is ambiguous. Use a.any() or a.all()"
     ]
    }
   ],
   "source": [
    "k = random.randint(0, len(x_test)) # x_test shape (30195, 2, 49), y_pred (30195, 49)\n",
    "\n",
    "play_midi(x_test[k], y_pred[k],\n",
    "\"data/output_KP3\")"
   ]
  },
  {
   "cell_type": "markdown",
   "metadata": {},
   "source": [
    "### --Unused or test code below---"
   ]
  }
 ],
 "metadata": {
  "kernelspec": {
   "display_name": "venv",
   "language": "python",
   "name": "python3"
  },
  "language_info": {
   "codemirror_mode": {
    "name": "ipython",
    "version": 3
   },
   "file_extension": ".py",
   "mimetype": "text/x-python",
   "name": "python",
   "nbconvert_exporter": "python",
   "pygments_lexer": "ipython3",
   "version": "3.9.6"
  }
 },
 "nbformat": 4,
 "nbformat_minor": 2
}
