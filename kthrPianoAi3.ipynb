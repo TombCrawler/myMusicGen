{
 "cells": [
  {
   "cell_type": "markdown",
   "metadata": {},
   "source": [
    "## This code is to generate a whole tune with given (Xn, Xn+1).\n",
    "The AI should predict (Xn+2) at first, then use (Xn+2) to predict (Xn+3), use (Xn+3) to predict (Xn+4) and so on..."
   ]
  },
  {
   "cell_type": "code",
   "execution_count": 1,
   "metadata": {},
   "outputs": [],
   "source": [
    "from IPython.display import display, Image\n",
    "import IPython.display as ipd\n",
    "# import fluidsynth\n",
    "from midi2audio import FluidSynth\n",
    "import glob\n",
    "import numpy as np\n",
    "import pathlib\n",
    "import pandas as pd\n",
    "from sklearn.preprocessing import OneHotEncoder\n",
    "from sklearn.model_selection import train_test_split\n",
    "import pretty_midi\n",
    "import tensorflow as tf\n",
    "\n",
    "from matplotlib import pyplot as plt\n",
    "\n",
    "# Tomb added\n",
    "import random"
   ]
  },
  {
   "cell_type": "code",
   "execution_count": 5,
   "metadata": {},
   "outputs": [
    {
     "name": "stdout",
     "output_type": "stream",
     "text": [
      "Number of files: 498\n"
     ]
    }
   ],
   "source": [
    "#Download Chorales\n",
    "data_dir = pathlib.Path('/Volumes/MAGIC1/CS50/myMusicGen/data/chorales')\n",
    "if not data_dir.exists():\n",
    "  tf.keras.utils.get_file(\n",
    "      'midi',\n",
    "      origin='https://github.com/jamesrobertlloyd/infinite-bach/tree/master/data/chorales/midi',\n",
    "      extract=True,\n",
    "      cache_dir='.', cache_subdir='data',\n",
    "  )\n",
    "filenames = glob.glob(str(data_dir/'**/*.mid*'))\n",
    "print('Number of files:', len(filenames))"
   ]
  },
  {
   "cell_type": "code",
   "execution_count": 6,
   "metadata": {},
   "outputs": [],
   "source": [
    "class UnsupportedMidiFileException(Exception):\n",
    "  \"Unsupported MIDI File\""
   ]
  },
  {
   "cell_type": "code",
   "execution_count": 7,
   "metadata": {},
   "outputs": [],
   "source": [
    "\"\"\"Tomb made a pretty useful function\"\"\"\n",
    "def check_pianoroll_dim(pianoroll):\n",
    "        rows = len(pianoroll)  # This gives the number of rows\n",
    "        columns = len(pianoroll[0])  # This assumes all rows have the same length\n",
    "\n",
    "        print(\"Number of rows:\", rows) # represents sequence length\n",
    "        print(\"Number of columns:\", columns) # represents the 4 octave range in midi 36-83\n",
    "        print(\"Total dimesions of this pianoroll is\", rows*columns)"
   ]
  },
  {
   "cell_type": "code",
   "execution_count": 8,
   "metadata": {},
   "outputs": [],
   "source": [
    "\"\"\"Tomb made to check if there is a single one, all zeros, or multiple ones in the pitch vector\"\"\"\n",
    "\n",
    "def check_ones_zeros(array):\n",
    "    count_ones = np.count_nonzero(array == 1)\n",
    "    count_zeros = np.count_nonzero(array == 0)\n",
    "\n",
    "    if count_ones == 1 and count_zeros == array.size - 1:\n",
    "        # print(\"There is only one '1' and the rest are '0's in the array.\")\n",
    "        return True\n",
    "    elif count_zeros == array.size:\n",
    "        # print(\"All elements in the array are '0's.\")\n",
    "        return True\n",
    "    else:\n",
    "        # print(\"There are either multiple '1's or different values in the array.\")\n",
    "        return False"
   ]
  },
  {
   "cell_type": "code",
   "execution_count": 9,
   "metadata": {},
   "outputs": [],
   "source": [
    "\"\"\"Read_Midi 2\"\"\"\n",
    "\n",
    "def read_midi(filename, sop_alto, seqlen):\n",
    "  \n",
    "  def get_pianoroll(midi, nn_from, nn_thru, seqlen, tempo):\n",
    "    pianoroll = midi.get_piano_roll(fs=2*tempo/60) # shape(128, 1262) This is the core line which makes this matrix based on 8th note\n",
    "    if pianoroll.shape[1] < seqlen:\n",
    "        raise UnsupportedMidiFileException\n",
    "\n",
    "    pianoroll = pianoroll[nn_from:nn_thru, 0:seqlen] # (48, 64) Pinoroll's value still NOT binary since it has velocity\n",
    "    \n",
    "    binary_pianoroll = np.heaviside(pianoroll, 0) # converting as a binary matrix\n",
    "    transposed_pianoroll = np.transpose(binary_pianoroll) #(64, 48)\n",
    "    # transposed_pianoroll = np.transpose(pianoroll)\n",
    "    # return binary_pianoroll\n",
    "    return transposed_pianoroll # type numpy.ndarray\n",
    "\n",
    "  def add_rest_nodes(pianoroll: np.ndarray):  # If all the elemets are zero, the rest node says 1, else 0\n",
    "        \n",
    "        restList = []\n",
    "        for i in pianoroll:\n",
    "           result = check_ones_zeros(i) # Get boolen either TRUE or False\n",
    "           if result: # Meaning one \"1\" and others are zeros or all zeros \n",
    "                rests = 1 - np.sum(i)\n",
    "                # print(\"rests 1st condi\", rests)\n",
    "                restList.append(rests)\n",
    "            \n",
    "            #\"There are either multiple '1's or different values in the array.\"\n",
    "           else:\n",
    "                total_sum = np.sum(i)\n",
    "                rests = total_sum-total_sum # assign int 0 should be avoided as want the code to be dynamic\n",
    "                # print(\"rests 2nd condi\", rests)\n",
    "                restList.append(rests)\n",
    "\n",
    "        # print(type(restList))\n",
    "        restList = np.array(restList)\n",
    "        # print(restList.shape)\n",
    "        restList = np.expand_dims(restList,1)\n",
    "        # print(restList.shape)\n",
    "        \n",
    "        return np.concatenate([pianoroll, restList], axis=1)\n",
    "  \n",
    "  \n",
    "  # read midi file\n",
    "  midi = pretty_midi.PrettyMIDI(filename)\n",
    "\n",
    "  # An Exception error is thrown if there is a modulation(key change)\n",
    "  if len(midi.key_signature_changes) !=1:\n",
    "    raise UnsupportedMidiFileException\n",
    "\n",
    "  # Modulate the given key to C major or C minor\n",
    "  key_number = midi.key_signature_changes[0].key_number\n",
    "\n",
    "  # Get Major key(keynode=0) or Minor key(keynode=1)\n",
    "  keymode = np.array([int(key_number / 12)])\n",
    "\n",
    "  # The Exception error thrown when tempo changes\n",
    "  tempo_time, tempo = midi.get_tempo_changes()\n",
    "  if len(tempo) != 1:\n",
    "    raise UnsupportedMidiFileException\n",
    "  if sop_alto:\n",
    "    # The exception thrown if there are less than 2 parts\n",
    "    if len(midi.instruments) < 2:\n",
    "      raise UnsupportedMidiFileException\n",
    "    # Get pianoRoll returns numpy.ndarray\n",
    "    pr_s = get_pianoroll(midi.instruments[0], 36, 84, seqlen, tempo[0])\n",
    "    pr_a = get_pianoroll(midi.instruments[1], 36, 84, seqlen, tempo[0])\n",
    "    pr_b = get_pianoroll(midi.instruments[2], 36, 84, seqlen, tempo[0])\n",
    "    wholePart = get_pianoroll(midi, 36, 84, seqlen, tempo[0])\n",
    "    \n",
    "    sop_w_rest = add_rest_nodes(pr_s) \n",
    "    alt_w_rest = add_rest_nodes(pr_a)\n",
    "    bass_w_rest = add_rest_nodes(pr_b)\n",
    "    wholePart_w_rest = add_rest_nodes(wholePart)\n",
    "    \n",
    "    return sop_w_rest, alt_w_rest, bass_w_rest, wholePart_w_rest, keymode # All numpy.ndarray including keymode  "
   ]
  },
  {
   "cell_type": "code",
   "execution_count": 25,
   "metadata": {},
   "outputs": [
    {
     "name": "stdout",
     "output_type": "stream",
     "text": [
      "nah\n",
      "nah\n",
      "nah\n",
      "Number of rows: 30195\n",
      "Number of columns: 2\n",
      "Total dimesions of this pianoroll is 60390\n",
      "None\n",
      "30195\n"
     ]
    }
   ],
   "source": [
    "\"\"\"Get the ingredients. \n",
    "Make the data(i.e manipulate the model as you tell it what you want) here for predict the 3rd note with given (x1,x2). \n",
    "Make list1 that has (xn, xn+1) pair elements \n",
    "and list2 which has (xn+2) elements\"\"\"\n",
    "\n",
    "np.set_printoptions(threshold=np.inf) # Show the entire print, esp Matrix\n",
    "\n",
    "x_all = [] \n",
    "y_all = [] \n",
    "files = [] # Number of files 498 but for collected files, there are 3 files that SKIPPED so we'll only see 495 files. E.g (495, int, int)\n",
    "# keymodes = [] \n",
    "\n",
    "raw_seq_length =64\n",
    "\n",
    "# repeat the process with all the midi files\n",
    "for file in glob.glob(str(data_dir/\"**/*.mid*\")):\n",
    "  files.append(file)\n",
    "  try:\n",
    "    #make a window to get sequence pairs (Xn, Xn+1) -> Xn+2\n",
    "    # sop_data, alt_data, bass_data,  keymode = read_midi(file, sop_alto=True, seqlen=raw_seq_length) # For Read Midi 1\n",
    "    sop_data, alt_data, bass_data, whole_part_data, keymode = read_midi(file, sop_alto=True, seqlen=raw_seq_length) # For Read Midi 2\n",
    "    desiredData = whole_part_data\n",
    "    for i in range(len(desiredData)-3): # range(0, 62)\n",
    "   \n",
    "      # Get (x1,x2) and (x3)vectors  \n",
    "      input_sequence = desiredData[i:i+2]\n",
    "      output_target = desiredData[i+2]\n",
    "       \n",
    "      x_all.append(input_sequence)\n",
    "      y_all.append(output_target)\n",
    "\n",
    "      # for j in range(i+3, len(desiredData)):\n",
    "      #         subsequent_input = desiredData[i:j]\n",
    "      #         subsequent_output = desiredData[j]\n",
    "\n",
    "      #         x_all.append(subsequent_input)\n",
    "      #         y_all.append(subsequent_output)\n",
    "\n",
    "  # throw exception for midi data which can not be used\n",
    "  except UnsupportedMidiFileException:\n",
    "    print(\"nah\")\n",
    "\n",
    "n_notes = len(x_all) # 1503810\n",
    "print(check_pianoroll_dim(x_all)) \n",
    "print(len(y_all))\n",
    "# print(\"Number of files\",len(files))\n",
    "# print(\"n_notes!\",n_notes)"
   ]
  },
  {
   "cell_type": "code",
   "execution_count": 11,
   "metadata": {},
   "outputs": [],
   "source": [
    "input_data = np.array(x_all) # shape (30690, 2, 49) 30690 = 495*62\n",
    "output_data = np.array(y_all) # shape (30690, 49)  <class 'numpy.ndarray'>\n",
    "\n",
    "i_train, i_test = train_test_split(range(len(input_data)),test_size=int(len(input_data)/2)) \n",
    "# i_train len15345 type<list>: Inside [15340, 18372, 14977, 4270, 15527, 8407..// i_test len15345 type<list>: Inside [14555, 13355, 16794, 2034, 22187,..\n",
    "x_train = input_data[i_train] # <'numpy.ndarray'> shape (15345, 2, 49) [[[0. 0...  This operation extracts rows from input_data specified by the indices present in i_train.\n",
    "x_test = input_data[i_test] # <'numpy.ndarray'> shape (15345, 2, 49) [[[0. 0... For example, if i_train contains [0, 2, 4], input_data[i_train] will extract rows 0, 2, and 4 from input_data.\n",
    "\n",
    "y_train = output_data[i_train] # shape (15345, 49) [[0. 0. 0. ..\n",
    "y_test = output_data[i_test] # shape (15345, 49) [[0. 0. 0. ..\n",
    "\n",
    "# # <<<reshape>>>\n",
    "# x_train_reshaped = x_train.reshape(-1,2, 49)  # Reshape to sequences of 2 elements\n",
    "# x_test_reshaped = x_test.reshape(-1, 2, 49)\n",
    "# # Reshape y_train and y_test to match the output shape\n",
    "# y_train_reshaped = y_train.reshape(-1, 49)  # Reshape to target for each sequence\n",
    "# y_test_reshaped = y_test.reshape(-1, 49)"
   ]
  },
  {
   "cell_type": "code",
   "execution_count": 13,
   "metadata": {},
   "outputs": [
    {
     "name": "stdout",
     "output_type": "stream",
     "text": [
      "49\n"
     ]
    }
   ],
   "source": [
    "seq_length = x_train.shape[1] #int 2 # How many sequences for input features\n",
    "pitch_range = x_train.shape[2] # or simply int 49"
   ]
  },
  {
   "cell_type": "code",
   "execution_count": null,
   "metadata": {},
   "outputs": [],
   "source": [
    "# Create an LSTM model\n",
    "model = tf.keras.Sequential()\n",
    "model.add(tf.keras.layers.LSTM(units=64, input_shape=(seq_length, pitch_range)))  # Input shape corresponds to the reshaped data\n",
    "model.add(tf.keras.layers.Dense(pitch_range, activation='sigmoid'))  # Adjust the output units and activation based on your problem\n",
    "\n",
    "# Compile the model\n",
    "model.compile(optimizer='adam', loss='binary_crossentropy', metrics=['accuracy'])  # Adjust loss and metrics\n"
   ]
  },
  {
   "cell_type": "code",
   "execution_count": null,
   "metadata": {},
   "outputs": [],
   "source": [
    "# Train the model\n",
    "\n",
    "callbacks = [tf.keras.callbacks.ModelCheckpoint(\n",
    "        filepath=\"./training_checkpoints/ckpt_{epoch}\",\n",
    "        save_weights_only=True\n",
    "    ),\n",
    "    tf.keras.callbacks.EarlyStopping(\n",
    "        monitor=\"loss\",\n",
    "        patience=5,\n",
    "        verbose=1,\n",
    "        restore_best_weights=True\n",
    "    )]\n",
    "\n",
    "epochs = 50\n",
    "batch_size = 32\n",
    "\n",
    "model.evaluate(x_train, y_train, return_dict=True)\n",
    "\n",
    "history = model.fit(\n",
    "    x_train, y_train, \n",
    "    batch_size=batch_size, \n",
    "    epochs=epochs, \n",
    "    callbacks=callbacks,\n",
    "    validation_data=(x_test, y_test))"
   ]
  },
  {
   "cell_type": "code",
   "execution_count": null,
   "metadata": {},
   "outputs": [],
   "source": [
    "plt.plot(history.epoch, history.history['accuracy'], label='total loss')\n",
    "plt.show()"
   ]
  },
  {
   "cell_type": "code",
   "execution_count": null,
   "metadata": {},
   "outputs": [],
   "source": [
    "y_pred = model.predict(x_test) # shape (15345, 49) <class 'numpy.ndarray'>\n",
    "print(y_pred.shape)"
   ]
  },
  {
   "cell_type": "code",
   "execution_count": null,
   "metadata": {},
   "outputs": [],
   "source": [
    "\"\"\"Renamed as play_midi as the new viersion of the show_play func, \n",
    "<show> per se will be worked on later, maybe I want it to be a musical score\"\"\"\n",
    "\n",
    "_SAMPLING_RATE = 16000\n",
    "# make a fucntion to be able to do so\n",
    "def play_midi(x_test:np.array, y_pred: np.array, filename): #pianorolls shape(1,48)\n",
    "  \n",
    "  def make_midi(x_test:np.array, y_pred:np.array, filename): #pianorolls shape (1,48)\n",
    "      midi = pretty_midi.PrettyMIDI(resolution=480)\n",
    "      instr = pretty_midi.Instrument(program=1)\n",
    "      \n",
    "\n",
    "      for index, test_vector in enumerate(x_test): # done!\n",
    "        # print(\"test vec\",test_vector)\n",
    "        for i in range(len(test_vector)): # the test_vector shape is similar to prPred   \n",
    "            if test_vector[i] > 0.5:\n",
    "                print(\"x test idex!!\", i)\n",
    "                instr.notes.append(pretty_midi.Note(start=0.5*index,\n",
    "                                                        end=0.5*(index+1),\n",
    "                                                        pitch=36+i,\n",
    "                                                        velocity=100)) \n",
    "      for j in range(len(y_pred)): #range(0, 48)\n",
    "      # We are getting prob distribution between 0-1. Keep notes closer to 1, dump notes closer to 0\n",
    "      # 0.5 is only a threshold, coud be any number between 0-1 \n",
    "      # print(\"pr i\",pianoroll[i])\n",
    "        if y_pred[j] > 0.5: # check the TS note how it looks like\n",
    "            print(\"Got y value!!!!!!!\", y_pred[j])\n",
    "            # print(\"pianoroll>0.5\",pianoroll[i])\n",
    "            print(\"y pred index!!\",j)\n",
    "            duration_balance=0.5\n",
    "            instr.notes.append(pretty_midi.Note(start=(0.5*index)+duration_balance,\n",
    "                                                end=0.5*(index+1)+duration_balance,\n",
    "                                                pitch=36+j,\n",
    "                                            velocity=100)) \n",
    "                                         \n",
    "      midi.instruments.append(instr)\n",
    "      \n",
    "      midi.write(f\"{filename}.mid\")\n",
    "\n",
    "  \n",
    "  ##Save the midi data into a file, the file name is given in the next cell as output.midi\n",
    "  make_midi(x_test, y_pred, filename)\n",
    "\n",
    "  # Convert MIDI to Wav so that you can listen to it on web browser\n",
    "  fs = FluidSynth(sound_font=\"/Volumes/MAGIC1/FluidR3_GM/FluidR3_GM.sf2\")\n",
    "  fs.midi_to_audio(f\"{filename}.mid\", f\"{filename}.wav\")\n",
    "\n",
    "  ipd.display(ipd.Audio(f\"{filename}.wav\", rate=_SAMPLING_RATE))"
   ]
  },
  {
   "cell_type": "code",
   "execution_count": null,
   "metadata": {},
   "outputs": [],
   "source": [
    "k = random.randint(0, len(x_test))\n",
    "\n",
    "play_midi(x_test[k], y_pred[k],\n",
    "\"data/output_KP3\")"
   ]
  },
  {
   "cell_type": "markdown",
   "metadata": {},
   "source": [
    "### --Unused or test code below---"
   ]
  }
 ],
 "metadata": {
  "kernelspec": {
   "display_name": "venv",
   "language": "python",
   "name": "python3"
  },
  "language_info": {
   "codemirror_mode": {
    "name": "ipython",
    "version": 3
   },
   "file_extension": ".py",
   "mimetype": "text/x-python",
   "name": "python",
   "nbconvert_exporter": "python",
   "pygments_lexer": "ipython3",
   "version": "3.9.6"
  }
 },
 "nbformat": 4,
 "nbformat_minor": 2
}
